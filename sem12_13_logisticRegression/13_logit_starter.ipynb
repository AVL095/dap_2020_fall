{
 "cells": [
  {
   "cell_type": "markdown",
   "metadata": {},
   "source": [
    "# Вероятный семинар 13: Еее рок!!!\n"
   ]
  },
  {
   "cell_type": "markdown",
   "metadata": {},
   "source": [
    "![](https://img.libquotes.com/pic-quotes/v1/douglas-adams-quote-lbi0u1t.jpg)"
   ]
  },
  {
   "cell_type": "markdown",
   "metadata": {},
   "source": [
    "Тут мы импортируем все вкусности:"
   ]
  },
  {
   "cell_type": "code",
   "execution_count": 1,
   "metadata": {},
   "outputs": [],
   "source": [
    "import numpy as np\n",
    "import pandas as pd\n",
    "import seaborn as sns\n",
    "import matplotlib.pyplot as plt\n",
    "# from scipy import stats \n",
    "# import statsmodels.formula.api as smf\n",
    "from sklearn.linear_model import LogisticRegression, LinearRegression\n",
    "from sklearn.model_selection import train_test_split\n",
    "from sklearn.metrics import roc_curve, auc, precision_recall_curve, confusion_matrix\n",
    "from sklearn.metrics import plot_precision_recall_curve, plot_roc_curve"
   ]
  },
  {
   "cell_type": "markdown",
   "metadata": {},
   "source": [
    "### Задачина 1\n",
    "\n",
    "![](https://upload.wikimedia.org/wikipedia/en/a/a6/Pok%C3%A9mon_Pikachu_art.png)\n",
    "\n",
    "1. Загрузи данные по покемонам, `pokemon.csv`.\n",
    "\n",
    "2. Подели данные на обучающую и тестовую выборки в пропорции 80 на 20. Не забудь зафиксировать зерно генератора случайных чисел! Кстати, зачем фиксируют зерно генератора?\n",
    "\n",
    "3. Оцени параметры логистической регрессии:\n",
    "\n",
    "$$P(legendary_i=1|attack_i, defense_i, speed_i)=\\Lambda(\\beta_1 + \\beta_2 attack_i +\\beta_3 defense_i +\\beta_4 speed_i)$$.\n",
    "\n",
    "4. Найди для каждого покемона прогноз вероятности быть легендарным (на обеих выборках).  \n",
    "\n",
    "5. Построй на одном графике две наложенные плотности предсказанных вероятностей (для легендарных и обычных покемонов) на обучающей выборке. \n",
    "\n",
    "6. Пара вопросов по графику. Правда ли, что для легендарных покемонов спрогнозированные вероятности в среднем выше? Существует ли возможность выбрать порог, при котором легендарные идеально отличались бы от обычных покемонов?\n",
    "\n",
    "Легендарных покемонов мало, поэтому разумно строить именно плотности, чтобы нормировка площади у легендарных и нелегендарных на единицу выходила своя :)\n",
    "\n",
    "7. И построй аналогичный график для тестовой выборки."
   ]
  },
  {
   "cell_type": "code",
   "execution_count": null,
   "metadata": {},
   "outputs": [],
   "source": []
  },
  {
   "cell_type": "code",
   "execution_count": null,
   "metadata": {},
   "outputs": [],
   "source": []
  },
  {
   "cell_type": "code",
   "execution_count": null,
   "metadata": {},
   "outputs": [],
   "source": []
  },
  {
   "cell_type": "code",
   "execution_count": null,
   "metadata": {},
   "outputs": [],
   "source": []
  },
  {
   "cell_type": "code",
   "execution_count": null,
   "metadata": {},
   "outputs": [],
   "source": []
  },
  {
   "cell_type": "code",
   "execution_count": null,
   "metadata": {},
   "outputs": [],
   "source": []
  },
  {
   "cell_type": "markdown",
   "metadata": {},
   "source": [
    "### Задачилла 2.\n",
    "\n",
    "1. Оцени параметры обычной регрессии регрессии:\n",
    "\n",
    "$$P(legendary_i=1|attack_i, defense_i, speed_i)= \\beta_1 + \\beta_2 attack_i +\\beta_3 defense_i +\\beta_4 speed_i + u_i$$.\n",
    "\n",
    "2. Найди для каждого покемона прогноз вероятности быть легендарным (на обеих выборках).  \n",
    "\n",
    "3. Построй на одном графике две наложенные плотности предсказанных вероятностей (для легендарных и обычных покемонов) на обучающей выборке. \n",
    "\n",
    "4. Пара вопросов по графику. Правда ли, что для легендарных покемонов спрогнозированные вероятности в среднем выше? Существует ли возможность выбрать порог, при котором легендарные идеально отличались бы от обычных покемонов?\n",
    "\n",
    "Легендарных покемонов мало, поэтому разумно строить именно плотности, чтобы нормировка площади у легендарных и нелегендарных на единицу выходила своя :)\n",
    "\n",
    "5. И построй аналогичный график для тестовой выборки.\n"
   ]
  },
  {
   "cell_type": "code",
   "execution_count": null,
   "metadata": {},
   "outputs": [],
   "source": []
  },
  {
   "cell_type": "code",
   "execution_count": null,
   "metadata": {},
   "outputs": [],
   "source": []
  },
  {
   "cell_type": "code",
   "execution_count": null,
   "metadata": {},
   "outputs": [],
   "source": []
  },
  {
   "cell_type": "markdown",
   "metadata": {},
   "source": [
    "### Задачадища 3"
   ]
  },
  {
   "cell_type": "markdown",
   "metadata": {},
   "source": [
    "Рассмотри модель логистической регрессии. \n",
    "\n",
    "1. Прочти про тпр, фпр и пр. и пр. [https://en.wikipedia.org/wiki/Receiver_operating_characteristic](https://en.wikipedia.org/wiki/Receiver_operating_characteristic)\n",
    "\n",
    "2. Составь таблицу сопряженности по тестовым данным для порога 0.5, а потом для порога 0.8. \n",
    "\n",
    "3. Что происходит с TPR, FPR, TNR, FNR, чувствительностью, специфичностью, точностью и полнотой при росте порога?\n",
    "\n",
    "4. Построй ROC-кривую и кривую точность-полнота. \n",
    "\n",
    "\n",
    "\n"
   ]
  },
  {
   "cell_type": "code",
   "execution_count": null,
   "metadata": {},
   "outputs": [],
   "source": []
  },
  {
   "cell_type": "code",
   "execution_count": null,
   "metadata": {},
   "outputs": [],
   "source": []
  },
  {
   "cell_type": "code",
   "execution_count": null,
   "metadata": {},
   "outputs": [],
   "source": []
  },
  {
   "cell_type": "code",
   "execution_count": null,
   "metadata": {},
   "outputs": [],
   "source": []
  },
  {
   "cell_type": "code",
   "execution_count": null,
   "metadata": {},
   "outputs": [],
   "source": []
  },
  {
   "cell_type": "markdown",
   "metadata": {},
   "source": [
    "### Задачудище 4\n",
    "\n",
    "1. Найди таблички сопряженности для порога 0.5 и 0.8 для прогнозов на тестовой выборке с помощью обычной регрессии. \n",
    "\n",
    "2. Построй ROC-кривую и кривую точность-полнота для обычной регрессии.\n",
    "\n",
    "2. Сравни качество обычной регрессии и логит-регрессии. "
   ]
  },
  {
   "cell_type": "code",
   "execution_count": null,
   "metadata": {},
   "outputs": [],
   "source": []
  },
  {
   "cell_type": "code",
   "execution_count": null,
   "metadata": {},
   "outputs": [],
   "source": []
  },
  {
   "cell_type": "code",
   "execution_count": null,
   "metadata": {},
   "outputs": [],
   "source": []
  },
  {
   "cell_type": "code",
   "execution_count": null,
   "metadata": {},
   "outputs": [],
   "source": []
  },
  {
   "cell_type": "markdown",
   "metadata": {},
   "source": [
    "### Задачища n+4\n",
    "\n",
    "1. Посмотри няшную визуализацию про ROC-кривую от Насти Чирковой, [https://kawaiiuroboros.github.io/roc-auc/](https://kawaiiuroboros.github.io/roc-auc/)\n",
    "\n",
    "2. Что отложено по горизонтали и вертикали на левом и правом графике?\n",
    "\n",
    "3. При каких условиях в визуализации AUC меньше половины?\n",
    "\n",
    "4. Почему на практике редко складывается ситуация, когда AUC меньше половины?"
   ]
  },
  {
   "cell_type": "code",
   "execution_count": null,
   "metadata": {},
   "outputs": [],
   "source": []
  },
  {
   "cell_type": "code",
   "execution_count": null,
   "metadata": {},
   "outputs": [],
   "source": []
  },
  {
   "cell_type": "code",
   "execution_count": null,
   "metadata": {},
   "outputs": [],
   "source": []
  }
 ],
 "metadata": {
  "kernelspec": {
   "display_name": "Python 3",
   "language": "python",
   "name": "python3"
  },
  "language_info": {
   "codemirror_mode": {
    "name": "ipython",
    "version": 3
   },
   "file_extension": ".py",
   "mimetype": "text/x-python",
   "name": "python",
   "nbconvert_exporter": "python",
   "pygments_lexer": "ipython3",
   "version": "3.7.3"
  }
 },
 "nbformat": 4,
 "nbformat_minor": 4
}
