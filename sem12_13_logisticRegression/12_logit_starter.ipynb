{
 "cells": [
  {
   "cell_type": "markdown",
   "metadata": {},
   "source": [
    "# Невероятный семинар 12\n"
   ]
  },
  {
   "cell_type": "markdown",
   "metadata": {},
   "source": [
    "![](https://img.libquotes.com/pic-quotes/v1/douglas-adams-quote-lbi0u1t.jpg)"
   ]
  },
  {
   "cell_type": "markdown",
   "metadata": {},
   "source": [
    "Тут мы импортируем все вкусности:"
   ]
  },
  {
   "cell_type": "code",
   "execution_count": 7,
   "metadata": {},
   "outputs": [],
   "source": [
    "import numpy as np\n",
    "import pandas as pd\n",
    "import seaborn as sns\n",
    "import matplotlib.pyplot as plt\n",
    "from scipy import stats \n",
    "from scipy.optimize import minimize\n",
    "import statsmodels.formula.api as smf\n",
    "from sklearn.linear_model import LogisticRegression\n",
    "from scipy.special import expit"
   ]
  },
  {
   "cell_type": "markdown",
   "metadata": {},
   "source": [
    "### Задачунька 1. \n",
    "\n",
    "Винни-Пух висит напротив дупла с неправильными пчёлами на воздушном шарике. Пятачок выстрелил по шарику 10 раз. При этом он 3 раза попал в Винни-Пуха и 7 раз промазал как мимо шарика, так и мимо Пуха.\n",
    "\n",
    "Выстрелы Пятачка независимы. Вероятность попадания в Винни-Пуха равна неизвестному параметру $p$. \n",
    "\n",
    "1. Напиши функцию `likelihood`, которая при данном $p$ выдаёт вероятность попасть 3 раза и промазать 7 раз. Эта функция называется **функцией правдоподобия** имеющихся наблюдений.\n",
    "\n",
    "2. Построй график функции и график логарифма этой функции на двух отдельных графиках. \n",
    "\n",
    "3. По графикам определи, при каком $p$ функция `likelihood` достигает своего максимума. Назовём данную величину оценкой максимального правдоподобия и обозначим $\\hat p$.\n",
    "\n",
    "4. Найди минимум написанной тобой функции `likelihood` с помощью питона. Помочь может функция для минизации функций, `minimize`.\n",
    "\n",
    "5. Без всякого кода словами поясни, почему $\\hat p$ не обязано равняться истинному $p$."
   ]
  },
  {
   "cell_type": "code",
   "execution_count": null,
   "metadata": {},
   "outputs": [],
   "source": []
  },
  {
   "cell_type": "code",
   "execution_count": null,
   "metadata": {},
   "outputs": [],
   "source": []
  },
  {
   "cell_type": "code",
   "execution_count": null,
   "metadata": {},
   "outputs": [],
   "source": []
  },
  {
   "cell_type": "code",
   "execution_count": null,
   "metadata": {},
   "outputs": [],
   "source": []
  },
  {
   "cell_type": "markdown",
   "metadata": {},
   "source": [
    "### Задачулька 2.\n",
    "\n",
    "Построй график функции $\\Lambda(t) = \\exp(t)/(1+\\exp(t))$.\n",
    "\n",
    "По графику ответь на вопросы:\n",
    "\n",
    "1. Монотонна ли функция?\n",
    "\n",
    "1. Чему равны её пределы справа и слева?\n",
    "\n",
    "1. Относительно какой точки симметричен график?\n",
    "\n",
    "1. Какие значения принимает функция при произвольных $t$?\n",
    "\n",
    "Подсказочка: Можно взять готовую функцию `expit`."
   ]
  },
  {
   "cell_type": "code",
   "execution_count": null,
   "metadata": {},
   "outputs": [],
   "source": []
  },
  {
   "cell_type": "code",
   "execution_count": null,
   "metadata": {},
   "outputs": [],
   "source": []
  },
  {
   "cell_type": "markdown",
   "metadata": {},
   "source": [
    "### Задаченция 3.\n",
    "\n",
    "[Как известно](https://www.livelib.ru/quote/305456-malysh-i-karlson-kotoryj-zhivet-na-kryshe-astrid-lindgren), Фрекен Бок пьёт коньяк по утрам.\n",
    "\n",
    "![](http://semyarf.com/UPLOAD/2016/01/21/frekenbok-216_700_0.jpg)\n",
    "\n",
    "А у нас даже есть дневные данные (в граммах) $cognac$ и информация о том, видела ли  Фрекен Бок в этот день привидения, $ghost$:"
   ]
  },
  {
   "cell_type": "code",
   "execution_count": 44,
   "metadata": {},
   "outputs": [
    {
     "data": {
      "text/html": [
       "<div>\n",
       "<style scoped>\n",
       "    .dataframe tbody tr th:only-of-type {\n",
       "        vertical-align: middle;\n",
       "    }\n",
       "\n",
       "    .dataframe tbody tr th {\n",
       "        vertical-align: top;\n",
       "    }\n",
       "\n",
       "    .dataframe thead th {\n",
       "        text-align: right;\n",
       "    }\n",
       "</style>\n",
       "<table border=\"1\" class=\"dataframe\">\n",
       "  <thead>\n",
       "    <tr style=\"text-align: right;\">\n",
       "      <th></th>\n",
       "      <th>cognac</th>\n",
       "      <th>ghost</th>\n",
       "    </tr>\n",
       "  </thead>\n",
       "  <tbody>\n",
       "    <tr>\n",
       "      <th>0</th>\n",
       "      <td>3.2</td>\n",
       "      <td>1</td>\n",
       "    </tr>\n",
       "    <tr>\n",
       "      <th>1</th>\n",
       "      <td>7.9</td>\n",
       "      <td>1</td>\n",
       "    </tr>\n",
       "    <tr>\n",
       "      <th>2</th>\n",
       "      <td>5.4</td>\n",
       "      <td>0</td>\n",
       "    </tr>\n",
       "    <tr>\n",
       "      <th>3</th>\n",
       "      <td>4.9</td>\n",
       "      <td>0</td>\n",
       "    </tr>\n",
       "    <tr>\n",
       "      <th>4</th>\n",
       "      <td>6.2</td>\n",
       "      <td>1</td>\n",
       "    </tr>\n",
       "    <tr>\n",
       "      <th>5</th>\n",
       "      <td>4.3</td>\n",
       "      <td>1</td>\n",
       "    </tr>\n",
       "  </tbody>\n",
       "</table>\n",
       "</div>"
      ],
      "text/plain": [
       "   cognac  ghost\n",
       "0     3.2      1\n",
       "1     7.9      1\n",
       "2     5.4      0\n",
       "3     4.9      0\n",
       "4     6.2      1\n",
       "5     4.3      1"
      ]
     },
     "execution_count": 44,
     "metadata": {},
     "output_type": "execute_result"
    }
   ],
   "source": [
    "fbock = pd.DataFrame({'cognac': [3.2, 7.9, 5.4, 4.9, 6.2, 4.3], 'ghost': [1, 1, 0, 0, 1, 1]})\n",
    "fbock"
   ]
  },
  {
   "cell_type": "markdown",
   "metadata": {},
   "source": [
    "Мы предположим, что вероятность увидеть привидение имеет вид \n",
    "$$P(ghost_i=1|cognac_i)=\\Lambda(\\beta_1 + \\beta_2 cognac_i)$$\n",
    "\n",
    "1. Без всякого кода поясни, зачем тут понадобилась функция $\\Lambda$, почему нельзя было обойтись без неё?\n",
    "\n",
    "2. Напиши функцию правдоподобия `likelihood_fbock`, то есть функцию, которая будет на вход принимать вектор параметров $\\beta$, а на выход выдавать вероятность имеющегося вектора $ghost$.\n",
    "\n",
    "3. Найди максимум логарифма функции правдоподобия с помощью `minimize`. То есть найди оценки максимального правдоподобия $\\hat\\beta_1$ и $\\hat\\beta_2$.\n",
    "\n",
    "4. Для полученных тобой  $\\hat\\beta_1$ и $\\hat\\beta_2$ построй график вероятности увидеть привидение в зависимости от количества выпитого коньяка."
   ]
  },
  {
   "cell_type": "code",
   "execution_count": null,
   "metadata": {},
   "outputs": [],
   "source": []
  },
  {
   "cell_type": "code",
   "execution_count": null,
   "metadata": {},
   "outputs": [],
   "source": []
  },
  {
   "cell_type": "code",
   "execution_count": null,
   "metadata": {},
   "outputs": [],
   "source": []
  },
  {
   "cell_type": "markdown",
   "metadata": {},
   "source": [
    "### Задачушечка 4.\n",
    "\n",
    "Решая задачу 3 ты оценил параметры логистической регрессии методом максимального правдоподобия. Логистическая регрессия является широко известным алгоритмом, для которого в питоне есть много реализаций. Настала пора воспользоваться готовыми!\n",
    "\n",
    "1. Получи оценки $\\hat\\beta_1$ и $\\hat\\beta_2$ по данным о Фрекен Бок с помощью `LinearRegression` из `sklearn.linear_models`.\n",
    "\n",
    "2. Получи оценки $\\hat\\beta_1$ и $\\hat\\beta_2$ по данным о Фрекен Бок с помощью `logit` из `statsmodels.formula.api`.\n",
    "\n"
   ]
  },
  {
   "cell_type": "code",
   "execution_count": null,
   "metadata": {},
   "outputs": [],
   "source": []
  },
  {
   "cell_type": "code",
   "execution_count": null,
   "metadata": {},
   "outputs": [],
   "source": []
  },
  {
   "cell_type": "markdown",
   "metadata": {},
   "source": [
    "### Задачуленция 5.\n",
    "\n",
    "![](https://upload.wikimedia.org/wikipedia/en/a/a6/Pok%C3%A9mon_Pikachu_art.png)\n",
    "\n",
    "1. Загрузи данные по покемонам, `pokemon.csv`. Сколько всего наблюдений? Переменных?\n",
    "\n",
    "2. Посмотри на описательные статистики. В каких пределах лежат `attack`, `defense` и `speed`?\n",
    "\n",
    "3. Построй гистограммы силы атаки для легендарных и нелегандарных покемонов на одном графике. \n",
    "\n",
    "4. Построй аналогичные два графика для силы защиты и скорости. На каждом графике должны быть наложены две гистограммы: для легендарных и нелегендарных покемонов. \n",
    "\n",
    "5. Оцени параметры логистической регрессии:\n",
    "\n",
    "$$P(legendary_i=1|attack_i, defense_i, speed_i)=\\Lambda(\\beta_1 + \\beta_2 attack_i +\\beta_3 defense_i +\\beta_4 speed_i)$$\n",
    "\n",
    "6. Оцени вероятность покемона с атакой 60, защитой 70 и скоростью 140 быть легендарным с помощью найденных тобой $\\hat\\beta_1$, $\\hat\\beta_2$, $\\hat\\beta_3$, $\\hat\\beta_4$.\n"
   ]
  },
  {
   "cell_type": "code",
   "execution_count": null,
   "metadata": {},
   "outputs": [],
   "source": []
  },
  {
   "cell_type": "code",
   "execution_count": null,
   "metadata": {},
   "outputs": [],
   "source": []
  },
  {
   "cell_type": "code",
   "execution_count": null,
   "metadata": {},
   "outputs": [],
   "source": []
  }
 ],
 "metadata": {
  "kernelspec": {
   "display_name": "Python 3",
   "language": "python",
   "name": "python3"
  },
  "language_info": {
   "codemirror_mode": {
    "name": "ipython",
    "version": 3
   },
   "file_extension": ".py",
   "mimetype": "text/x-python",
   "name": "python",
   "nbconvert_exporter": "python",
   "pygments_lexer": "ipython3",
   "version": "3.7.3"
  }
 },
 "nbformat": 4,
 "nbformat_minor": 4
}
