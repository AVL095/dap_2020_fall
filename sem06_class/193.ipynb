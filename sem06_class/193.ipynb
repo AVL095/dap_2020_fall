{
 "cells": [
  {
   "cell_type": "code",
   "execution_count": 1,
   "metadata": {},
   "outputs": [
    {
     "data": {
      "text/plain": [
       "array([1, 2, 3, 4, 5, 6, 7, 8, 9])"
      ]
     },
     "execution_count": 1,
     "metadata": {},
     "output_type": "execute_result"
    }
   ],
   "source": [
    "import numpy as np\n",
    "x = np.arange(1,10)\n",
    "x"
   ]
  },
  {
   "cell_type": "code",
   "execution_count": 34,
   "metadata": {},
   "outputs": [
    {
     "data": {
      "text/plain": [
       "array([4, 6, 9])"
      ]
     },
     "execution_count": 34,
     "metadata": {},
     "output_type": "execute_result"
    }
   ],
   "source": [
    "a = np.array([1,2,4])\n",
    "b = np.array([3,4,5])\n",
    "a + b"
   ]
  },
  {
   "cell_type": "raw",
   "metadata": {},
   "source": [
    "kartoshak.jarit()  # метод\n",
    "jarit(kartoshak)   # функция"
   ]
  },
  {
   "cell_type": "code",
   "execution_count": 2,
   "metadata": {},
   "outputs": [
    {
     "data": {
      "text/plain": [
       "5.0"
      ]
     },
     "execution_count": 2,
     "metadata": {},
     "output_type": "execute_result"
    }
   ],
   "source": [
    "np.mean(x) "
   ]
  },
  {
   "cell_type": "code",
   "execution_count": 3,
   "metadata": {},
   "outputs": [
    {
     "data": {
      "text/plain": [
       "5.0"
      ]
     },
     "execution_count": 3,
     "metadata": {},
     "output_type": "execute_result"
    }
   ],
   "source": [
    "x.mean()"
   ]
  },
  {
   "cell_type": "code",
   "execution_count": 13,
   "metadata": {},
   "outputs": [
    {
     "data": {
      "text/plain": [
       "array([7, 9, 1, 3, 2, 0, 6, 5, 4, 8])"
      ]
     },
     "execution_count": 13,
     "metadata": {},
     "output_type": "execute_result"
    }
   ],
   "source": [
    "x = np.arange(10)\n",
    "np.random.shuffle(x)\n",
    "x"
   ]
  },
  {
   "cell_type": "code",
   "execution_count": 36,
   "metadata": {},
   "outputs": [
    {
     "data": {
      "text/plain": [
       "array([0, 1, 2, 3, 4, 5, 6, 7, 8, 9])"
      ]
     },
     "execution_count": 36,
     "metadata": {},
     "output_type": "execute_result"
    }
   ],
   "source": [
    "np.arange(10)"
   ]
  },
  {
   "cell_type": "code",
   "execution_count": 37,
   "metadata": {},
   "outputs": [
    {
     "data": {
      "text/plain": [
       "2"
      ]
     },
     "execution_count": 37,
     "metadata": {},
     "output_type": "execute_result"
    }
   ],
   "source": [
    "np.sum(x == np.arange(10))"
   ]
  },
  {
   "cell_type": "code",
   "execution_count": 40,
   "metadata": {},
   "outputs": [
    {
     "data": {
      "text/plain": [
       "False"
      ]
     },
     "execution_count": 40,
     "metadata": {},
     "output_type": "execute_result"
    }
   ],
   "source": [
    "i = 5\n",
    "j = 8\n",
    "(x[i] == j)&(x[j] == i)"
   ]
  },
  {
   "cell_type": "code",
   "execution_count": 42,
   "metadata": {},
   "outputs": [
    {
     "data": {
      "text/plain": [
       "False"
      ]
     },
     "execution_count": 42,
     "metadata": {},
     "output_type": "execute_result"
    }
   ],
   "source": [
    "x[x[i]] == i"
   ]
  },
  {
   "cell_type": "code",
   "execution_count": null,
   "metadata": {},
   "outputs": [],
   "source": [
    "x[np.arange()]"
   ]
  },
  {
   "cell_type": "code",
   "execution_count": 96,
   "metadata": {},
   "outputs": [
    {
     "data": {
      "text/plain": [
       "array([1., 1., 1., 1., 1., 1., 1., 1., 1., 1.])"
      ]
     },
     "execution_count": 96,
     "metadata": {},
     "output_type": "execute_result"
    }
   ],
   "source": [
    "np.ones(10)"
   ]
  },
  {
   "cell_type": "code",
   "execution_count": 98,
   "metadata": {},
   "outputs": [
    {
     "data": {
      "text/plain": [
       "array([[7., 0., 0., 0., 0.],\n",
       "       [0., 7., 0., 0., 0.],\n",
       "       [0., 0., 7., 0., 0.],\n",
       "       [0., 0., 0., 7., 0.],\n",
       "       [0., 0., 0., 0., 7.]])"
      ]
     },
     "execution_count": 98,
     "metadata": {},
     "output_type": "execute_result"
    }
   ],
   "source": [
    "7*np.eye(5)"
   ]
  },
  {
   "cell_type": "code",
   "execution_count": 113,
   "metadata": {},
   "outputs": [],
   "source": [
    "class Killer():\n",
    "    # функция конструктор, вызывается \n",
    "    # каждый раз при создании новой игры \n",
    "    \n",
    "    def __init__(self, n):\n",
    "        # self - \"обращиение к самому себе\"\n",
    "        self.n = n\n",
    "        self.razdacha = None # раздачи нет, но будет\n",
    "        self.reward = np.zeros(n)\n",
    "        self.is_alive = np.ones(n)\n",
    "        \n",
    "    def first_step(self):\n",
    "        x = np.arange(self.n)\n",
    "        np.random.shuffle(x)\n",
    "        self.razdacha = x\n",
    "        \n",
    "    def suicide_cnt(self):\n",
    "        cnt = np.sum(self.razdacha == np.arange(self.n))\n",
    "        return cnt\n",
    "    \n",
    "    # находится ли конкретный человек в мэтчинге\n",
    "    def is_matching(self, i):\n",
    "        return x[x[i]] == i\n",
    "    \n",
    "    def matching_cnt(self):\n",
    "        y = self.razdacha[np.arange(self.n)] # номера жертв\n",
    "        y = self.razdacha[y] # номера тех, кого хотят убить жертвы\n",
    "        # совпадает ли жертва жертвы с убийцей\n",
    "        cnt = np.sum(y == np.arange(self.n))\n",
    "        return cnt - self.suicide_cnt()\n",
    "    \n",
    "    def game_step(self):\n",
    "        candidates = np.arange(self.n)[self.is_alive == 1]\n",
    "        u = np.random.choice(candidates)\n",
    "        z = self.razdacha[u]\n",
    "        self.is_alive[z] = 0\n",
    "        self.reward[u] += 1\n",
    "        # отдаём жертву убитого убийце\n",
    "        self.razdacha[u] = self.razdacha[z]\n",
    "        \n",
    "        print(self.razdacha)\n",
    "        print(self.is_alive)\n",
    "        print(self.reward)\n",
    "        print(' ')\n",
    "        \n",
    "    def play_game(self):\n",
    "        while np.sum(self.is_alive) > 0:\n",
    "            self.game_step()\n",
    "        \n"
   ]
  },
  {
   "cell_type": "code",
   "execution_count": 114,
   "metadata": {},
   "outputs": [
    {
     "name": "stdout",
     "output_type": "stream",
     "text": [
      "[2 1 3 9 0 8 6 4 5 7]\n",
      " \n",
      "[2 1 3 9 2 8 6 4 5 7]\n",
      "[0. 1. 1. 1. 1. 1. 1. 1. 1. 1.]\n",
      "[0. 0. 0. 0. 1. 0. 0. 0. 0. 0.]\n",
      " \n",
      "[2 1 3 9 2 8 6 4 8 7]\n",
      "[0. 1. 1. 1. 1. 0. 1. 1. 1. 1.]\n",
      "[0. 0. 0. 0. 1. 0. 0. 0. 1. 0.]\n",
      " \n",
      "[2 1 3 9 2 8 6 2 8 7]\n",
      "[0. 1. 1. 1. 0. 0. 1. 1. 1. 1.]\n",
      "[0. 0. 0. 0. 1. 0. 0. 1. 1. 0.]\n",
      " \n",
      "[2 1 3 9 2 8 6 2 8 2]\n",
      "[0. 1. 1. 1. 0. 0. 1. 0. 1. 1.]\n",
      "[0. 0. 0. 0. 1. 0. 0. 1. 1. 1.]\n",
      " \n",
      "[2 1 3 2 2 8 6 2 8 2]\n",
      "[0. 1. 1. 1. 0. 0. 1. 0. 1. 0.]\n",
      "[0. 0. 0. 1. 1. 0. 0. 1. 1. 1.]\n",
      " \n",
      "[2 1 3 2 2 8 6 2 8 2]\n",
      "[0. 0. 1. 1. 0. 0. 1. 0. 1. 0.]\n",
      "[0. 1. 0. 1. 1. 0. 0. 1. 1. 1.]\n",
      " \n",
      "[2 1 3 3 2 8 6 2 8 2]\n",
      "[0. 0. 0. 1. 0. 0. 1. 0. 1. 0.]\n",
      "[0. 1. 0. 2. 1. 0. 0. 1. 1. 1.]\n",
      " \n",
      "[2 1 3 3 2 8 6 2 8 2]\n",
      "[0. 0. 0. 0. 0. 0. 1. 0. 1. 0.]\n",
      "[0. 1. 0. 3. 1. 0. 0. 1. 1. 1.]\n",
      " \n",
      "[2 1 3 3 2 8 6 2 8 2]\n",
      "[0. 0. 0. 0. 0. 0. 0. 0. 1. 0.]\n",
      "[0. 1. 0. 3. 1. 0. 1. 1. 1. 1.]\n",
      " \n",
      "[2 1 3 3 2 8 6 2 8 2]\n",
      "[0. 0. 0. 0. 0. 0. 0. 0. 0. 0.]\n",
      "[0. 1. 0. 3. 1. 0. 1. 1. 2. 1.]\n",
      " \n"
     ]
    }
   ],
   "source": [
    "game = Killer(10)\n",
    "game.first_step()\n",
    "print(game.razdacha)\n",
    "print(' ')\n",
    "game.play_game()"
   ]
  },
  {
   "cell_type": "code",
   "execution_count": 95,
   "metadata": {},
   "outputs": [
    {
     "data": {
      "text/plain": [
       "4"
      ]
     },
     "execution_count": 95,
     "metadata": {},
     "output_type": "execute_result"
    }
   ],
   "source": [
    "game.matching_cnt()"
   ]
  },
  {
   "cell_type": "code",
   "execution_count": 93,
   "metadata": {},
   "outputs": [
    {
     "data": {
      "text/plain": [
       "array([5, 1, 2, 8, 6, 3, 0, 4, 9, 7])"
      ]
     },
     "execution_count": 93,
     "metadata": {},
     "output_type": "execute_result"
    }
   ],
   "source": [
    "game.razdacha"
   ]
  },
  {
   "cell_type": "code",
   "execution_count": 76,
   "metadata": {},
   "outputs": [
    {
     "data": {
      "text/plain": [
       "2"
      ]
     },
     "execution_count": 76,
     "metadata": {},
     "output_type": "execute_result"
    }
   ],
   "source": [
    "game.suicide_cnt()"
   ]
  },
  {
   "cell_type": "code",
   "execution_count": null,
   "metadata": {},
   "outputs": [],
   "source": [
    "from tqdm import tqdm_notebook"
   ]
  },
  {
   "cell_type": "code",
   "execution_count": 87,
   "metadata": {},
   "outputs": [
    {
     "name": "stderr",
     "output_type": "stream",
     "text": [
      "100%|██████████| 100000/100000 [00:04<00:00, 23537.73it/s]\n"
     ]
    }
   ],
   "source": [
    "n_obs = 10**5\n",
    "x = np.zeros(n_obs)\n",
    "y = np.zeros(n_obs)\n",
    "\n",
    "for i in tqdm_notebook(range(n_obs)):\n",
    "    game = Killer(100)\n",
    "    game.first_step()\n",
    "    x[i] = game.suicide_cnt()\n",
    "    y[i] = game.matching_cnt()"
   ]
  },
  {
   "cell_type": "code",
   "execution_count": 89,
   "metadata": {},
   "outputs": [
    {
     "data": {
      "text/plain": [
       "0.99531"
      ]
     },
     "execution_count": 89,
     "metadata": {},
     "output_type": "execute_result"
    }
   ],
   "source": [
    "np.mean(x)"
   ]
  },
  {
   "cell_type": "code",
   "execution_count": 90,
   "metadata": {},
   "outputs": [
    {
     "data": {
      "text/plain": [
       "1.00036"
      ]
     },
     "execution_count": 90,
     "metadata": {},
     "output_type": "execute_result"
    }
   ],
   "source": [
    "np.mean(y)"
   ]
  },
  {
   "cell_type": "markdown",
   "metadata": {},
   "source": [
    " "
   ]
  }
 ],
 "metadata": {
  "kernelspec": {
   "display_name": "Python 3",
   "language": "python",
   "name": "python3"
  },
  "language_info": {
   "codemirror_mode": {
    "name": "ipython",
    "version": 3
   },
   "file_extension": ".py",
   "mimetype": "text/x-python",
   "name": "python",
   "nbconvert_exporter": "python",
   "pygments_lexer": "ipython3",
   "version": "3.8.6"
  }
 },
 "nbformat": 4,
 "nbformat_minor": 2
}
