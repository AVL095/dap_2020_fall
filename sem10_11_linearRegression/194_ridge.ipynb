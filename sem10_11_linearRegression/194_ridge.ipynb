{
 "cells": [
  {
   "cell_type": "markdown",
   "metadata": {},
   "source": [
    "# Регуляризация "
   ]
  },
  {
   "cell_type": "markdown",
   "metadata": {},
   "source": [
    "Отстраненные штуки:"
   ]
  },
  {
   "cell_type": "code",
   "execution_count": null,
   "metadata": {},
   "outputs": [],
   "source": [
    "def f(x):\n",
    "    \"\"\"\n",
    "        Документации не будет, ахахах\n",
    "    \"\"\"\n",
    "    return x**2\n",
    "\n",
    "f()"
   ]
  },
  {
   "cell_type": "markdown",
   "metadata": {},
   "source": [
    "Основные штуки: "
   ]
  },
  {
   "cell_type": "code",
   "execution_count": 1,
   "metadata": {},
   "outputs": [
    {
     "data": {
      "text/html": [
       "<div>\n",
       "<style scoped>\n",
       "    .dataframe tbody tr th:only-of-type {\n",
       "        vertical-align: middle;\n",
       "    }\n",
       "\n",
       "    .dataframe tbody tr th {\n",
       "        vertical-align: top;\n",
       "    }\n",
       "\n",
       "    .dataframe thead th {\n",
       "        text-align: right;\n",
       "    }\n",
       "</style>\n",
       "<table border=\"1\" class=\"dataframe\">\n",
       "  <thead>\n",
       "    <tr style=\"text-align: right;\">\n",
       "      <th></th>\n",
       "      <th>TV</th>\n",
       "      <th>Radio</th>\n",
       "      <th>Newspaper</th>\n",
       "      <th>Sales</th>\n",
       "    </tr>\n",
       "  </thead>\n",
       "  <tbody>\n",
       "    <tr>\n",
       "      <th>1</th>\n",
       "      <td>230.1</td>\n",
       "      <td>37.8</td>\n",
       "      <td>69.2</td>\n",
       "      <td>22.1</td>\n",
       "    </tr>\n",
       "    <tr>\n",
       "      <th>2</th>\n",
       "      <td>44.5</td>\n",
       "      <td>39.3</td>\n",
       "      <td>45.1</td>\n",
       "      <td>10.4</td>\n",
       "    </tr>\n",
       "    <tr>\n",
       "      <th>3</th>\n",
       "      <td>17.2</td>\n",
       "      <td>45.9</td>\n",
       "      <td>69.3</td>\n",
       "      <td>9.3</td>\n",
       "    </tr>\n",
       "    <tr>\n",
       "      <th>4</th>\n",
       "      <td>151.5</td>\n",
       "      <td>41.3</td>\n",
       "      <td>58.5</td>\n",
       "      <td>18.5</td>\n",
       "    </tr>\n",
       "    <tr>\n",
       "      <th>5</th>\n",
       "      <td>180.8</td>\n",
       "      <td>10.8</td>\n",
       "      <td>58.4</td>\n",
       "      <td>12.9</td>\n",
       "    </tr>\n",
       "  </tbody>\n",
       "</table>\n",
       "</div>"
      ],
      "text/plain": [
       "      TV  Radio  Newspaper  Sales\n",
       "1  230.1   37.8       69.2   22.1\n",
       "2   44.5   39.3       45.1   10.4\n",
       "3   17.2   45.9       69.3    9.3\n",
       "4  151.5   41.3       58.5   18.5\n",
       "5  180.8   10.8       58.4   12.9"
      ]
     },
     "execution_count": 1,
     "metadata": {},
     "output_type": "execute_result"
    }
   ],
   "source": [
    "import pandas as pd\n",
    "import numpy as np\n",
    "\n",
    "# ok, here we go again\n",
    "data = pd.read_csv('Advertising.csv', index_col=0)\n",
    "data.head()"
   ]
  },
  {
   "cell_type": "markdown",
   "metadata": {},
   "source": [
    "$$\n",
    "y = x^{\\alpha} z^{\\beta}\n",
    "$$\n",
    "\n",
    "$$\n",
    "\\ln y = \\alpha \\ln x + \\beta \\ln z\n",
    "$$"
   ]
  },
  {
   "cell_type": "code",
   "execution_count": 2,
   "metadata": {},
   "outputs": [],
   "source": [
    "data['ln_Sales'] = data['Sales'].apply(np.log)\n",
    "data['ln_TV'] = data['TV'].apply(np.log)"
   ]
  },
  {
   "cell_type": "code",
   "execution_count": 4,
   "metadata": {},
   "outputs": [
    {
     "data": {
      "text/plain": [
       "array([3.09557761, 2.34180581, 2.2300144 , 2.91777073, 2.55722731,\n",
       "       1.97408103, 2.46809953, 2.58021683, 1.56861592, 2.360854  ])"
      ]
     },
     "execution_count": 4,
     "metadata": {},
     "output_type": "execute_result"
    }
   ],
   "source": [
    "y = data['ln_Sales'].values\n",
    "y[:10]"
   ]
  },
  {
   "cell_type": "code",
   "execution_count": 5,
   "metadata": {},
   "outputs": [
    {
     "data": {
      "text/plain": [
       "array([[ 5.438514  , 69.2       , 37.8       ],\n",
       "       [ 3.79548919, 45.1       , 39.3       ],\n",
       "       [ 2.84490938, 69.3       , 45.9       ],\n",
       "       [ 5.02058562, 58.5       , 41.3       ],\n",
       "       [ 5.19739145, 58.4       , 10.8       ],\n",
       "       [ 2.16332303, 75.        , 48.9       ],\n",
       "       [ 4.05178495, 23.5       , 32.8       ],\n",
       "       [ 4.78915702, 11.6       , 19.6       ],\n",
       "       [ 2.1517622 ,  1.        ,  2.1       ],\n",
       "       [ 5.29731687, 21.2       ,  2.6       ]])"
      ]
     },
     "execution_count": 5,
     "metadata": {},
     "output_type": "execute_result"
    }
   ],
   "source": [
    "X = data[['ln_TV', 'Newspaper', 'Radio']].values\n",
    "X[:10]"
   ]
  },
  {
   "cell_type": "markdown",
   "metadata": {},
   "source": [
    "## Разбиение на трейн и тест \n",
    "\n",
    "![](https://miro.medium.com/max/875/1*_7OPgojau8hkiPUiHoGK_w.png)\n"
   ]
  },
  {
   "cell_type": "markdown",
   "metadata": {},
   "source": [
    "Что делает мето `.fit`?\n",
    "\n",
    "\n",
    "__Модель:__ \n",
    "\n",
    "$$\n",
    "y_i = \\beta_0 + \\beta_1 x_{1i} + \\beta_2 x_{2i} + \\beta_3 x_{3i}\n",
    "$$\n",
    "\n",
    "__Обычная линейная регресиия:___\n",
    "\n",
    "$$\n",
    "MSE = \\frac{1}{n} \\sum_{i=1}^n [y_i - (\\beta_0 + \\beta_1 x_{1i} + \\beta_2 x_{2i} + \\beta_3 x_{3i})]^2 \\to \\min_{\\beta_0, \\beta_1, \\beta_2,\\beta_3}\n",
    "$$"
   ]
  },
  {
   "cell_type": "code",
   "execution_count": 6,
   "metadata": {},
   "outputs": [
    {
     "data": {
      "text/plain": [
       "((160, 3), (40, 3))"
      ]
     },
     "execution_count": 6,
     "metadata": {},
     "output_type": "execute_result"
    }
   ],
   "source": [
    "from sklearn.model_selection import train_test_split\n",
    "\n",
    "# Случайно разбиваем выборку на две части\n",
    "X_train, X_test, y_train, y_test = train_test_split(X, y, test_size=0.2)\n",
    "X_train.shape, X_test.shape"
   ]
  },
  {
   "cell_type": "code",
   "execution_count": 13,
   "metadata": {},
   "outputs": [
    {
     "data": {
      "text/plain": [
       "array([3.63127292e-01, 1.69236765e-04, 1.34080604e-02])"
      ]
     },
     "execution_count": 13,
     "metadata": {},
     "output_type": "execute_result"
    }
   ],
   "source": [
    "from sklearn.linear_model import LinearRegression\n",
    "\n",
    "model = LinearRegression()\n",
    "model.fit(X_train, y_train)\n",
    "model.coef_"
   ]
  },
  {
   "cell_type": "markdown",
   "metadata": {},
   "source": [
    "$$\n",
    "MAE(y, \\hat{y}) = \\frac{1}{n} \\sum_{i=1}^n |y_i - \\hat{y}_i|\n",
    "$$"
   ]
  },
  {
   "cell_type": "code",
   "execution_count": 21,
   "metadata": {},
   "outputs": [
    {
     "data": {
      "text/plain": [
       "0.0455921938257903"
      ]
     },
     "execution_count": 21,
     "metadata": {},
     "output_type": "execute_result"
    }
   ],
   "source": [
    "import numpy as np\n",
    "from sklearn.metrics import r2_score, mean_absolute_error\n",
    "\n",
    "y_pred = model.predict(X_train)\n",
    "\n",
    "np.mean(np.abs(y_pred - y_train)) # mae своими руками"
   ]
  },
  {
   "cell_type": "code",
   "execution_count": 25,
   "metadata": {},
   "outputs": [
    {
     "name": "stdout",
     "output_type": "stream",
     "text": [
      "Метрики для тренировочной выборки:\n",
      "mae: 0.0455921938257903\n",
      "r2: 0.9713949509987423\n",
      "--------------------------------------------------\n",
      "Метрики для тестовой выборки:\n",
      "mae: 0.04794655974947582\n",
      "r2: 0.9779578696898982\n"
     ]
    }
   ],
   "source": [
    "y_pred = model.predict(X_train)\n",
    "\n",
    "print(\"Метрики для тренировочной выборки:\")\n",
    "print('mae:', mean_absolute_error(y_pred, y_train))\n",
    "print('r2:', r2_score(y_pred, y_train))\n",
    "print('-'*50)\n",
    "\n",
    "y_pred = model.predict(X_test)\n",
    "\n",
    "print(\"Метрики для тестовой выборки:\")\n",
    "print('mae:', mean_absolute_error(y_pred, y_test))\n",
    "print('r2:', r2_score(y_pred, y_test))"
   ]
  },
  {
   "cell_type": "markdown",
   "metadata": {},
   "source": [
    "## Кросс-валидация \n",
    "\n",
    "![](https://long-short.pro/wp-content/uploads/sites/3/2013/06/crossvalidation.png)"
   ]
  },
  {
   "cell_type": "code",
   "execution_count": 35,
   "metadata": {},
   "outputs": [
    {
     "data": {
      "text/plain": [
       "array([-0.04257416, -0.06009321, -0.06129719, -0.03917744, -0.03570213])"
      ]
     },
     "execution_count": 35,
     "metadata": {},
     "output_type": "execute_result"
    }
   ],
   "source": [
    "from sklearn.model_selection import cross_val_score\n",
    "\n",
    "model = LinearRegression()\n",
    "\n",
    "metrics = cross_val_score(model, X_train, y_train, cv=5, n_jobs=-1, \n",
    "                          #scoring = 'r2',\n",
    "                          scoring='neg_mean_absolute_error')\n",
    "metrics"
   ]
  },
  {
   "cell_type": "code",
   "execution_count": 33,
   "metadata": {},
   "outputs": [
    {
     "data": {
      "text/plain": [
       "0.04776882662500724"
      ]
     },
     "execution_count": 33,
     "metadata": {},
     "output_type": "execute_result"
    }
   ],
   "source": [
    "-1*np.mean(metrics)"
   ]
  },
  {
   "cell_type": "markdown",
   "metadata": {},
   "source": [
    "# Регуляризация "
   ]
  },
  {
   "cell_type": "code",
   "execution_count": 51,
   "metadata": {},
   "outputs": [
    {
     "data": {
      "text/plain": [
       "array([0.        , 0.        , 0.00842513])"
      ]
     },
     "execution_count": 51,
     "metadata": {},
     "output_type": "execute_result"
    }
   ],
   "source": [
    "from sklearn.linear_model import Ridge, Lasso\n",
    "\n",
    "X_train, X_test, y_train, y_test = train_test_split(X, y, test_size=0.2)\n",
    "\n",
    "# model = Ridge(alpha=20)\n",
    "model = Lasso(alpha=1)\n",
    "\n",
    "model.fit(X_train, y_train)\n",
    "model.coef_"
   ]
  },
  {
   "cell_type": "code",
   "execution_count": 52,
   "metadata": {},
   "outputs": [
    {
     "name": "stdout",
     "output_type": "stream",
     "text": [
      "Метрики для тренировочной выборки:\n",
      "mae: 0.29441840396369623\n",
      "r2: -9.064091240049798\n",
      "--------------------------------------------------\n",
      "Метрики для тестовой выборки:\n",
      "mae: 0.21892110883539564\n",
      "r2: -3.587081455163105\n"
     ]
    }
   ],
   "source": [
    "y_pred = model.predict(X_train)\n",
    "\n",
    "print(\"Метрики для тренировочной выборки:\")\n",
    "print('mae:', mean_absolute_error(y_pred, y_train))\n",
    "print('r2:', r2_score(y_pred, y_train))\n",
    "print('-'*50)\n",
    "\n",
    "y_pred = model.predict(X_test)\n",
    "\n",
    "print(\"Метрики для тестовой выборки:\")\n",
    "print('mae:', mean_absolute_error(y_pred, y_test))\n",
    "print('r2:', r2_score(y_pred, y_test))"
   ]
  },
  {
   "cell_type": "markdown",
   "metadata": {},
   "source": [
    "## Ручные задачи\n",
    "\n",
    "\n",
    "__Модель:__ \n",
    "\n",
    "$$\n",
    "y_i = \\beta x_i\n",
    "$$\n",
    "\n",
    "__Обычная линейная регресиия:__\n",
    "\n",
    "$$\n",
    "MSE = \\frac{1}{n} \\sum_{i=1}^n [y_i - \\beta x_i]^2 \\to \\min_{\\beta}\n",
    "$$\n",
    "\n",
    "__Решение:__\n",
    "\n",
    "$$\n",
    "\\hat{\\beta} = \\frac{ \\sum x_i y_i }{ \\sum x^2_i}\n",
    "$$"
   ]
  },
  {
   "cell_type": "markdown",
   "metadata": {},
   "source": [
    "__Ridge регресиия:__"
   ]
  },
  {
   "cell_type": "markdown",
   "metadata": {},
   "source": [
    "$$\n",
    "L =  \\frac{1}{n} \\sum_{i=1}^n [y_i - (\\beta_0 + \\beta_1 x_{1i} + \\beta_2 x_{2i} + \\beta_3 x_{3i})]^2 + \\alpha \\sum \\beta_k^2 \\to \\min_{\\beta_0, \\beta_1, \\beta_2,\\beta_3}\n",
    "$$"
   ]
  },
  {
   "cell_type": "markdown",
   "metadata": {},
   "source": [
    "$$\n",
    "L = \\frac{1}{n} \\sum_{i=1}^n [y_i - \\beta x_i]^2 + \\alpha \\cdot \\beta^2 \\to \\min_{\\beta}\n",
    "$$"
   ]
  },
  {
   "cell_type": "markdown",
   "metadata": {},
   "source": [
    "__Решение модели:__\n",
    "\n",
    "$$\n",
    "L' = \\frac{1}{n} \\cdot \\sum -2x_i(y_i - \\beta x_i) + 2 \\alpha \\beta = 0\n",
    "$$\n"
   ]
  },
  {
   "cell_type": "markdown",
   "metadata": {},
   "source": [
    "$$\n",
    "\\sum x_i y_i -  \\beta \\sum x^2_i - n \\alpha \\beta = 0\n",
    "$$"
   ]
  },
  {
   "cell_type": "markdown",
   "metadata": {},
   "source": [
    "$$\n",
    "\\hat{\\beta} = \\frac{ \\sum x_i y_i }{ \\sum x^2_i + n \\alpha}\n",
    "$$"
   ]
  },
  {
   "cell_type": "markdown",
   "metadata": {},
   "source": [
    "__LASSO-регресия__\n",
    "\n",
    "$$\n",
    "L =  \\frac{1}{n} \\sum_{i=1}^n [y_i - (\\beta_0 + \\beta_1 x_{1i} + \\beta_2 x_{2i} + \\beta_3 x_{3i})]^2 + \\alpha \\sum |\\beta_k|\\to \\min_{\\beta_0, \\beta_1, \\beta_2,\\beta_3}\n",
    "$$"
   ]
  },
  {
   "cell_type": "markdown",
   "metadata": {},
   "source": [
    "### Упражнение\n",
    "\n",
    "Переписать Ridge-регрессию в виде задачи оптимизации с ограничениями\n",
    "\n",
    "\n",
    "$$\n",
    "L =  \\frac{1}{n} \\sum_{i=1}^n [y_i - (\\beta_1 x_{1i} + \\beta_2 x_{2i})]^2 + \\alpha \\cdot (\\beta_1^2 + \\beta_2^2) \\to \\min_{\\beta_1, \\beta_2}\n",
    "$$"
   ]
  },
  {
   "cell_type": "markdown",
   "metadata": {},
   "source": [
    "Батюшки! Да это же лагранджиан!"
   ]
  },
  {
   "cell_type": "markdown",
   "metadata": {},
   "source": [
    "\\begin{equation*}\n",
    "\\begin{cases}\n",
    "& \\frac{1}{n} \\sum_{i=1}^n [y_i - ( \\beta_1 x_{1i} + \\beta_2 x_{2i})]^2 \\to \\min_{\\beta_1, \\beta_2}  \\\\\n",
    "& \\beta_1^2+ \\beta^2_2  \\le C\n",
    "\\end{cases}\n",
    "\\end{equation*}"
   ]
  },
  {
   "cell_type": "markdown",
   "metadata": {},
   "source": [
    "А Lasso-регрессию? \n",
    "\n",
    "\\begin{equation*}\n",
    "\\begin{cases}\n",
    "& \\frac{1}{n} \\sum_{i=1}^n [y_i - ( \\beta_1 x_{1i} + \\beta_2 x_{2i})]^2 \\to \\min_{\\beta_1, \\beta_2}  \\\\\n",
    "& |\\beta_1|+ |\\beta_2|  \\le C\n",
    "\\end{cases}\n",
    "\\end{equation*}"
   ]
  },
  {
   "cell_type": "markdown",
   "metadata": {},
   "source": [
    "![](https://i.stack.imgur.com/U13c4.png)"
   ]
  },
  {
   "cell_type": "markdown",
   "metadata": {},
   "source": [
    "![](https://miro.medium.com/max/761/1*nrWncnoJ4V_BkzEf1pd4MA.png)"
   ]
  },
  {
   "cell_type": "markdown",
   "metadata": {},
   "source": [
    " "
   ]
  }
 ],
 "metadata": {
  "kernelspec": {
   "display_name": "Python 3",
   "language": "python",
   "name": "python3"
  },
  "language_info": {
   "codemirror_mode": {
    "name": "ipython",
    "version": 3
   },
   "file_extension": ".py",
   "mimetype": "text/x-python",
   "name": "python",
   "nbconvert_exporter": "python",
   "pygments_lexer": "ipython3",
   "version": "3.9.0"
  }
 },
 "nbformat": 4,
 "nbformat_minor": 4
}
