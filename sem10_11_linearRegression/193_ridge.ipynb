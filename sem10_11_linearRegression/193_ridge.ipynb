{
 "cells": [
  {
   "cell_type": "code",
   "execution_count": 56,
   "metadata": {},
   "outputs": [
    {
     "data": {
      "text/html": [
       "<div>\n",
       "<style scoped>\n",
       "    .dataframe tbody tr th:only-of-type {\n",
       "        vertical-align: middle;\n",
       "    }\n",
       "\n",
       "    .dataframe tbody tr th {\n",
       "        vertical-align: top;\n",
       "    }\n",
       "\n",
       "    .dataframe thead th {\n",
       "        text-align: right;\n",
       "    }\n",
       "</style>\n",
       "<table border=\"1\" class=\"dataframe\">\n",
       "  <thead>\n",
       "    <tr style=\"text-align: right;\">\n",
       "      <th></th>\n",
       "      <th>TV</th>\n",
       "      <th>Radio</th>\n",
       "      <th>Newspaper</th>\n",
       "      <th>Sales</th>\n",
       "    </tr>\n",
       "  </thead>\n",
       "  <tbody>\n",
       "    <tr>\n",
       "      <th>1</th>\n",
       "      <td>230.1</td>\n",
       "      <td>37.8</td>\n",
       "      <td>69.2</td>\n",
       "      <td>22.1</td>\n",
       "    </tr>\n",
       "    <tr>\n",
       "      <th>2</th>\n",
       "      <td>44.5</td>\n",
       "      <td>39.3</td>\n",
       "      <td>45.1</td>\n",
       "      <td>10.4</td>\n",
       "    </tr>\n",
       "    <tr>\n",
       "      <th>3</th>\n",
       "      <td>17.2</td>\n",
       "      <td>45.9</td>\n",
       "      <td>69.3</td>\n",
       "      <td>9.3</td>\n",
       "    </tr>\n",
       "    <tr>\n",
       "      <th>4</th>\n",
       "      <td>151.5</td>\n",
       "      <td>41.3</td>\n",
       "      <td>58.5</td>\n",
       "      <td>18.5</td>\n",
       "    </tr>\n",
       "    <tr>\n",
       "      <th>5</th>\n",
       "      <td>180.8</td>\n",
       "      <td>10.8</td>\n",
       "      <td>58.4</td>\n",
       "      <td>12.9</td>\n",
       "    </tr>\n",
       "  </tbody>\n",
       "</table>\n",
       "</div>"
      ],
      "text/plain": [
       "      TV  Radio  Newspaper  Sales\n",
       "1  230.1   37.8       69.2   22.1\n",
       "2   44.5   39.3       45.1   10.4\n",
       "3   17.2   45.9       69.3    9.3\n",
       "4  151.5   41.3       58.5   18.5\n",
       "5  180.8   10.8       58.4   12.9"
      ]
     },
     "execution_count": 56,
     "metadata": {},
     "output_type": "execute_result"
    }
   ],
   "source": [
    "import pandas as pd\n",
    "import numpy as np\n",
    "\n",
    "# ok, here we go again\n",
    "df = pd.read_csv('Advertising.csv', index_col=0)\n",
    "df.head()"
   ]
  },
  {
   "cell_type": "code",
   "execution_count": 57,
   "metadata": {},
   "outputs": [],
   "source": [
    "y = df.Sales.values\n",
    "X = df[['TV', 'Radio', 'Newspaper']].values"
   ]
  },
  {
   "cell_type": "code",
   "execution_count": 58,
   "metadata": {},
   "outputs": [
    {
     "data": {
      "text/plain": [
       "(array([22.1, 10.4,  9.3, 18.5, 12.9,  7.2, 11.8, 13.2,  4.8, 10.6]),\n",
       " array([[230.1,  37.8,  69.2],\n",
       "        [ 44.5,  39.3,  45.1],\n",
       "        [ 17.2,  45.9,  69.3],\n",
       "        [151.5,  41.3,  58.5],\n",
       "        [180.8,  10.8,  58.4],\n",
       "        [  8.7,  48.9,  75. ],\n",
       "        [ 57.5,  32.8,  23.5],\n",
       "        [120.2,  19.6,  11.6],\n",
       "        [  8.6,   2.1,   1. ],\n",
       "        [199.8,   2.6,  21.2]]))"
      ]
     },
     "execution_count": 58,
     "metadata": {},
     "output_type": "execute_result"
    }
   ],
   "source": [
    "y[:10], X[:10]"
   ]
  },
  {
   "cell_type": "code",
   "execution_count": 59,
   "metadata": {},
   "outputs": [],
   "source": [
    "from sklearn.model_selection import train_test_split\n",
    "\n",
    "X_train, X_test, y_train, y_test = train_test_split(X, y, test_size=0.2, \n",
    "                                                    random_state=42)"
   ]
  },
  {
   "cell_type": "code",
   "execution_count": 60,
   "metadata": {},
   "outputs": [
    {
     "data": {
      "text/plain": [
       "((160, 3), (40, 3))"
      ]
     },
     "execution_count": 60,
     "metadata": {},
     "output_type": "execute_result"
    }
   ],
   "source": [
    "X_train.shape, X_test.shape"
   ]
  },
  {
   "cell_type": "code",
   "execution_count": 61,
   "metadata": {},
   "outputs": [
    {
     "data": {
      "text/plain": [
       "array([0.04472952, 0.18919505, 0.00276111])"
      ]
     },
     "execution_count": 61,
     "metadata": {},
     "output_type": "execute_result"
    }
   ],
   "source": [
    "from sklearn.linear_model import LinearRegression\n",
    "from sklearn.metrics import r2_score, mean_absolute_error\n",
    "\n",
    "model = LinearRegression( )\n",
    "model.fit(X_train, y_train)\n",
    "model.coef_"
   ]
  },
  {
   "cell_type": "code",
   "execution_count": 62,
   "metadata": {
    "scrolled": true
   },
   "outputs": [
    {
     "name": "stdout",
     "output_type": "stream",
     "text": [
      "0.883555792578981\n",
      "1.198467896150013\n"
     ]
    }
   ],
   "source": [
    "y_pred = model.predict(X_train)\n",
    "\n",
    "print(r2_score(y_pred, y_train)) # плохая метрика! \n",
    "print(mean_absolute_error(y_pred, y_train))"
   ]
  },
  {
   "cell_type": "code",
   "execution_count": 63,
   "metadata": {},
   "outputs": [
    {
     "name": "stdout",
     "output_type": "stream",
     "text": [
      "0.8791069137120033\n",
      "1.46075671681176\n"
     ]
    }
   ],
   "source": [
    "y_pred = model.predict(X_test)\n",
    "\n",
    "print(r2_score(y_pred, y_test)) # плохая метрика! \n",
    "print(mean_absolute_error(y_pred, y_test))"
   ]
  },
  {
   "cell_type": "markdown",
   "metadata": {},
   "source": [
    "Добиваемся переобучения! "
   ]
  },
  {
   "cell_type": "code",
   "execution_count": 74,
   "metadata": {},
   "outputs": [],
   "source": [
    "from sklearn.preprocessing import PolynomialFeatures\n",
    "\n",
    "X_train, X_test, y_train, y_test = train_test_split(X, y, test_size=0.2, \n",
    "                                                    random_state=42)\n",
    "\n",
    "poly = PolynomialFeatures(degree=5)\n",
    "X_train = poly.fit_transform(X_train)\n",
    "X_test = poly.transform(X_test)"
   ]
  },
  {
   "cell_type": "code",
   "execution_count": 75,
   "metadata": {},
   "outputs": [
    {
     "data": {
      "text/plain": [
       "(160, 56)"
      ]
     },
     "execution_count": 75,
     "metadata": {},
     "output_type": "execute_result"
    }
   ],
   "source": [
    "X_train.shape"
   ]
  },
  {
   "cell_type": "code",
   "execution_count": 76,
   "metadata": {},
   "outputs": [
    {
     "name": "stdout",
     "output_type": "stream",
     "text": [
      "Качествао модели на трэйне:\n",
      "0.9947393422433753\n",
      "0.29746500856749547\n",
      "--------------------------------------------------\n",
      "Качествао модели на тест:\n",
      "0.30069471308709783\n",
      "2.469040156634764\n"
     ]
    }
   ],
   "source": [
    "from sklearn.linear_model import LinearRegression\n",
    "from sklearn.metrics import r2_score, mean_absolute_error\n",
    "\n",
    "model = LinearRegression( )\n",
    "model.fit(X_train, y_train)\n",
    "\n",
    "y_pred = model.predict(X_train)\n",
    "\n",
    "print('Качествао модели на трэйне:')\n",
    "print(r2_score(y_pred, y_train)) # плохая метрика! \n",
    "print(mean_absolute_error(y_pred, y_train))\n",
    "print('-'*50)\n",
    "\n",
    "\n",
    "y_pred = model.predict(X_test)\n",
    "\n",
    "print('Качествао модели на тест:')\n",
    "print(r2_score(y_pred, y_test)) # плохая метрика! \n",
    "print(mean_absolute_error(y_pred, y_test))"
   ]
  },
  {
   "cell_type": "markdown",
   "metadata": {},
   "source": [
    "Какой минус есть у процедуры с разбиением на трейн и тест? "
   ]
  },
  {
   "cell_type": "markdown",
   "metadata": {},
   "source": [
    "## Кросс-валидация \n",
    "\n",
    "![](https://long-short.pro/wp-content/uploads/sites/3/2013/06/crossvalidation.png)"
   ]
  },
  {
   "cell_type": "code",
   "execution_count": 82,
   "metadata": {},
   "outputs": [
    {
     "data": {
      "text/plain": [
       "array([0.71981527, 0.92992247, 0.92652848, 0.91883369, 0.80234225])"
      ]
     },
     "execution_count": 82,
     "metadata": {},
     "output_type": "execute_result"
    }
   ],
   "source": [
    "from sklearn.model_selection import cross_val_score\n",
    "\n",
    "X_train, X_test, y_train, y_test = train_test_split(X, y, test_size=0.2, \n",
    "                                                    random_state=42)\n",
    "\n",
    "model = LinearRegression( )\n",
    "\n",
    "cv_results = cross_val_score(model, X_train, y_train, cv=5, scoring='r2')\n",
    "cv_results"
   ]
  },
  {
   "cell_type": "code",
   "execution_count": 83,
   "metadata": {},
   "outputs": [
    {
     "data": {
      "text/plain": [
       "0.8594884313276513"
      ]
     },
     "execution_count": 83,
     "metadata": {},
     "output_type": "execute_result"
    }
   ],
   "source": [
    "cv_results.mean()"
   ]
  },
  {
   "cell_type": "code",
   "execution_count": 85,
   "metadata": {},
   "outputs": [
    {
     "data": {
      "text/plain": [
       "0.8791069137120033"
      ]
     },
     "execution_count": 85,
     "metadata": {},
     "output_type": "execute_result"
    }
   ],
   "source": [
    "model = LinearRegression( )\n",
    "model.fit(X_train, y_train)\n",
    "\n",
    "y_pred = model.predict(X_test)\n",
    "r2_score(y_pred, y_test) # плохая метрика! "
   ]
  },
  {
   "cell_type": "markdown",
   "metadata": {},
   "source": [
    "## Регуляризация "
   ]
  },
  {
   "cell_type": "markdown",
   "metadata": {},
   "source": [
    "$$\n",
    "MSE = L(\\beta) = \\frac{1}{n} \\cdot \\sum_{i=1}^n (y_i - \\beta \\cdot x_i)^2 \\to \\min_{\\beta} \n",
    "$$"
   ]
  },
  {
   "cell_type": "markdown",
   "metadata": {},
   "source": [
    "### Ridge - регрессия (l-2 регуляризация)\n",
    "\n",
    "$$\n",
    "L(\\beta) = \\frac{1}{n} \\cdot \\sum_{i=1}^n (y_i - (\\beta_0 + \\beta_1 \\cdot x_{1i} + \\ldots + \\beta_k \\cdot x_{ki} )^2 + \\lambda \\cdot \\sum \\beta^2_k \\to \\min_{\\beta} \n",
    "$$"
   ]
  },
  {
   "cell_type": "markdown",
   "metadata": {},
   "source": [
    "### Lasso - регрессия (l-1 регуляризация)\n",
    "\n",
    "$$\n",
    "L(\\beta) = \\frac{1}{n} \\cdot \\sum_{i=1}^n (y_i - (\\beta_0 + \\beta_1 \\cdot x_{1i} + \\ldots + \\beta_k \\cdot x_{ki} )^2 + \\lambda \\cdot \\sum |\\beta_k| \\to \\min_{\\beta} \n",
    "$$"
   ]
  },
  {
   "cell_type": "code",
   "execution_count": 103,
   "metadata": {},
   "outputs": [],
   "source": [
    "X_train, X_test, y_train, y_test = train_test_split(X, y, test_size=0.2, \n",
    "                                                    random_state=42)\n",
    "\n",
    "poly = PolynomialFeatures(degree=7)\n",
    "X_train = poly.fit_transform(X_train)\n",
    "X_test = poly.transform(X_test)"
   ]
  },
  {
   "cell_type": "code",
   "execution_count": 104,
   "metadata": {},
   "outputs": [
    {
     "data": {
      "text/plain": [
       "(160, 120)"
      ]
     },
     "execution_count": 104,
     "metadata": {},
     "output_type": "execute_result"
    }
   ],
   "source": [
    "X_train.shape"
   ]
  },
  {
   "cell_type": "code",
   "execution_count": 107,
   "metadata": {},
   "outputs": [
    {
     "name": "stderr",
     "output_type": "stream",
     "text": [
      "/usr/local/lib/python3.9/site-packages/sklearn/linear_model/_coordinate_descent.py:529: ConvergenceWarning: Objective did not converge. You might want to increase the number of iterations. Duality gap: 51.02073074249803, tolerance: 0.41498\n",
      "  model = cd_fast.enet_coordinate_descent(\n"
     ]
    },
    {
     "data": {
      "text/plain": [
       "array([ 0.00000000e+00,  0.00000000e+00,  0.00000000e+00,  0.00000000e+00,\n",
       "        3.25792170e-04,  0.00000000e+00,  1.08746032e-04,  0.00000000e+00,\n",
       "        0.00000000e+00,  0.00000000e+00, -8.10497571e-07,  6.35355338e-06,\n",
       "       -1.15432498e-06,  3.61525890e-05, -0.00000000e+00, -2.60865239e-07,\n",
       "        0.00000000e+00,  0.00000000e+00, -0.00000000e+00, -3.80959208e-06,\n",
       "       -2.93878668e-09, -8.21214346e-09, -1.13627710e-09, -1.37390553e-07,\n",
       "        3.93215736e-08, -2.95913802e-09,  2.24549359e-07, -1.58278280e-07,\n",
       "        6.90588943e-09,  4.92546862e-08, -3.63122134e-07,  5.43210783e-07,\n",
       "       -2.13992061e-07,  6.78334615e-08, -3.62776915e-09,  6.78468630e-12,\n",
       "       -3.16967528e-12, -9.57630179e-12, -1.88008087e-10,  2.23293609e-11,\n",
       "       -1.78837143e-11, -1.97622817e-09,  7.83794681e-10, -3.84525753e-11,\n",
       "        1.61300768e-11,  5.41447907e-09, -4.04070386e-09, -8.60486223e-10,\n",
       "        5.09793748e-10,  1.39880955e-10, -5.88626985e-09,  1.33678098e-08,\n",
       "       -4.47140125e-09,  1.53371095e-09,  9.86444616e-10, -5.29480002e-11,\n",
       "        1.41775386e-14,  3.91799652e-14,  3.01204272e-15,  2.01120336e-13,\n",
       "       -2.54644082e-13,  6.45717928e-15,  5.46967980e-13,  2.54601154e-13,\n",
       "       -7.32787977e-14,  6.86658222e-14, -3.12253097e-11,  1.41768830e-11,\n",
       "       -1.68023724e-13, -9.21074445e-14, -4.74934057e-13,  1.18368042e-10,\n",
       "       -6.68984230e-11, -3.02678888e-11,  4.97358689e-12,  1.49513254e-13,\n",
       "       -7.55547551e-13, -1.51602574e-10,  2.32762600e-10, -1.18827772e-10,\n",
       "        1.68274172e-11,  1.92952882e-11,  1.17410534e-12, -1.06243998e-12,\n",
       "       -3.02463053e-17, -2.91901799e-17,  2.60038758e-16,  9.15944478e-16,\n",
       "       -1.10026582e-15,  4.60379553e-16,  2.17063308e-14, -9.29591149e-15,\n",
       "        8.98991394e-16,  8.72216130e-16,  5.40867263e-14, -1.12995383e-14,\n",
       "        6.34900336e-15,  1.20038835e-15, -1.66305020e-15, -4.87022786e-13,\n",
       "        3.19027524e-13,  1.74296603e-14,  6.24716900e-15, -1.48869140e-14,\n",
       "       -8.81770615e-15,  1.70972094e-12, -5.44116770e-13, -6.19353868e-13,\n",
       "        6.80119350e-14, -2.54664460e-14, -3.48464345e-14, -1.32484619e-14,\n",
       "       -5.02400508e-12,  3.49517531e-12, -3.44509271e-12, -2.37175470e-13,\n",
       "        2.84969362e-13, -2.47924832e-14, -3.84231797e-14,  2.61578855e-16])"
      ]
     },
     "execution_count": 107,
     "metadata": {},
     "output_type": "execute_result"
    }
   ],
   "source": [
    "from sklearn.linear_model import Lasso\n",
    "\n",
    "model = Lasso(alpha=100)\n",
    "\n",
    "model.fit(X_train, y_train)\n",
    "model.coef_"
   ]
  },
  {
   "cell_type": "code",
   "execution_count": 108,
   "metadata": {
    "scrolled": true
   },
   "outputs": [
    {
     "name": "stdout",
     "output_type": "stream",
     "text": [
      "Качествао модели на трэйне:\n",
      "0.978537379572133\n",
      "0.48156002927166375\n",
      "--------------------------------------------------\n",
      "Качествао модели на тест:\n",
      "0.9684672161578011\n",
      "0.773789493586923\n"
     ]
    }
   ],
   "source": [
    "y_pred = model.predict(X_train)\n",
    "\n",
    "print('Качествао модели на трэйне:')\n",
    "print(r2_score(y_pred, y_train)) # плохая метрика! \n",
    "print(mean_absolute_error(y_pred, y_train))\n",
    "print('-'*50)\n",
    "\n",
    "\n",
    "y_pred = model.predict(X_test)\n",
    "\n",
    "print('Качествао модели на тест:')\n",
    "print(r2_score(y_pred, y_test)) # плохая метрика! \n",
    "print(mean_absolute_error(y_pred, y_test))"
   ]
  },
  {
   "cell_type": "markdown",
   "metadata": {},
   "source": [
    "__Модель:__\n",
    "\n",
    "$$\n",
    "y_i = \\beta x_i \n",
    "$$"
   ]
  },
  {
   "cell_type": "markdown",
   "metadata": {},
   "source": [
    "__Функция потерь без регуляризации:__\n",
    "\n",
    "$$\n",
    " L(\\beta) = \\frac{1}{n} \\cdot \\sum_{i=1}^n (y_i - \\beta \\cdot x_i)^2 \\to \\min_{\\beta} \n",
    "$$"
   ]
  },
  {
   "cell_type": "markdown",
   "metadata": {},
   "source": [
    "$$\n",
    "\\hat{\\beta} = \\frac{\\sum{x_i y_i}}{\\sum x_i^2}\n",
    "$$"
   ]
  },
  {
   "cell_type": "markdown",
   "metadata": {},
   "source": [
    "__Функция потерь c регуляризацией:__\n",
    "\n",
    "$$\n",
    "L(\\beta) = \\frac{1}{n} \\cdot \\sum_{i=1}^n (y_i - \\beta \\cdot x_i)^2  + \\lambda \\cdot \\beta^2 \\to \\min_{\\beta} \n",
    "$$"
   ]
  },
  {
   "cell_type": "markdown",
   "metadata": {},
   "source": [
    "$$\n",
    "L' = \\frac{1}{n} \\cdot \\sum_{i=1}^n -2 x_i (y_i - \\beta x_i) + 2 \\lambda \\beta = 0\n",
    "$$"
   ]
  },
  {
   "cell_type": "markdown",
   "metadata": {},
   "source": [
    "$$\n",
    "\\sum x_i y_i - \\beta \\sum x_i^2 - n\\lambda\\beta = 0\n",
    "$$"
   ]
  },
  {
   "cell_type": "markdown",
   "metadata": {},
   "source": [
    "$$\n",
    "\\hat{\\beta}^{Ridge} = \\frac{ \\sum x_i y_i}{n \\lambda + \\sum x_i^2}\n",
    "$$"
   ]
  },
  {
   "cell_type": "markdown",
   "metadata": {},
   "source": [
    "* Если взять $\\lambda = 0$, получается оценка такая, как будто никакого штрафа в виде регуляризатора нет \n",
    "* Если взять $\\lambda$ очень большим, то итоговая оценка будет очень маленькой "
   ]
  }
 ],
 "metadata": {
  "kernelspec": {
   "display_name": "Python 3",
   "language": "python",
   "name": "python3"
  },
  "language_info": {
   "codemirror_mode": {
    "name": "ipython",
    "version": 3
   },
   "file_extension": ".py",
   "mimetype": "text/x-python",
   "name": "python",
   "nbconvert_exporter": "python",
   "pygments_lexer": "ipython3",
   "version": "3.9.0"
  }
 },
 "nbformat": 4,
 "nbformat_minor": 4
}
