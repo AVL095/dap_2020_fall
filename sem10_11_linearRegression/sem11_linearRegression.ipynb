{
 "cells": [
  {
   "cell_type": "markdown",
   "metadata": {},
   "source": [
    "# <center> Линейная регрессия 2: Ridge, Lasso и Elasticnet</center>\n",
    "\n",
    "![](https://64.media.tumblr.com/72ca42a775d24a7f1c3c914b967fcd75/tumblr_pdqcnftNaV1w67ki0o2_500.gifv)\n",
    "\n",
    "В этот раз мы поговорим про регуляризацию - метод добавления дополнительных ограничений к условию задачи с целью предотвратить переобучение или скорректировать ее неправильную постановку. Чаще всего, эта информация имеет вид штрафа за сложность модели. Если вы выбрали сложную модель, и при этом у вас недостаточно данных, то легко можно получить итоговую модель, которая хорошо описывает обучающую выборку, но не обобщается на тестовую.\n"
   ]
  },
  {
   "cell_type": "markdown",
   "metadata": {},
   "source": [
    "# Начнем с повторения\n",
    "\n",
    "В прошлых сериях мы познакомились с линейной регрессией. Давайте повторим основы и еще раз рассмотрим наш датасет, но с немного другой стороны.\n"
   ]
  },
  {
   "cell_type": "code",
   "execution_count": 1,
   "metadata": {},
   "outputs": [
    {
     "data": {
      "text/html": [
       "<div>\n",
       "<style scoped>\n",
       "    .dataframe tbody tr th:only-of-type {\n",
       "        vertical-align: middle;\n",
       "    }\n",
       "\n",
       "    .dataframe tbody tr th {\n",
       "        vertical-align: top;\n",
       "    }\n",
       "\n",
       "    .dataframe thead th {\n",
       "        text-align: right;\n",
       "    }\n",
       "</style>\n",
       "<table border=\"1\" class=\"dataframe\">\n",
       "  <thead>\n",
       "    <tr style=\"text-align: right;\">\n",
       "      <th></th>\n",
       "      <th>TV</th>\n",
       "      <th>Radio</th>\n",
       "      <th>Newspaper</th>\n",
       "      <th>Sales</th>\n",
       "    </tr>\n",
       "  </thead>\n",
       "  <tbody>\n",
       "    <tr>\n",
       "      <td>1</td>\n",
       "      <td>230.1</td>\n",
       "      <td>37.8</td>\n",
       "      <td>69.2</td>\n",
       "      <td>22.1</td>\n",
       "    </tr>\n",
       "    <tr>\n",
       "      <td>2</td>\n",
       "      <td>44.5</td>\n",
       "      <td>39.3</td>\n",
       "      <td>45.1</td>\n",
       "      <td>10.4</td>\n",
       "    </tr>\n",
       "    <tr>\n",
       "      <td>3</td>\n",
       "      <td>17.2</td>\n",
       "      <td>45.9</td>\n",
       "      <td>69.3</td>\n",
       "      <td>9.3</td>\n",
       "    </tr>\n",
       "    <tr>\n",
       "      <td>4</td>\n",
       "      <td>151.5</td>\n",
       "      <td>41.3</td>\n",
       "      <td>58.5</td>\n",
       "      <td>18.5</td>\n",
       "    </tr>\n",
       "    <tr>\n",
       "      <td>5</td>\n",
       "      <td>180.8</td>\n",
       "      <td>10.8</td>\n",
       "      <td>58.4</td>\n",
       "      <td>12.9</td>\n",
       "    </tr>\n",
       "  </tbody>\n",
       "</table>\n",
       "</div>"
      ],
      "text/plain": [
       "      TV  Radio  Newspaper  Sales\n",
       "1  230.1   37.8       69.2   22.1\n",
       "2   44.5   39.3       45.1   10.4\n",
       "3   17.2   45.9       69.3    9.3\n",
       "4  151.5   41.3       58.5   18.5\n",
       "5  180.8   10.8       58.4   12.9"
      ]
     },
     "execution_count": 1,
     "metadata": {},
     "output_type": "execute_result"
    }
   ],
   "source": [
    "import pandas as pd\n",
    "import numpy as np\n",
    "\n",
    "# ok, here we go again\n",
    "data = pd.read_csv('Advertising.csv', index_col=0)\n",
    "data.head()"
   ]
  },
  {
   "cell_type": "markdown",
   "metadata": {},
   "source": [
    "## Множественная линейная регрессия\n",
    "\n",
    "\n",
    "$y = \\beta_0 + \\beta_1x_1 + ... + \\beta_nx_n$\n",
    "\n",
    "Каждый $x$ представляет собой отдельный признак и имеет свой собственный коэффициент. В этом случае:\n",
    "\n",
    "$y = \\beta_0 + \\beta_1 \\times TV + \\beta_2 \\times Radio + \\beta_3 \\times Newspaper$\n"
   ]
  },
  {
   "cell_type": "markdown",
   "metadata": {},
   "source": [
    "### Оценка (\"обучение\") коэффициентов модели\n",
    "\n",
    "\n",
    "Вообще говоря, коэффициенты оцениваются с использованием **критерия наименьших квадратов**, что означает, что мы находим линию (математически), которая минимизирует **сумму квадратов остатков** (или «сумму квадратов ошибок»):\n",
    "\n",
    "<img src=\"images/08_estimating_coefficients.png\">\n",
    "\n",
    "Что изображено на схеме?\n",
    "- Черные точки - это **наблюдаемые значения** x и y.\n",
    "- Синяя линия - это наша **линия полученная при минимизации квадратов ошибок**.\n",
    "- Красные линии - это **остатки**, которые представляют собой расстояния между наблюдаемыми значениями и линией наименьших квадратов.\n",
    "\n",
    "Как коэффициенты модели соотносятся с линией наименьших квадратов?\n",
    "- $ \\ beta_0 $ - это **точка пересечения** (значение $ y $, когда $ x $ = 0)\n",
    "- $ \\ beta_1 $ - это **наклон** (изменение $ y $, деленное на изменение $ x $)\n",
    "\n",
    "Вот графическое изображение этих вычислений:\n",
    "\n",
    "<img src=\"images/08_slope_intercept.png\">"
   ]
  },
  {
   "cell_type": "markdown",
   "metadata": {},
   "source": [
    "## В этот раз все по-взрослому, нам нужна выборка для тестировния"
   ]
  },
  {
   "cell_type": "code",
   "execution_count": 2,
   "metadata": {},
   "outputs": [],
   "source": [
    "from sklearn.model_selection import train_test_split\n",
    "\n",
    "train_data, test_data = train_test_split(data, test_size=0.5, random_state=67)"
   ]
  },
  {
   "cell_type": "code",
   "execution_count": 3,
   "metadata": {},
   "outputs": [
    {
     "name": "stdout",
     "output_type": "stream",
     "text": [
      "(100, 4)\n"
     ]
    },
    {
     "data": {
      "text/html": [
       "<div>\n",
       "<style scoped>\n",
       "    .dataframe tbody tr th:only-of-type {\n",
       "        vertical-align: middle;\n",
       "    }\n",
       "\n",
       "    .dataframe tbody tr th {\n",
       "        vertical-align: top;\n",
       "    }\n",
       "\n",
       "    .dataframe thead th {\n",
       "        text-align: right;\n",
       "    }\n",
       "</style>\n",
       "<table border=\"1\" class=\"dataframe\">\n",
       "  <thead>\n",
       "    <tr style=\"text-align: right;\">\n",
       "      <th></th>\n",
       "      <th>TV</th>\n",
       "      <th>Radio</th>\n",
       "      <th>Newspaper</th>\n",
       "      <th>Sales</th>\n",
       "    </tr>\n",
       "  </thead>\n",
       "  <tbody>\n",
       "    <tr>\n",
       "      <td>186</td>\n",
       "      <td>205.0</td>\n",
       "      <td>45.1</td>\n",
       "      <td>19.6</td>\n",
       "      <td>22.6</td>\n",
       "    </tr>\n",
       "    <tr>\n",
       "      <td>6</td>\n",
       "      <td>8.7</td>\n",
       "      <td>48.9</td>\n",
       "      <td>75.0</td>\n",
       "      <td>7.2</td>\n",
       "    </tr>\n",
       "    <tr>\n",
       "      <td>84</td>\n",
       "      <td>68.4</td>\n",
       "      <td>44.5</td>\n",
       "      <td>35.6</td>\n",
       "      <td>13.6</td>\n",
       "    </tr>\n",
       "    <tr>\n",
       "      <td>83</td>\n",
       "      <td>75.3</td>\n",
       "      <td>20.3</td>\n",
       "      <td>32.5</td>\n",
       "      <td>11.3</td>\n",
       "    </tr>\n",
       "    <tr>\n",
       "      <td>104</td>\n",
       "      <td>187.9</td>\n",
       "      <td>17.2</td>\n",
       "      <td>17.9</td>\n",
       "      <td>14.7</td>\n",
       "    </tr>\n",
       "  </tbody>\n",
       "</table>\n",
       "</div>"
      ],
      "text/plain": [
       "        TV  Radio  Newspaper  Sales\n",
       "186  205.0   45.1       19.6   22.6\n",
       "6      8.7   48.9       75.0    7.2\n",
       "84    68.4   44.5       35.6   13.6\n",
       "83    75.3   20.3       32.5   11.3\n",
       "104  187.9   17.2       17.9   14.7"
      ]
     },
     "execution_count": 3,
     "metadata": {},
     "output_type": "execute_result"
    }
   ],
   "source": [
    "print(train_data.shape)\n",
    "train_data.head()"
   ]
  },
  {
   "cell_type": "code",
   "execution_count": 4,
   "metadata": {},
   "outputs": [
    {
     "name": "stdout",
     "output_type": "stream",
     "text": [
      "(100, 4)\n"
     ]
    },
    {
     "data": {
      "text/html": [
       "<div>\n",
       "<style scoped>\n",
       "    .dataframe tbody tr th:only-of-type {\n",
       "        vertical-align: middle;\n",
       "    }\n",
       "\n",
       "    .dataframe tbody tr th {\n",
       "        vertical-align: top;\n",
       "    }\n",
       "\n",
       "    .dataframe thead th {\n",
       "        text-align: right;\n",
       "    }\n",
       "</style>\n",
       "<table border=\"1\" class=\"dataframe\">\n",
       "  <thead>\n",
       "    <tr style=\"text-align: right;\">\n",
       "      <th></th>\n",
       "      <th>TV</th>\n",
       "      <th>Radio</th>\n",
       "      <th>Newspaper</th>\n",
       "      <th>Sales</th>\n",
       "    </tr>\n",
       "  </thead>\n",
       "  <tbody>\n",
       "    <tr>\n",
       "      <td>33</td>\n",
       "      <td>97.2</td>\n",
       "      <td>1.5</td>\n",
       "      <td>30.0</td>\n",
       "      <td>9.6</td>\n",
       "    </tr>\n",
       "    <tr>\n",
       "      <td>78</td>\n",
       "      <td>120.5</td>\n",
       "      <td>28.5</td>\n",
       "      <td>14.2</td>\n",
       "      <td>14.2</td>\n",
       "    </tr>\n",
       "    <tr>\n",
       "      <td>72</td>\n",
       "      <td>109.8</td>\n",
       "      <td>14.3</td>\n",
       "      <td>31.7</td>\n",
       "      <td>12.4</td>\n",
       "    </tr>\n",
       "    <tr>\n",
       "      <td>167</td>\n",
       "      <td>17.9</td>\n",
       "      <td>37.6</td>\n",
       "      <td>21.6</td>\n",
       "      <td>8.0</td>\n",
       "    </tr>\n",
       "    <tr>\n",
       "      <td>188</td>\n",
       "      <td>191.1</td>\n",
       "      <td>28.7</td>\n",
       "      <td>18.2</td>\n",
       "      <td>17.3</td>\n",
       "    </tr>\n",
       "  </tbody>\n",
       "</table>\n",
       "</div>"
      ],
      "text/plain": [
       "        TV  Radio  Newspaper  Sales\n",
       "33    97.2    1.5       30.0    9.6\n",
       "78   120.5   28.5       14.2   14.2\n",
       "72   109.8   14.3       31.7   12.4\n",
       "167   17.9   37.6       21.6    8.0\n",
       "188  191.1   28.7       18.2   17.3"
      ]
     },
     "execution_count": 4,
     "metadata": {},
     "output_type": "execute_result"
    }
   ],
   "source": [
    "print(test_data.shape)\n",
    "test_data.head()"
   ]
  },
  {
   "cell_type": "markdown",
   "metadata": {},
   "source": [
    "Нам нужно явно выделить наши признаки и таргет обучения. Давайте напишем несложную функцию и будем ее использовать:"
   ]
  },
  {
   "cell_type": "code",
   "execution_count": 5,
   "metadata": {},
   "outputs": [],
   "source": [
    "def get_features_and_taget(data, column):\n",
    "    return data.drop([column], axis=1).to_numpy(), data[column].to_numpy()"
   ]
  },
  {
   "cell_type": "code",
   "execution_count": 6,
   "metadata": {},
   "outputs": [],
   "source": [
    "X_train, Y_train = get_features_and_taget(train_data, \"Sales\")\n",
    "X_test, Y_test = get_features_and_taget(test_data, \"Sales\")"
   ]
  },
  {
   "cell_type": "code",
   "execution_count": 7,
   "metadata": {},
   "outputs": [
    {
     "data": {
      "text/plain": [
       "array([[205. ,  45.1,  19.6],\n",
       "       [  8.7,  48.9,  75. ],\n",
       "       [ 68.4,  44.5,  35.6],\n",
       "       [ 75.3,  20.3,  32.5],\n",
       "       [187.9,  17.2,  17.9],\n",
       "       [ 66.9,  11.7,  36.8],\n",
       "       [ 85.7,  35.8,  49.3],\n",
       "       [170.2,   7.8,  35.2],\n",
       "       [220.3,  49. ,   3.2],\n",
       "       [180.8,  10.8,  58.4]])"
      ]
     },
     "execution_count": 7,
     "metadata": {},
     "output_type": "execute_result"
    }
   ],
   "source": [
    "X_train[:10]"
   ]
  },
  {
   "cell_type": "code",
   "execution_count": 8,
   "metadata": {},
   "outputs": [
    {
     "data": {
      "text/plain": [
       "array([22.6,  7.2, 13.6, 11.3, 14.7,  9.7, 13.3, 11.7, 24.7, 12.9])"
      ]
     },
     "execution_count": 8,
     "metadata": {},
     "output_type": "execute_result"
    }
   ],
   "source": [
    "Y_train[:10]"
   ]
  },
  {
   "cell_type": "markdown",
   "metadata": {},
   "source": [
    "Обучим линейную регрессию с помощью sklearn:"
   ]
  },
  {
   "cell_type": "code",
   "execution_count": 9,
   "metadata": {},
   "outputs": [
    {
     "data": {
      "text/plain": [
       "LinearRegression(copy_X=True, fit_intercept=True, n_jobs=None,\n",
       "         normalize=False)"
      ]
     },
     "execution_count": 9,
     "metadata": {},
     "output_type": "execute_result"
    }
   ],
   "source": [
    "from sklearn.linear_model import LinearRegression\n",
    "\n",
    "model = LinearRegression()\n",
    "model.fit(X_train, Y_train)"
   ]
  },
  {
   "cell_type": "markdown",
   "metadata": {},
   "source": [
    "Посмотрим на ее качество:"
   ]
  },
  {
   "cell_type": "code",
   "execution_count": 10,
   "metadata": {},
   "outputs": [
    {
     "name": "stdout",
     "output_type": "stream",
     "text": [
      "Train R-squared 0.9059254619738741\n",
      "Test R-squared 0.8565565111381533\n"
     ]
    }
   ],
   "source": [
    "Y_train_prediced = model.predict(X_train)\n",
    "Y_test_prediced = model.predict(X_test)\n",
    "\n",
    "from sklearn.metrics import r2_score\n",
    "\n",
    "print(\"Train R-squared\", r2_score(Y_train_prediced, Y_train))\n",
    "print(\"Test R-squared\", r2_score(Y_test_prediced, Y_test))"
   ]
  },
  {
   "cell_type": "markdown",
   "metadata": {},
   "source": [
    "А теперь, как настоящие машинлернеры, давайте напишем фичи.\n",
    "\n",
    "Часто, чтобы выша модель могла давать лучшие прогнозы, вам нужно добавить больше фичей, которые могли бы учесть некоторые зависимости в ваших данных. Например, добавив квадрат переменной TV, мы сможем учесть часть нелинейной зависимости:"
   ]
  },
  {
   "cell_type": "code",
   "execution_count": 11,
   "metadata": {},
   "outputs": [
    {
     "name": "stdout",
     "output_type": "stream",
     "text": [
      "Train R-squared 0.9245602310435512\n",
      "Test R-squared 0.8910415134867766\n"
     ]
    }
   ],
   "source": [
    "data = pd.read_csv('Advertising.csv', index_col=0)\n",
    "\n",
    "data[\"TV_2\"] = np.power(data[\"TV\"], 2)\n",
    "\n",
    "train_data, test_data = train_test_split(data, test_size=0.5, random_state=67)\n",
    "\n",
    "\n",
    "X_train, Y_train = get_features_and_taget(train_data, \"Sales\")\n",
    "X_test, Y_test = get_features_and_taget(test_data, \"Sales\")\n",
    "\n",
    "model = LinearRegression()\n",
    "model.fit(X_train, Y_train)\n",
    "\n",
    "\n",
    "Y_train_prediced = model.predict(X_train)\n",
    "Y_test_prediced = model.predict(X_test)\n",
    "\n",
    "print(\"Train R-squared\", r2_score(Y_train_prediced, Y_train))\n",
    "print(\"Test R-squared\", r2_score(Y_test_prediced, Y_test))"
   ]
  },
  {
   "cell_type": "markdown",
   "metadata": {},
   "source": [
    "Кажется, стало лучше. Так чего мелочиться, давайте напишем много фичей в цикле:"
   ]
  },
  {
   "cell_type": "code",
   "execution_count": 12,
   "metadata": {},
   "outputs": [
    {
     "data": {
      "text/html": [
       "<div>\n",
       "<style scoped>\n",
       "    .dataframe tbody tr th:only-of-type {\n",
       "        vertical-align: middle;\n",
       "    }\n",
       "\n",
       "    .dataframe tbody tr th {\n",
       "        vertical-align: top;\n",
       "    }\n",
       "\n",
       "    .dataframe thead th {\n",
       "        text-align: right;\n",
       "    }\n",
       "</style>\n",
       "<table border=\"1\" class=\"dataframe\">\n",
       "  <thead>\n",
       "    <tr style=\"text-align: right;\">\n",
       "      <th></th>\n",
       "      <th>TV</th>\n",
       "      <th>Radio</th>\n",
       "      <th>Newspaper</th>\n",
       "      <th>Sales</th>\n",
       "      <th>TV_3</th>\n",
       "      <th>Radio_3</th>\n",
       "      <th>Newspaper_3</th>\n",
       "      <th>TV_4</th>\n",
       "      <th>Radio_4</th>\n",
       "      <th>Newspaper_4</th>\n",
       "      <th>...</th>\n",
       "      <th>Newspaper_6</th>\n",
       "      <th>TV_7</th>\n",
       "      <th>Radio_7</th>\n",
       "      <th>Newspaper_7</th>\n",
       "      <th>TV_8</th>\n",
       "      <th>Radio_8</th>\n",
       "      <th>Newspaper_8</th>\n",
       "      <th>TV_9</th>\n",
       "      <th>Radio_9</th>\n",
       "      <th>Newspaper_9</th>\n",
       "    </tr>\n",
       "  </thead>\n",
       "  <tbody>\n",
       "    <tr>\n",
       "      <td>1</td>\n",
       "      <td>230.1</td>\n",
       "      <td>37.8</td>\n",
       "      <td>69.2</td>\n",
       "      <td>22.1</td>\n",
       "      <td>0.912256</td>\n",
       "      <td>0.945585</td>\n",
       "      <td>5.629734</td>\n",
       "      <td>0.884754</td>\n",
       "      <td>0.928113</td>\n",
       "      <td>10.014990</td>\n",
       "      <td>...</td>\n",
       "      <td>31.693909</td>\n",
       "      <td>8.071218e-01</td>\n",
       "      <td>0.877610</td>\n",
       "      <td>56.381736</td>\n",
       "      <td>7.827889e-01</td>\n",
       "      <td>0.861394</td>\n",
       "      <td>100.300034</td>\n",
       "      <td>7.591896e-01</td>\n",
       "      <td>0.845478</td>\n",
       "      <td>178.428291</td>\n",
       "    </tr>\n",
       "    <tr>\n",
       "      <td>2</td>\n",
       "      <td>44.5</td>\n",
       "      <td>39.3</td>\n",
       "      <td>45.1</td>\n",
       "      <td>10.4</td>\n",
       "      <td>-1.716690</td>\n",
       "      <td>1.269563</td>\n",
       "      <td>0.300196</td>\n",
       "      <td>2.055524</td>\n",
       "      <td>1.374692</td>\n",
       "      <td>0.201005</td>\n",
       "      <td>...</td>\n",
       "      <td>0.090118</td>\n",
       "      <td>-3.528697e+00</td>\n",
       "      <td>1.745258</td>\n",
       "      <td>0.060341</td>\n",
       "      <td>4.225178e+00</td>\n",
       "      <td>1.889779</td>\n",
       "      <td>0.040403</td>\n",
       "      <td>-5.059128e+00</td>\n",
       "      <td>2.046268</td>\n",
       "      <td>0.027053</td>\n",
       "    </tr>\n",
       "    <tr>\n",
       "      <td>3</td>\n",
       "      <td>17.2</td>\n",
       "      <td>45.9</td>\n",
       "      <td>69.3</td>\n",
       "      <td>9.3</td>\n",
       "      <td>-3.485225</td>\n",
       "      <td>3.570796</td>\n",
       "      <td>5.673550</td>\n",
       "      <td>5.284141</td>\n",
       "      <td>5.457831</td>\n",
       "      <td>10.119052</td>\n",
       "      <td>...</td>\n",
       "      <td>32.189169</td>\n",
       "      <td>-1.841642e+01</td>\n",
       "      <td>19.488801</td>\n",
       "      <td>57.410948</td>\n",
       "      <td>2.792215e+01</td>\n",
       "      <td>29.787918</td>\n",
       "      <td>102.395219</td>\n",
       "      <td>-4.233430e+01</td>\n",
       "      <td>45.529739</td>\n",
       "      <td>182.626854</td>\n",
       "    </tr>\n",
       "    <tr>\n",
       "      <td>4</td>\n",
       "      <td>151.5</td>\n",
       "      <td>41.3</td>\n",
       "      <td>58.5</td>\n",
       "      <td>18.5</td>\n",
       "      <td>0.000141</td>\n",
       "      <td>1.806287</td>\n",
       "      <td>2.128792</td>\n",
       "      <td>0.000007</td>\n",
       "      <td>2.199795</td>\n",
       "      <td>2.738489</td>\n",
       "      <td>...</td>\n",
       "      <td>4.531755</td>\n",
       "      <td>1.034967e-09</td>\n",
       "      <td>3.973461</td>\n",
       "      <td>5.829673</td>\n",
       "      <td>5.386971e-11</td>\n",
       "      <td>4.839099</td>\n",
       "      <td>7.499321</td>\n",
       "      <td>2.803901e-12</td>\n",
       "      <td>5.893320</td>\n",
       "      <td>9.647164</td>\n",
       "    </tr>\n",
       "    <tr>\n",
       "      <td>5</td>\n",
       "      <td>180.8</td>\n",
       "      <td>10.8</td>\n",
       "      <td>58.4</td>\n",
       "      <td>12.9</td>\n",
       "      <td>0.061248</td>\n",
       "      <td>-0.596126</td>\n",
       "      <td>2.106021</td>\n",
       "      <td>0.024143</td>\n",
       "      <td>0.501708</td>\n",
       "      <td>2.699502</td>\n",
       "      <td>...</td>\n",
       "      <td>4.435325</td>\n",
       "      <td>1.478697e-03</td>\n",
       "      <td>-0.299081</td>\n",
       "      <td>5.685208</td>\n",
       "      <td>5.828758e-04</td>\n",
       "      <td>0.251711</td>\n",
       "      <td>7.287310</td>\n",
       "      <td>2.297593e-04</td>\n",
       "      <td>-0.211843</td>\n",
       "      <td>9.340887</td>\n",
       "    </tr>\n",
       "    <tr>\n",
       "      <td>...</td>\n",
       "      <td>...</td>\n",
       "      <td>...</td>\n",
       "      <td>...</td>\n",
       "      <td>...</td>\n",
       "      <td>...</td>\n",
       "      <td>...</td>\n",
       "      <td>...</td>\n",
       "      <td>...</td>\n",
       "      <td>...</td>\n",
       "      <td>...</td>\n",
       "      <td>...</td>\n",
       "      <td>...</td>\n",
       "      <td>...</td>\n",
       "      <td>...</td>\n",
       "      <td>...</td>\n",
       "      <td>...</td>\n",
       "      <td>...</td>\n",
       "      <td>...</td>\n",
       "      <td>...</td>\n",
       "      <td>...</td>\n",
       "      <td>...</td>\n",
       "    </tr>\n",
       "    <tr>\n",
       "      <td>196</td>\n",
       "      <td>38.2</td>\n",
       "      <td>3.7</td>\n",
       "      <td>13.8</td>\n",
       "      <td>7.6</td>\n",
       "      <td>-2.052937</td>\n",
       "      <td>-2.305361</td>\n",
       "      <td>-0.458701</td>\n",
       "      <td>2.609161</td>\n",
       "      <td>3.045453</td>\n",
       "      <td>0.353758</td>\n",
       "      <td>...</td>\n",
       "      <td>0.210407</td>\n",
       "      <td>-5.356445e+00</td>\n",
       "      <td>-7.020870</td>\n",
       "      <td>-0.162269</td>\n",
       "      <td>6.807724e+00</td>\n",
       "      <td>9.274786</td>\n",
       "      <td>0.125145</td>\n",
       "      <td>-8.652212e+00</td>\n",
       "      <td>-12.252279</td>\n",
       "      <td>-0.096514</td>\n",
       "    </tr>\n",
       "    <tr>\n",
       "      <td>197</td>\n",
       "      <td>94.2</td>\n",
       "      <td>4.9</td>\n",
       "      <td>8.1</td>\n",
       "      <td>9.7</td>\n",
       "      <td>-0.234926</td>\n",
       "      <td>-1.906636</td>\n",
       "      <td>-1.104219</td>\n",
       "      <td>0.144957</td>\n",
       "      <td>2.364234</td>\n",
       "      <td>1.141319</td>\n",
       "      <td>...</td>\n",
       "      <td>1.219301</td>\n",
       "      <td>-3.405419e-02</td>\n",
       "      <td>-4.507734</td>\n",
       "      <td>-1.260267</td>\n",
       "      <td>2.101264e-02</td>\n",
       "      <td>5.589603</td>\n",
       "      <td>1.302610</td>\n",
       "      <td>-1.296554e-02</td>\n",
       "      <td>-6.931122</td>\n",
       "      <td>-1.346376</td>\n",
       "    </tr>\n",
       "    <tr>\n",
       "      <td>198</td>\n",
       "      <td>177.0</td>\n",
       "      <td>9.3</td>\n",
       "      <td>6.4</td>\n",
       "      <td>12.8</td>\n",
       "      <td>0.042805</td>\n",
       "      <td>-0.838292</td>\n",
       "      <td>-1.374490</td>\n",
       "      <td>0.014974</td>\n",
       "      <td>0.790425</td>\n",
       "      <td>1.528230</td>\n",
       "      <td>...</td>\n",
       "      <td>1.889222</td>\n",
       "      <td>6.409529e-04</td>\n",
       "      <td>-0.662607</td>\n",
       "      <td>-2.100536</td>\n",
       "      <td>2.242118e-04</td>\n",
       "      <td>0.624772</td>\n",
       "      <td>2.335486</td>\n",
       "      <td>7.843153e-05</td>\n",
       "      <td>-0.589097</td>\n",
       "      <td>-2.596715</td>\n",
       "    </tr>\n",
       "    <tr>\n",
       "      <td>199</td>\n",
       "      <td>283.6</td>\n",
       "      <td>42.0</td>\n",
       "      <td>66.2</td>\n",
       "      <td>25.5</td>\n",
       "      <td>4.054403</td>\n",
       "      <td>2.024868</td>\n",
       "      <td>4.417806</td>\n",
       "      <td>6.465009</td>\n",
       "      <td>2.561703</td>\n",
       "      <td>7.248958</td>\n",
       "      <td>...</td>\n",
       "      <td>19.517012</td>\n",
       "      <td>2.621175e+01</td>\n",
       "      <td>5.187110</td>\n",
       "      <td>32.024490</td>\n",
       "      <td>4.179634e+01</td>\n",
       "      <td>6.562324</td>\n",
       "      <td>52.547385</td>\n",
       "      <td>6.664700e+01</td>\n",
       "      <td>8.302137</td>\n",
       "      <td>86.222378</td>\n",
       "    </tr>\n",
       "    <tr>\n",
       "      <td>200</td>\n",
       "      <td>232.1</td>\n",
       "      <td>8.6</td>\n",
       "      <td>8.7</td>\n",
       "      <td>13.4</td>\n",
       "      <td>0.979756</td>\n",
       "      <td>-0.970786</td>\n",
       "      <td>-1.018045</td>\n",
       "      <td>0.973100</td>\n",
       "      <td>0.961238</td>\n",
       "      <td>1.024132</td>\n",
       "      <td>...</td>\n",
       "      <td>1.036416</td>\n",
       "      <td>9.534006e-01</td>\n",
       "      <td>-0.933157</td>\n",
       "      <td>-1.042613</td>\n",
       "      <td>9.469232e-01</td>\n",
       "      <td>0.923979</td>\n",
       "      <td>1.048847</td>\n",
       "      <td>9.404898e-01</td>\n",
       "      <td>-0.914892</td>\n",
       "      <td>-1.055118</td>\n",
       "    </tr>\n",
       "  </tbody>\n",
       "</table>\n",
       "<p>200 rows × 25 columns</p>\n",
       "</div>"
      ],
      "text/plain": [
       "        TV  Radio  Newspaper  Sales      TV_3   Radio_3  Newspaper_3  \\\n",
       "1    230.1   37.8       69.2   22.1  0.912256  0.945585     5.629734   \n",
       "2     44.5   39.3       45.1   10.4 -1.716690  1.269563     0.300196   \n",
       "3     17.2   45.9       69.3    9.3 -3.485225  3.570796     5.673550   \n",
       "4    151.5   41.3       58.5   18.5  0.000141  1.806287     2.128792   \n",
       "5    180.8   10.8       58.4   12.9  0.061248 -0.596126     2.106021   \n",
       "..     ...    ...        ...    ...       ...       ...          ...   \n",
       "196   38.2    3.7       13.8    7.6 -2.052937 -2.305361    -0.458701   \n",
       "197   94.2    4.9        8.1    9.7 -0.234926 -1.906636    -1.104219   \n",
       "198  177.0    9.3        6.4   12.8  0.042805 -0.838292    -1.374490   \n",
       "199  283.6   42.0       66.2   25.5  4.054403  2.024868     4.417806   \n",
       "200  232.1    8.6        8.7   13.4  0.979756 -0.970786    -1.018045   \n",
       "\n",
       "         TV_4   Radio_4  Newspaper_4  ...  Newspaper_6          TV_7  \\\n",
       "1    0.884754  0.928113    10.014990  ...    31.693909  8.071218e-01   \n",
       "2    2.055524  1.374692     0.201005  ...     0.090118 -3.528697e+00   \n",
       "3    5.284141  5.457831    10.119052  ...    32.189169 -1.841642e+01   \n",
       "4    0.000007  2.199795     2.738489  ...     4.531755  1.034967e-09   \n",
       "5    0.024143  0.501708     2.699502  ...     4.435325  1.478697e-03   \n",
       "..        ...       ...          ...  ...          ...           ...   \n",
       "196  2.609161  3.045453     0.353758  ...     0.210407 -5.356445e+00   \n",
       "197  0.144957  2.364234     1.141319  ...     1.219301 -3.405419e-02   \n",
       "198  0.014974  0.790425     1.528230  ...     1.889222  6.409529e-04   \n",
       "199  6.465009  2.561703     7.248958  ...    19.517012  2.621175e+01   \n",
       "200  0.973100  0.961238     1.024132  ...     1.036416  9.534006e-01   \n",
       "\n",
       "       Radio_7  Newspaper_7          TV_8    Radio_8  Newspaper_8  \\\n",
       "1     0.877610    56.381736  7.827889e-01   0.861394   100.300034   \n",
       "2     1.745258     0.060341  4.225178e+00   1.889779     0.040403   \n",
       "3    19.488801    57.410948  2.792215e+01  29.787918   102.395219   \n",
       "4     3.973461     5.829673  5.386971e-11   4.839099     7.499321   \n",
       "5    -0.299081     5.685208  5.828758e-04   0.251711     7.287310   \n",
       "..         ...          ...           ...        ...          ...   \n",
       "196  -7.020870    -0.162269  6.807724e+00   9.274786     0.125145   \n",
       "197  -4.507734    -1.260267  2.101264e-02   5.589603     1.302610   \n",
       "198  -0.662607    -2.100536  2.242118e-04   0.624772     2.335486   \n",
       "199   5.187110    32.024490  4.179634e+01   6.562324    52.547385   \n",
       "200  -0.933157    -1.042613  9.469232e-01   0.923979     1.048847   \n",
       "\n",
       "             TV_9    Radio_9  Newspaper_9  \n",
       "1    7.591896e-01   0.845478   178.428291  \n",
       "2   -5.059128e+00   2.046268     0.027053  \n",
       "3   -4.233430e+01  45.529739   182.626854  \n",
       "4    2.803901e-12   5.893320     9.647164  \n",
       "5    2.297593e-04  -0.211843     9.340887  \n",
       "..            ...        ...          ...  \n",
       "196 -8.652212e+00 -12.252279    -0.096514  \n",
       "197 -1.296554e-02  -6.931122    -1.346376  \n",
       "198  7.843153e-05  -0.589097    -2.596715  \n",
       "199  6.664700e+01   8.302137    86.222378  \n",
       "200  9.404898e-01  -0.914892    -1.055118  \n",
       "\n",
       "[200 rows x 25 columns]"
      ]
     },
     "execution_count": 12,
     "metadata": {},
     "output_type": "execute_result"
    }
   ],
   "source": [
    "data = pd.read_csv('Advertising.csv', index_col=0)\n",
    "\n",
    "from sklearn.preprocessing import scale\n",
    "\n",
    "for i in range(3, 10):\n",
    "    # we use scale to avoid numerical problems. Use values less then 20\n",
    "    data[f\"TV_{i}\"] = np.power(scale(data[\"TV\"]), i)\n",
    "    data[f\"Radio_{i}\"] = np.power(scale(data[\"Radio\"]), i)\n",
    "    data[f\"Newspaper_{i}\"] = np.power(scale(data[\"Newspaper\"]), i)\n",
    "    \n",
    "data"
   ]
  },
  {
   "cell_type": "code",
   "execution_count": 13,
   "metadata": {},
   "outputs": [
    {
     "name": "stdout",
     "output_type": "stream",
     "text": [
      "Train R-squared 0.9480301794050353\n",
      "Test R-squared 0.8019777848247578\n"
     ]
    }
   ],
   "source": [
    "train_data, test_data = train_test_split(data, test_size=0.5, random_state=67)\n",
    "\n",
    "\n",
    "X_train, Y_train = get_features_and_taget(train_data, \"Sales\")\n",
    "X_test, Y_test = get_features_and_taget(test_data, \"Sales\")\n",
    "\n",
    "model = LinearRegression()\n",
    "model.fit(X_train, Y_train)\n",
    "\n",
    "\n",
    "Y_train_prediced = model.predict(X_train)\n",
    "Y_test_prediced = model.predict(X_test)\n",
    "\n",
    "print(\"Train R-squared\", r2_score(Y_train_prediced, Y_train))\n",
    "print(\"Test R-squared\", r2_score(Y_test_prediced, Y_test))"
   ]
  },
  {
   "cell_type": "markdown",
   "metadata": {},
   "source": [
    "Как можно видеть, качество модели ($R^2$) падает на тесте, а на трейне растет. Это называется **переобучение**\n",
    "\n",
    "![](https://miro.medium.com/max/875/1*_7OPgojau8hkiPUiHoGK_w.png)\n",
    "\n",
    "**Optional**: Засуньте все выше в цикл и нарисуйте (import matplotlib.pyplot as plt) линии для трейна и теста с разными уровнями степени, а мы идем дальше. "
   ]
  },
  {
   "cell_type": "markdown",
   "metadata": {},
   "source": [
    "### Материал для отличников труда (optional)\n",
    "\n",
    "Здесь стоит упомянуть про баланс между смещением и отклонением (переобучение и недообучение модели). Чтобы понять, что это, рассмотрим следующие определения и изображения ниже:\n",
    "\n",
    "* **Bias** (смещение) - это систематическая ошибка прогноза. Ключевым словом является **систематическая** ошибка (в наклоне **k**), а не локальная ошибка (остатки **y**). Вы можете думать о **bias** как о точности прогнозов, по сути, это матожидание разности между истинным ответом и выданным алгоритмом.\n",
    "* **Variance** (разброс) - мера разброса нашего вектора весов оценок.\n",
    "\n",
    "Таким образом, разброс характеризует разнообразие алгоритмов (из-за случайности обучающей выборки, в том числе шума, и стохастической природы настройки), а смещение – способность модели алгоритмов настраиваться на целевую зависимость. \n",
    "\n",
    "\n",
    "![](https://alexanderdyakonov.files.wordpress.com/2018/04/bv_all.jpg)\n",
    "![](http://www.ebc.cat/wp-content/uploads/2017/02/right_fited_model-1024x623.png)"
   ]
  },
  {
   "cell_type": "markdown",
   "metadata": {},
   "source": [
    "# Теперь вообще серьезно. Ну, практически\n",
    "\n",
    "Воспользуемся набором данных с признаками по недвижимости для предсказания ее стоимости с Kaggle: [House Prices: Advanced Regression Techniques](https://www.kaggle.com/c/house-prices-advanced-regression-techniques). Данные заранее разделены на обучающую (train) и тестовую (test) выборки. \n",
    "\n",
    "На самом деле, выше, когда мы говорили про трейн и тест, мы немного упрощали картину мира. Вообще говоря, тест, обычно, - это наша с вами жизнь, а в случае соревнования он нам просто недоступен. Также, правильнее выделять 3 типа выборок: тренировочную, валидационную и тестовую."
   ]
  },
  {
   "cell_type": "code",
   "execution_count": 14,
   "metadata": {},
   "outputs": [
    {
     "name": "stdout",
     "output_type": "stream",
     "text": [
      "Размер train: (1460, 80)\n",
      "Размер test: (1459, 79)\n"
     ]
    }
   ],
   "source": [
    "import warnings\n",
    "warnings.filterwarnings('ignore')\n",
    "\n",
    "train = pd.read_csv('./data/train.csv', index_col=0)\n",
    "test = pd.read_csv('./data/test.csv', index_col=0)\n",
    "print(f'Размер train: {train.shape}')\n",
    "print(f'Размер test: {test.shape}')"
   ]
  },
  {
   "cell_type": "markdown",
   "metadata": {},
   "source": [
    "В test количество колонок меньше на 1:"
   ]
  },
  {
   "cell_type": "code",
   "execution_count": null,
   "metadata": {},
   "outputs": [],
   "source": [
    "set(list(train.columns)) - set(list(test.columns))"
   ]
  },
  {
   "cell_type": "markdown",
   "metadata": {},
   "source": [
    "Так как в данном случае таргет мы имеем только для трейна, работать будем только с ним. Если хотите закомитить решение на Kaggle, проделайте те же самые операции с тестом. "
   ]
  },
  {
   "cell_type": "markdown",
   "metadata": {},
   "source": [
    "SalePrice - наша таргетная (целевая) переменная. Полное описание всех 79 признаков в данных доступно в файле ```data_description.txt``` либо можно посмотреть на [Kaggle](https://www.kaggle.com/c/house-prices-advanced-regression-techniques/data)"
   ]
  },
  {
   "cell_type": "markdown",
   "metadata": {},
   "source": [
    "## Работа с данными"
   ]
  },
  {
   "cell_type": "markdown",
   "metadata": {},
   "source": [
    "### Чтобы улучшить качествоваших прогнозов можно немного пошаманить (optional):\n",
    "\n",
    "1. Найти и удалить выбросы\n",
    "2. Заполнить пропущенные значения\n",
    "3. Придумать фичи"
   ]
  },
  {
   "cell_type": "markdown",
   "metadata": {},
   "source": [
    "### 1. Удаляем выбросы"
   ]
  },
  {
   "cell_type": "markdown",
   "metadata": {},
   "source": [
    "Покажем этот шаг на примере с одним признаком - жилой площадью. То же самое можно проделать по остальным признакам.   "
   ]
  },
  {
   "cell_type": "markdown",
   "metadata": {},
   "source": [
    "Значение z-score +/- 3 обычно рассматривается как выброс. Ну, или на глаз :)"
   ]
  },
  {
   "cell_type": "code",
   "execution_count": null,
   "metadata": {},
   "outputs": [],
   "source": [
    "train.shape[0]"
   ]
  },
  {
   "cell_type": "code",
   "execution_count": null,
   "metadata": {},
   "outputs": [],
   "source": [
    "from scipy import stats\n",
    "\n",
    "z_scores = stats.zscore(train['GrLivArea'])\n",
    "train['z_score'] = np.abs(z_scores)\n",
    "print('Было 1460, осталось', train[train.z_score < 3].shape[0], 'наблюдения')"
   ]
  },
  {
   "cell_type": "code",
   "execution_count": null,
   "metadata": {
    "scrolled": false
   },
   "outputs": [],
   "source": [
    "import matplotlib.pyplot as plt\n",
    "import seaborn as sns\n",
    "\n",
    "plt.figure(figsize=(16, 8))\n",
    "plt.subplot(1, 2, 1)\n",
    "sns.scatterplot(x=train['GrLivArea'], y=train['SalePrice'])\n",
    "plt.title('Исходные данные:\\nGrLivArea vs SalePrice')\n",
    "\n",
    "plt.subplot(1, 2, 2)\n",
    "sns.scatterplot(x=train[train.z_score < 3]['GrLivArea'], y=train['SalePrice'])\n",
    "plt.title('Без выбросов:\\nGrLivArea vs SalePrice')\n",
    "plt.tight_layout()"
   ]
  },
  {
   "cell_type": "code",
   "execution_count": null,
   "metadata": {},
   "outputs": [],
   "source": [
    "train = train[train.z_score < 3]\n",
    "train.drop(columns='z_score', inplace=True)"
   ]
  },
  {
   "cell_type": "markdown",
   "metadata": {},
   "source": [
    "### 2. Посмотрим наличие пропущенных значений"
   ]
  },
  {
   "cell_type": "code",
   "execution_count": null,
   "metadata": {},
   "outputs": [],
   "source": [
    "train.isnull().sum()"
   ]
  },
  {
   "cell_type": "markdown",
   "metadata": {},
   "source": [
    "Колонок слишком много, можем обернуть результат в словарь и отсортировать по количеству пропусков по убыванию. "
   ]
  },
  {
   "cell_type": "code",
   "execution_count": null,
   "metadata": {
    "scrolled": true
   },
   "outputs": [],
   "source": [
    "sorted(dict(train.isnull().sum()).items(), key=lambda x: x[1], reverse=True)[:20]"
   ]
  },
  {
   "cell_type": "markdown",
   "metadata": {},
   "source": [
    "Взглянем на описание данных из документации, где рекомендованы разные стратегии по заполнению пропущенных значений:"
   ]
  },
  {
   "cell_type": "code",
   "execution_count": null,
   "metadata": {},
   "outputs": [],
   "source": [
    "from IPython.display import Image\n",
    "Image(\"./data/data_desc.png\", height=800 , width=600)"
   ]
  },
  {
   "cell_type": "markdown",
   "metadata": {},
   "source": [
    "Заполним пропущенные значения в соответствии со стратегиями выше:"
   ]
  },
  {
   "cell_type": "code",
   "execution_count": null,
   "metadata": {},
   "outputs": [],
   "source": [
    "cat_to_none = ('PoolQC', 'MiscFeature', 'Fence', 'Alley', 'FireplaceQu', 'GarageType', 'GarageFinish',\n",
    "              'GarageQual', 'GarageCond', 'BsmtQual', 'BsmtCond', 'BsmtExposure', 'BsmtFinType1',\n",
    "              'BsmtFinType2', 'MasVnrType', 'MSSubClass')\n",
    "    \n",
    "cat_to_mode = ('MSZoning', 'Functional', 'Electrical', 'KitchenQual', 'Exterior1st', 'Exterior2nd',\n",
    "              'Utilities', 'SaleType')\n",
    "\n",
    "num_to_zero = ('GarageArea', 'GarageCars', 'BsmtFinSF1', 'BsmtFinSF2', 'BsmtUnfSF', 'TotalBsmtSF',\n",
    "              'BsmtFullBath', 'BsmtHalfBath', 'GarageYrBlt', 'MasVnrArea')\n",
    "\n",
    "for col in cat_to_none:\n",
    "    train[col] = train[col].fillna('None')\n",
    "\n",
    "for col in cat_to_mode:\n",
    "    train[col] = train[col].fillna(train[col].mode()[0])\n",
    "    \n",
    "for col in num_to_zero:\n",
    "    train[col] = train[col].fillna(0)\n"
   ]
  },
  {
   "cell_type": "markdown",
   "metadata": {},
   "source": [
    "* По переменной **LotFrontage** нужен дополнительный анализ\n",
    "\n",
    "Поскольку LotFrontage - это расстояние до двора дома, мы можем сделать предположение, что оно зависит от района, в котором расположен дом. Таким образом, мы можем сгруппировать значения LotFrontage по признаку соседства и заменить отсутствующие значения на медианное расстояние LotFrontage по соседству."
   ]
  },
  {
   "cell_type": "code",
   "execution_count": null,
   "metadata": {},
   "outputs": [],
   "source": [
    "train[\"LotFrontage\"] = train.groupby(\"Neighborhood\")[\"LotFrontage\"].transform(lambda x: x.fillna(x.median()))"
   ]
  },
  {
   "cell_type": "markdown",
   "metadata": {},
   "source": [
    "### 3. Добавим фичи\n",
    "\n",
    "![](https://i.pinimg.com/originals/80/b2/fe/80b2febe7af2b92dd3e8565110d507e7.jpg)"
   ]
  },
  {
   "cell_type": "markdown",
   "metadata": {},
   "source": [
    "Для примера:\n",
    "* Пусть Total_SF будет общий метраж дома."
   ]
  },
  {
   "cell_type": "code",
   "execution_count": null,
   "metadata": {},
   "outputs": [],
   "source": [
    "train['Total_SF'] = (train['1stFlrSF'] + train['2ndFlrSF'] + \n",
    "                       + train['TotalBsmtSF'] + train['GarageArea'] + \n",
    "                       + train['GrLivArea'] + train['PoolArea'] + train['WoodDeckSF'])"
   ]
  },
  {
   "cell_type": "markdown",
   "metadata": {},
   "source": [
    "Вот Вы написали уже свою первую \"фичу\", как настоящий машинлернер.\n",
    "\n",
    "P.S.: Осталось только выучить машинное обучение, чтобы понять, что в линейной регрессии данная фича не имеет пользы."
   ]
  },
  {
   "cell_type": "code",
   "execution_count": null,
   "metadata": {},
   "outputs": [],
   "source": [
    "# HUGE tonn of features can be written here"
   ]
  },
  {
   "cell_type": "markdown",
   "metadata": {},
   "source": [
    "И еще: нужно сделать дамми переменные (см. прошлый семинар), потому что у нас куча категориальных признаков."
   ]
  },
  {
   "cell_type": "code",
   "execution_count": null,
   "metadata": {},
   "outputs": [],
   "source": [
    "train = pd.get_dummies(train)"
   ]
  },
  {
   "cell_type": "markdown",
   "metadata": {},
   "source": [
    "## Ridge и Lasso\n"
   ]
  },
  {
   "cell_type": "markdown",
   "metadata": {},
   "source": [
    "Начнем с обучения простой регрессии. Копипастнем код с прошлого датасета."
   ]
  },
  {
   "cell_type": "code",
   "execution_count": null,
   "metadata": {},
   "outputs": [],
   "source": [
    "train_data, test_data = train_test_split(train, test_size=0.5, random_state=67)\n",
    "\n",
    "from sklearn.linear_model import ElasticNet, Lasso, Ridge, RidgeCV, LassoCV\n",
    "\n",
    "X_train, Y_train = get_features_and_taget(train_data, \"SalePrice\")\n",
    "X_test, Y_test = get_features_and_taget(test_data, \"SalePrice\")\n",
    "\n",
    "model = LinearRegression()\n",
    "model.fit(X_train, Y_train)\n",
    "\n",
    "\n",
    "Y_train_prediced = model.predict(X_train)\n",
    "Y_test_prediced = model.predict(X_test)\n",
    "\n",
    "print(\"Train R-squared\", r2_score(Y_train_prediced, Y_train))\n",
    "print(\"Test R-squared\", r2_score(Y_test_prediced, Y_test))"
   ]
  },
  {
   "cell_type": "markdown",
   "metadata": {},
   "source": [
    "А теперь давайте подумаем. **Что, если у нас и так уже есть переобучение?**\n",
    "\n",
    "Можем ли мы как-то избежать его? Какие есть варианты? Есть ли общий подход? Есть!\n",
    "\n",
    "\n",
    "Обозначения:\n",
    "\n",
    "* $X$ - входные переменные (признаки)\n",
    "* $w$ - вектор весов. В простом однофакторном линейном уравнении это был наш коэффициент наклона. Мы пытаемся оценить наш вектор весов $w$ с помощью регрессии.\n",
    "* $y$ - значение целевой переменной. Оно равно скалярному произведению $w\\cdot X$. Оценка целевой переменной обозначается как $\\hat y$ \n",
    "* $\\lambda$ - гиперпараметр, определяющий силу штрафа.\n",
    "\n",
    "Чтобы повысить точность и обобщающую способность наших моделей, мы будем использовать регуляризацию (L1 или L2) в нашем уравнении регрессии. Регуляризация позволяет увеличить смещение и снизить разброс модели за счет увеличения значения штрафа - гиперпараметра $\\lambda$. \n",
    "\n",
    "* **Ridge (гребневая) регрессия:**\n",
    "\n",
    "Модель с штрафом L2, где к функции потерь МНК добавляется сумма весов в квадрате. При увеличении гиперпараметра $\\lambda$б гребневая регрессия добавляет в модель больше смещения, поэтому качество обучения на train будет не лучшим, но при этом постепенно достигается сокращение переобучения на тестовых данных. Гребневая регрессия минимизирует (за счет штрафа) вес нерелевантных признаков, но не зануляет их. Эта модель применяется для борьбы с избыточностью данных, когда независимые переменные коррелируют друг с другом, вследствие чего проявляется неустойчивость оценок коэффициентов многомерной линейной регрессии.\n",
    "\n",
    "$\\sum_{i=1}^{n}(y_i - \\hat y_i)^2 + \\lambda||w||^2$\n",
    "\n",
    "* **Lasso регрессия**:\n",
    "\n",
    "Модель со штрафом L1, где вместо квадратов в штрафе мы используем модуль. Сила регуляризации также увеличивается с увеличением $\\lambda$, однако Lasso, в результате, отбирает признаки, поскольку зануляет веса при нерелевантных. \n",
    "\n",
    "$\\sum_{i=1}^{n}(y_i - \\hat y_i)^2 + \\lambda||w||$\n",
    "\n",
    "* **Регрессия ElasticNet**: \n",
    "\n",
    "Это модель со штрафами $L2 + L1$, где  к функции потерь добавлены оба параметра регуляризации. Эта модель была введена для ограничения иногда неточного отбора признаков Lasso, когда релевантные признаки обнуляются. Добавление штрафа $L2$ в модель увеличивает шансы на сохранение важных признаков. Обычно в определении ElasticNet необходимо указывать соотношение $\\frac{L1}{L2}$, но чаще всего берут отношение $0.5$.\n",
    "\n",
    "$\\sum_{i=1}^{n}(y_i - \\hat y_i)^2 + \\lambda_{1}||w||^2 + \\lambda_{2}||w||$\n",
    "\n"
   ]
  },
  {
   "cell_type": "markdown",
   "metadata": {},
   "source": [
    "Давайте заиспользуем же готовые модули! Но, **тут важно приводить все признаки к одному масштабу**"
   ]
  },
  {
   "cell_type": "code",
   "execution_count": null,
   "metadata": {},
   "outputs": [],
   "source": [
    "from sklearn.linear_model import ElasticNet, Lasso, Ridge\n",
    "from sklearn.preprocessing import StandardScaler\n",
    "\n",
    "train_data, test_data = train_test_split(train, test_size=0.5, random_state=67)\n",
    "\n",
    "X_train, Y_train = get_features_and_taget(train_data, \"SalePrice\")\n",
    "X_test, Y_test = get_features_and_taget(test_data, \"SalePrice\")\n",
    "\n",
    "scaler_x = StandardScaler()\n",
    "X_train = scaler_x.fit_transform(X_train)\n",
    "X_test = scaler_x.transform(X_test)\n",
    "\n",
    "\n",
    "# We scale target just for more \"usual\" alpha values\n",
    "scaler_y = StandardScaler()\n",
    "Y_train = scaler_y.fit_transform(Y_train.reshape((-1,1))).reshape(-1)\n",
    "Y_test = scaler_y.transform(Y_test.reshape((-1,1))).reshape(-1)\n",
    "\n",
    "model = Lasso(alpha=0.01) # just change me to any other model\n",
    "model.fit(X_train, Y_train)\n",
    "\n",
    "\n",
    "Y_train_predicted = model.predict(X_train)\n",
    "Y_test_predicted = model.predict(X_test)\n",
    "\n",
    "print(\"Train R-squared\", r2_score(Y_train_predicted, Y_train))\n",
    "print(\"Test R-squared\", r2_score(Y_test_predicted, Y_test))"
   ]
  },
  {
   "cell_type": "markdown",
   "metadata": {},
   "source": [
    "Стало лучше, а давайте подберем оптимальный параметр альфы!"
   ]
  },
  {
   "cell_type": "code",
   "execution_count": null,
   "metadata": {
    "scrolled": false
   },
   "outputs": [],
   "source": [
    "runs = []\n",
    "\n",
    "from tqdm import tqdm_notebook\n",
    "\n",
    "for alpha in tqdm_notebook(np.logspace(-4, -1.5, 20)):\n",
    "\n",
    "    model = Lasso(alpha=alpha) # change me between Ridge and Lasso\n",
    "    model.fit(X_train, Y_train)\n",
    "\n",
    "    Y_train_prediced = model.predict(X_train)\n",
    "    Y_test_prediced = model.predict(X_test)\n",
    "\n",
    "#     print(\"Alpha\", alpha)\n",
    "#     print(\"Train R-squared\", r2_score(Y_train_prediced, Y_train))\n",
    "#     print(\"Test R-squared\", r2_score(Y_test_prediced, Y_test))\n",
    "    \n",
    "    runs.append({\n",
    "        \"alpha\": alpha,\n",
    "        \"coef\": model.coef_,\n",
    "        \"train_score\": r2_score(Y_train_prediced, Y_train),\n",
    "        \"test_score\": r2_score(Y_test_prediced, Y_test),\n",
    "    })\n",
    "    \n",
    "    \n",
    "plt.figure(figsize=(12,3))\n",
    "plt.plot([run[\"alpha\"] for run in runs], [run[\"train_score\"] for run in runs], label=\"train_score\")\n",
    "plt.plot([run[\"alpha\"] for run in runs], [run[\"test_score\"] for run in runs], label=\"test_score\")\n",
    "plt.legend()\n",
    "plt.show()\n"
   ]
  },
  {
   "cell_type": "markdown",
   "metadata": {},
   "source": [
    "Теперь посмотрим, как меняются коэффициенты при разных уровнях альфы, для ридж (np.logspace(-2, 5, 20)) и для лассо (np.logspace(-2, 0.2, 20)):\n",
    "\n"
   ]
  },
  {
   "cell_type": "code",
   "execution_count": null,
   "metadata": {},
   "outputs": [],
   "source": [
    "runs = []\n",
    "\n",
    "from tqdm import tqdm_notebook\n",
    "\n",
    "for alpha in tqdm_notebook(np.logspace(-2, 0.2, 20)):\n",
    "\n",
    "    model = Lasso(alpha=alpha) # change me between Ridge and Lasso\n",
    "    model.fit(X_train, Y_train)\n",
    "\n",
    "    Y_train_prediced = model.predict(X_train)\n",
    "    Y_test_prediced = model.predict(X_test)\n",
    "\n",
    "#     print(\"Alpha\", alpha)\n",
    "#     print(\"Train R-squared\", r2_score(Y_train_prediced, Y_train))\n",
    "#     print(\"Test R-squared\", r2_score(Y_test_prediced, Y_test))\n",
    "    \n",
    "    runs.append({\n",
    "        \"alpha\": alpha,\n",
    "        \"coef\": model.coef_,\n",
    "        \"train_score\": r2_score(Y_train_prediced, Y_train),\n",
    "        \"test_score\": r2_score(Y_test_prediced, Y_test),\n",
    "    })\n",
    "\n",
    "\n",
    "plt.figure(figsize=(12,3))\n",
    "plt.plot([run[\"alpha\"] for run in runs], [run[\"coef\"] for run in runs])\n",
    "plt.show()"
   ]
  },
  {
   "cell_type": "markdown",
   "metadata": {},
   "source": [
    "Материал для отличников: (optional)\n",
    "\n",
    "Почему так? Это не случайно!\n",
    "\n",
    "![](https://miro.medium.com/max/761/1*nrWncnoJ4V_BkzEf1pd4MA.png)"
   ]
  },
  {
   "cell_type": "markdown",
   "metadata": {},
   "source": [
    "### Еще немного визуализации\n",
    "\n",
    "Давайте постоим график лассо или ридж регрессии, с один предиктором"
   ]
  },
  {
   "cell_type": "code",
   "execution_count": null,
   "metadata": {},
   "outputs": [],
   "source": [
    "FEATURE_INDEX = 1\n",
    "\n",
    "X, Y = get_features_and_taget(train, \"SalePrice\")\n",
    "\n",
    "X = X[:, [FEATURE_INDEX]]\n",
    "\n",
    "plt.figure(figsize=(12, 4))\n",
    "plt.scatter(X, Y, color = \"red\")\n",
    "for alpha in [0.1, 10000, 100000, 400000]: \n",
    "    model = Lasso(alpha=alpha)\n",
    "    model.fit(X, Y)\n",
    "    plt.plot(X, model.predict(X))\n",
    "\n",
    "plt.show()\n"
   ]
  },
  {
   "cell_type": "markdown",
   "metadata": {},
   "source": [
    "## 3. Кросс-валидация\n",
    " \n",
    " \n",
    "Предположим, мы подобрали оптимальный параметр. **А чтоб если мы бы разбили выборку по-другому?** Получился бы у нас другой оптимальный параметр? А давайте разобьем по-разному и подберем оптимальный параметр в среднем!"
   ]
  },
  {
   "cell_type": "markdown",
   "metadata": {},
   "source": [
    "**Кросс-валидация** (или скользящий контроль) — это процедура оценивания обобщающей способности модели, она бывает нескольких видов. Валидация на отложенных данных (**Hold-Out Validation**) - это когда мы один раз случайным образом делим выборку на train и test. \n",
    "Сегодня мы попробуем другой вид - **k-fold кросс-валидация**. \n",
    "\n",
    "1. Обучающая выборка разбивается на k непересекающихся одинаковых по объему частей;<br>\n",
    "2. Производится k итераций. На каждой итерации происходит следующее: <br>\n",
    "    2.1 Модель обучается на k−1 части обучающей выборки; <br>\n",
    "    2.2 Модель тестируется на части обучающей выборки, которая не участвовала в обучении.<br>\n",
    "\n",
    "Каждая из k частей единожды используется для тестирования. Как правило, k=10 (5 в случае малого размера выборки).\n",
    "\n",
    "![](https://long-short.pro/wp-content/uploads/sites/3/2013/06/crossvalidation.png)"
   ]
  },
  {
   "cell_type": "code",
   "execution_count": null,
   "metadata": {},
   "outputs": [],
   "source": [
    "from sklearn.model_selection import cross_validate\n",
    "\n",
    "model = Lasso(alpha=1)\n",
    "cv_results = cross_validate(model, X_train, Y_train, cv=4)\n",
    "cv_results"
   ]
  },
  {
   "cell_type": "code",
   "execution_count": null,
   "metadata": {
    "scrolled": false
   },
   "outputs": [],
   "source": [
    "runs = []\n",
    "\n",
    "from tqdm import tqdm_notebook\n",
    "\n",
    "X, Y = get_features_and_taget(train, \"SalePrice\")\n",
    "\n",
    "for alpha in tqdm_notebook(np.logspace(-4, -1.5, 20)):\n",
    "\n",
    "    model = Lasso(alpha=alpha) # change me between Ridge and Lasso\n",
    "    cv_results = cross_validate(model, X, Y, cv=4)\n",
    "\n",
    "    print(\"Alpha\", alpha)\n",
    "    print(\"Test Score\", cv_results['test_score'].mean())\n"
   ]
  },
  {
   "cell_type": "markdown",
   "metadata": {},
   "source": [
    "# 3. Рекомендуем посмотреть <a name=recoms>\n",
    "    \n",
    "1. [Kaggle. Ridge,Lasso, ElasticNet Regressions Explained](https://www.kaggle.com/fugacity/ridge-lasso-elasticnet-regressions-explained)\n",
    "2. [Анализ малых данных (блог А.Дьяконова). Разброс и смещение](https://dyakonov.org/2018/04/25/%D1%81%D0%BC%D0%B5%D1%89%D0%B5%D0%BD%D0%B8%D0%B5-bias-%D0%B8-%D1%80%D0%B0%D0%B7%D0%B1%D1%80%D0%BE%D1%81-variance-%D0%BC%D0%BE%D0%B4%D0%B5%D0%BB%D0%B8-%D0%B0%D0%BB%D0%B3%D0%BE%D1%80%D0%B8%D1%82/)\n",
    "\n",
    "Youtube видео с визуализациями:\n",
    "\n",
    "* [Ridge Regression](https://www.youtube.com/watch?v=Q81RR3yKn30)\n",
    "\n",
    "* [Lasso Regression](https://www.youtube.com/watch?v=NGf0voTMlcs)\n",
    "\n",
    "* [Ridge vs Lasso Regression visualized](https://www.youtube.com/watch?v=Xm2C_gTAl8c&ab_channel=StatQuestwithJoshStarmer)"
   ]
  },
  {
   "cell_type": "code",
   "execution_count": null,
   "metadata": {},
   "outputs": [],
   "source": []
  }
 ],
 "metadata": {
  "kernelspec": {
   "display_name": "Python 3",
   "language": "python",
   "name": "python3"
  },
  "language_info": {
   "codemirror_mode": {
    "name": "ipython",
    "version": 3
   },
   "file_extension": ".py",
   "mimetype": "text/x-python",
   "name": "python",
   "nbconvert_exporter": "python",
   "pygments_lexer": "ipython3",
   "version": "3.6.9"
  }
 },
 "nbformat": 4,
 "nbformat_minor": 1
}
