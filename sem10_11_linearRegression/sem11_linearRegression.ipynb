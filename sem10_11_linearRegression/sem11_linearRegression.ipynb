{
 "cells": [
  {
   "cell_type": "markdown",
   "metadata": {},
   "source": [
    "# <center> Линейная регрессия 2: Ridge, Lasso и Elasticnet</center>\n",
    "\n",
    "![](https://64.media.tumblr.com/72ca42a775d24a7f1c3c914b967fcd75/tumblr_pdqcnftNaV1w67ki0o2_500.gifv)\n",
    "\n",
    "В этот раз мы поговорим про регуляризацию - метод добавления дополнительных ограничений к условию задачи с целью предотвратить переобучение или скорректировать ее неправильную постановку. Чаще всего, эта информация имеет вид штрафа за сложность модели. Если вы выбрали сложную модель, и при этом у вас недостаточно данных, то легко можно получить итоговую модель, которая хорошо описывает обучающую выборку, но не обобщается на тестовую.\n"
   ]
  },
  {
   "cell_type": "markdown",
   "metadata": {},
   "source": [
    "# Начнем с повторения\n",
    "\n",
    "В прошлых сериях мы познакомились с линейной регрессией. Давайте повторим основы и еще раз рассмотрим наш датасет, но с немного другой стороны.\n"
   ]
  },
  {
   "cell_type": "code",
   "execution_count": 1,
   "metadata": {},
   "outputs": [
    {
     "data": {
      "text/html": [
       "<div>\n",
       "<style scoped>\n",
       "    .dataframe tbody tr th:only-of-type {\n",
       "        vertical-align: middle;\n",
       "    }\n",
       "\n",
       "    .dataframe tbody tr th {\n",
       "        vertical-align: top;\n",
       "    }\n",
       "\n",
       "    .dataframe thead th {\n",
       "        text-align: right;\n",
       "    }\n",
       "</style>\n",
       "<table border=\"1\" class=\"dataframe\">\n",
       "  <thead>\n",
       "    <tr style=\"text-align: right;\">\n",
       "      <th></th>\n",
       "      <th>TV</th>\n",
       "      <th>Radio</th>\n",
       "      <th>Newspaper</th>\n",
       "      <th>Sales</th>\n",
       "    </tr>\n",
       "  </thead>\n",
       "  <tbody>\n",
       "    <tr>\n",
       "      <td>1</td>\n",
       "      <td>230.1</td>\n",
       "      <td>37.8</td>\n",
       "      <td>69.2</td>\n",
       "      <td>22.1</td>\n",
       "    </tr>\n",
       "    <tr>\n",
       "      <td>2</td>\n",
       "      <td>44.5</td>\n",
       "      <td>39.3</td>\n",
       "      <td>45.1</td>\n",
       "      <td>10.4</td>\n",
       "    </tr>\n",
       "    <tr>\n",
       "      <td>3</td>\n",
       "      <td>17.2</td>\n",
       "      <td>45.9</td>\n",
       "      <td>69.3</td>\n",
       "      <td>9.3</td>\n",
       "    </tr>\n",
       "    <tr>\n",
       "      <td>4</td>\n",
       "      <td>151.5</td>\n",
       "      <td>41.3</td>\n",
       "      <td>58.5</td>\n",
       "      <td>18.5</td>\n",
       "    </tr>\n",
       "    <tr>\n",
       "      <td>5</td>\n",
       "      <td>180.8</td>\n",
       "      <td>10.8</td>\n",
       "      <td>58.4</td>\n",
       "      <td>12.9</td>\n",
       "    </tr>\n",
       "  </tbody>\n",
       "</table>\n",
       "</div>"
      ],
      "text/plain": [
       "      TV  Radio  Newspaper  Sales\n",
       "1  230.1   37.8       69.2   22.1\n",
       "2   44.5   39.3       45.1   10.4\n",
       "3   17.2   45.9       69.3    9.3\n",
       "4  151.5   41.3       58.5   18.5\n",
       "5  180.8   10.8       58.4   12.9"
      ]
     },
     "execution_count": 1,
     "metadata": {},
     "output_type": "execute_result"
    }
   ],
   "source": [
    "import pandas as pd\n",
    "import numpy as np\n",
    "\n",
    "# ok, here we go again\n",
    "data = pd.read_csv('Advertising.csv', index_col=0)\n",
    "data.head()"
   ]
  },
  {
   "cell_type": "markdown",
   "metadata": {},
   "source": [
    "## Множественная линейная регрессия\n",
    "\n",
    "\n",
    "$y = \\beta_0 + \\beta_1x_1 + ... + \\beta_nx_n$\n",
    "\n",
    "Каждый $x$ представляет собой отдельный признак и имеет свой собственный коэффициент. В этом случае:\n",
    "\n",
    "$y = \\beta_0 + \\beta_1 \\times TV + \\beta_2 \\times Radio + \\beta_3 \\times Newspaper$\n"
   ]
  },
  {
   "cell_type": "markdown",
   "metadata": {},
   "source": [
    "### Оценка (\"обучение\") коэффициентов модели\n",
    "\n",
    "\n",
    "Вообще говоря, коэффициенты оцениваются с использованием **критерия наименьших квадратов**, что означает, что мы находим линию (математически), которая минимизирует **сумму квадратов остатков** (или «сумму квадратов ошибок»):\n",
    "\n",
    "<img src=\"images/08_estimating_coefficients.png\">\n",
    "\n",
    "Что изображено на схеме?\n",
    "- Черные точки - это **наблюдаемые значения** x и y.\n",
    "- Синяя линия - это наша **линия полученная при минимизации квадратов ошибок**.\n",
    "- Красные линии - это **остатки**, которые представляют собой расстояния между наблюдаемыми значениями и линией наименьших квадратов.\n",
    "\n",
    "Как коэффициенты модели соотносятся с линией наименьших квадратов?\n",
    "- $ \\ beta_0 $ - это **точка пересечения** (значение $ y $, когда $ x $ = 0)\n",
    "- $ \\ beta_1 $ - это **наклон** (изменение $ y $, деленное на изменение $ x $)\n",
    "\n",
    "Вот графическое изображение этих вычислений:\n",
    "\n",
    "<img src=\"images/08_slope_intercept.png\">"
   ]
  },
  {
   "cell_type": "markdown",
   "metadata": {},
   "source": [
    "## В этот раз все по-взрослому, нам нужна выборка для тестировния"
   ]
  },
  {
   "cell_type": "code",
   "execution_count": 2,
   "metadata": {},
   "outputs": [],
   "source": [
    "from sklearn.model_selection import train_test_split\n",
    "\n",
    "train_data, test_data = train_test_split(data, test_size=0.5, random_state=67)"
   ]
  },
  {
   "cell_type": "code",
   "execution_count": 3,
   "metadata": {},
   "outputs": [
    {
     "name": "stdout",
     "output_type": "stream",
     "text": [
      "(100, 4)\n"
     ]
    },
    {
     "data": {
      "text/html": [
       "<div>\n",
       "<style scoped>\n",
       "    .dataframe tbody tr th:only-of-type {\n",
       "        vertical-align: middle;\n",
       "    }\n",
       "\n",
       "    .dataframe tbody tr th {\n",
       "        vertical-align: top;\n",
       "    }\n",
       "\n",
       "    .dataframe thead th {\n",
       "        text-align: right;\n",
       "    }\n",
       "</style>\n",
       "<table border=\"1\" class=\"dataframe\">\n",
       "  <thead>\n",
       "    <tr style=\"text-align: right;\">\n",
       "      <th></th>\n",
       "      <th>TV</th>\n",
       "      <th>Radio</th>\n",
       "      <th>Newspaper</th>\n",
       "      <th>Sales</th>\n",
       "    </tr>\n",
       "  </thead>\n",
       "  <tbody>\n",
       "    <tr>\n",
       "      <td>186</td>\n",
       "      <td>205.0</td>\n",
       "      <td>45.1</td>\n",
       "      <td>19.6</td>\n",
       "      <td>22.6</td>\n",
       "    </tr>\n",
       "    <tr>\n",
       "      <td>6</td>\n",
       "      <td>8.7</td>\n",
       "      <td>48.9</td>\n",
       "      <td>75.0</td>\n",
       "      <td>7.2</td>\n",
       "    </tr>\n",
       "    <tr>\n",
       "      <td>84</td>\n",
       "      <td>68.4</td>\n",
       "      <td>44.5</td>\n",
       "      <td>35.6</td>\n",
       "      <td>13.6</td>\n",
       "    </tr>\n",
       "    <tr>\n",
       "      <td>83</td>\n",
       "      <td>75.3</td>\n",
       "      <td>20.3</td>\n",
       "      <td>32.5</td>\n",
       "      <td>11.3</td>\n",
       "    </tr>\n",
       "    <tr>\n",
       "      <td>104</td>\n",
       "      <td>187.9</td>\n",
       "      <td>17.2</td>\n",
       "      <td>17.9</td>\n",
       "      <td>14.7</td>\n",
       "    </tr>\n",
       "  </tbody>\n",
       "</table>\n",
       "</div>"
      ],
      "text/plain": [
       "        TV  Radio  Newspaper  Sales\n",
       "186  205.0   45.1       19.6   22.6\n",
       "6      8.7   48.9       75.0    7.2\n",
       "84    68.4   44.5       35.6   13.6\n",
       "83    75.3   20.3       32.5   11.3\n",
       "104  187.9   17.2       17.9   14.7"
      ]
     },
     "execution_count": 3,
     "metadata": {},
     "output_type": "execute_result"
    }
   ],
   "source": [
    "print(train_data.shape)\n",
    "train_data.head()"
   ]
  },
  {
   "cell_type": "code",
   "execution_count": 4,
   "metadata": {},
   "outputs": [
    {
     "name": "stdout",
     "output_type": "stream",
     "text": [
      "(100, 4)\n"
     ]
    },
    {
     "data": {
      "text/html": [
       "<div>\n",
       "<style scoped>\n",
       "    .dataframe tbody tr th:only-of-type {\n",
       "        vertical-align: middle;\n",
       "    }\n",
       "\n",
       "    .dataframe tbody tr th {\n",
       "        vertical-align: top;\n",
       "    }\n",
       "\n",
       "    .dataframe thead th {\n",
       "        text-align: right;\n",
       "    }\n",
       "</style>\n",
       "<table border=\"1\" class=\"dataframe\">\n",
       "  <thead>\n",
       "    <tr style=\"text-align: right;\">\n",
       "      <th></th>\n",
       "      <th>TV</th>\n",
       "      <th>Radio</th>\n",
       "      <th>Newspaper</th>\n",
       "      <th>Sales</th>\n",
       "    </tr>\n",
       "  </thead>\n",
       "  <tbody>\n",
       "    <tr>\n",
       "      <td>33</td>\n",
       "      <td>97.2</td>\n",
       "      <td>1.5</td>\n",
       "      <td>30.0</td>\n",
       "      <td>9.6</td>\n",
       "    </tr>\n",
       "    <tr>\n",
       "      <td>78</td>\n",
       "      <td>120.5</td>\n",
       "      <td>28.5</td>\n",
       "      <td>14.2</td>\n",
       "      <td>14.2</td>\n",
       "    </tr>\n",
       "    <tr>\n",
       "      <td>72</td>\n",
       "      <td>109.8</td>\n",
       "      <td>14.3</td>\n",
       "      <td>31.7</td>\n",
       "      <td>12.4</td>\n",
       "    </tr>\n",
       "    <tr>\n",
       "      <td>167</td>\n",
       "      <td>17.9</td>\n",
       "      <td>37.6</td>\n",
       "      <td>21.6</td>\n",
       "      <td>8.0</td>\n",
       "    </tr>\n",
       "    <tr>\n",
       "      <td>188</td>\n",
       "      <td>191.1</td>\n",
       "      <td>28.7</td>\n",
       "      <td>18.2</td>\n",
       "      <td>17.3</td>\n",
       "    </tr>\n",
       "  </tbody>\n",
       "</table>\n",
       "</div>"
      ],
      "text/plain": [
       "        TV  Radio  Newspaper  Sales\n",
       "33    97.2    1.5       30.0    9.6\n",
       "78   120.5   28.5       14.2   14.2\n",
       "72   109.8   14.3       31.7   12.4\n",
       "167   17.9   37.6       21.6    8.0\n",
       "188  191.1   28.7       18.2   17.3"
      ]
     },
     "execution_count": 4,
     "metadata": {},
     "output_type": "execute_result"
    }
   ],
   "source": [
    "print(test_data.shape)\n",
    "test_data.head()"
   ]
  },
  {
   "cell_type": "markdown",
   "metadata": {},
   "source": [
    "Нам нужно явно выделить наши признаки и таргет обучения. Давайте напишем несложную функцию и будем ее использовать:"
   ]
  },
  {
   "cell_type": "code",
   "execution_count": 5,
   "metadata": {},
   "outputs": [],
   "source": [
    "def get_features_and_taget(data, column):\n",
    "    return data.drop([column], axis=1).to_numpy(), data[column].to_numpy()"
   ]
  },
  {
   "cell_type": "code",
   "execution_count": 6,
   "metadata": {},
   "outputs": [],
   "source": [
    "X_train, Y_train = get_features_and_taget(train_data, \"Sales\")\n",
    "X_test, Y_test = get_features_and_taget(test_data, \"Sales\")"
   ]
  },
  {
   "cell_type": "code",
   "execution_count": 7,
   "metadata": {},
   "outputs": [
    {
     "data": {
      "text/plain": [
       "array([[205. ,  45.1,  19.6],\n",
       "       [  8.7,  48.9,  75. ],\n",
       "       [ 68.4,  44.5,  35.6],\n",
       "       [ 75.3,  20.3,  32.5],\n",
       "       [187.9,  17.2,  17.9],\n",
       "       [ 66.9,  11.7,  36.8],\n",
       "       [ 85.7,  35.8,  49.3],\n",
       "       [170.2,   7.8,  35.2],\n",
       "       [220.3,  49. ,   3.2],\n",
       "       [180.8,  10.8,  58.4],\n",
       "       [220.5,  33.2,  37.9],\n",
       "       [ 16.9,  43.7,  89.4],\n",
       "       [188.4,  18.1,  25.6],\n",
       "       [204.1,  32.9,  46. ],\n",
       "       [ 88.3,  25.5,  73.4],\n",
       "       [240.1,   7.3,   8.7],\n",
       "       [149.8,   1.3,  24.3],\n",
       "       [ 23.8,  35.1,  65.9],\n",
       "       [261.3,  42.7,  54.7],\n",
       "       [229.5,  32.3,  74.2],\n",
       "       [165.6,  10. ,  17.6],\n",
       "       [ 19.4,  16. ,  22.3],\n",
       "       [219.8,  33.5,  45.1],\n",
       "       [131.1,  42.8,  28.9],\n",
       "       [197.6,  23.3,  14.2],\n",
       "       [117.2,  14.7,   5.4],\n",
       "       [ 70.6,  16. ,  40.8],\n",
       "       [209.6,  20.6,  10.7],\n",
       "       [109.8,  47.8,  51.4],\n",
       "       [104.6,   5.7,  34.4],\n",
       "       [213.4,  24.6,  13.1],\n",
       "       [276.7,   2.3,  23.7],\n",
       "       [ 50. ,  11.6,  18.4],\n",
       "       [ 18.7,  12.1,  23.4],\n",
       "       [  8.6,   2.1,   1. ],\n",
       "       [171.3,  39.7,  37.7],\n",
       "       [289.7,  42.3,  51.2],\n",
       "       [250.9,  36.5,  72.3],\n",
       "       [237.4,   5.1,  23.5],\n",
       "       [136.2,  19.2,  16.6],\n",
       "       [296.4,  36.3, 100.9],\n",
       "       [286. ,  13.9,   3.7],\n",
       "       [ 74.7,  49.4,  45.7],\n",
       "       [ 75.5,  10.8,   6. ],\n",
       "       [248.4,  30.2,  20.3],\n",
       "       [ 44.5,  39.3,  45.1],\n",
       "       [ 89.7,   9.9,  35.7],\n",
       "       [199.1,  30.6,  38.7],\n",
       "       [ 69. ,   9.3,   0.9],\n",
       "       [ 18.8,  21.7,  50.4],\n",
       "       [110.7,  40.6,  63.2],\n",
       "       [134.3,   4.9,   9.3],\n",
       "       [193.7,  35.4,  75.6],\n",
       "       [ 25.1,  25.7,  43.3],\n",
       "       [284.3,  10.6,   6.4],\n",
       "       [ 76.4,  26.7,  22.3],\n",
       "       [210.7,  29.5,   9.3],\n",
       "       [  4.1,  11.6,   5.7],\n",
       "       [121. ,   8.4,  48.7],\n",
       "       [197.6,   3.5,   5.9],\n",
       "       [ 48.3,  47. ,   8.5],\n",
       "       [ 69.2,  20.5,  18.3],\n",
       "       [210.8,  49.6,  37.7],\n",
       "       [222.4,   3.4,  13.1],\n",
       "       [216.4,  41.7,  39.6],\n",
       "       [243.2,  49. ,  44.3],\n",
       "       [266.9,  43.8,   5. ],\n",
       "       [280.7,  13.9,  37. ],\n",
       "       [ 93.9,  43.5,  50.5],\n",
       "       [149.7,  35.6,   6. ],\n",
       "       [ 17.2,   4.1,  31.6],\n",
       "       [283.6,  42. ,  66.2],\n",
       "       [ 95.7,   1.4,   7.4],\n",
       "       [228. ,  37.7,  32. ],\n",
       "       [  7.8,  38.9,  50.6],\n",
       "       [253.8,  21.3,  30. ],\n",
       "       [147.3,  23.9,  19.1],\n",
       "       [142.9,  29.3,  12.6],\n",
       "       [293.6,  27.7,   1.8],\n",
       "       [265.6,  20. ,   0.3],\n",
       "       [168.4,   7.1,  12.8],\n",
       "       [225.8,   8.2,  56.5],\n",
       "       [198.9,  49.4,  60. ],\n",
       "       [131.7,  18.4,  34.6],\n",
       "       [ 56.2,   5.7,  29.7],\n",
       "       [107.4,  14. ,  10.9],\n",
       "       [163.5,  36.8,   7.4],\n",
       "       [218.5,   5.4,  27.4],\n",
       "       [238.2,  34.3,   5.3],\n",
       "       [228.3,  16.9,  26.2],\n",
       "       [166.8,  42. ,   3.6],\n",
       "       [175.1,  22.5,  31.5],\n",
       "       [ 13.2,  15.9,  49.6],\n",
       "       [290.7,   4.1,   8.5],\n",
       "       [ 28.6,   1.5,  33. ],\n",
       "       [273.7,  28.9,  59.7],\n",
       "       [120.2,  19.6,  11.6],\n",
       "       [177. ,   9.3,   6.4],\n",
       "       [182.6,  46.2,  58.7],\n",
       "       [139.3,  14.5,  10.2]])"
      ]
     },
     "execution_count": 7,
     "metadata": {},
     "output_type": "execute_result"
    }
   ],
   "source": [
    "X_train"
   ]
  },
  {
   "cell_type": "code",
   "execution_count": 8,
   "metadata": {},
   "outputs": [
    {
     "data": {
      "text/plain": [
       "array([22.6,  7.2, 13.6, 11.3, 14.7,  9.7, 13.3, 11.7, 24.7, 12.9, 20.1,\n",
       "        8.7, 14.9, 19. , 12.9, 13.2, 10.1,  9.2, 24.2, 19.7, 12.6,  6.6,\n",
       "       19.6, 18. , 16.6, 11.9, 10.5, 15.9, 16.7, 10.4, 17. , 11.8,  8.4,\n",
       "        6.7,  4.8, 19. , 25.4, 22.2, 12.5, 13.2, 23.8, 15.9, 14.7,  9.9,\n",
       "       20.2, 10.4, 10.6, 18.3,  9.3,  7. , 16. , 11.2, 19.2,  8.5, 15. ,\n",
       "       11.8, 18.4,  3.2, 11.6, 11.7, 11.6, 11.3, 23.8, 11.5, 22.6, 25.4,\n",
       "       25.4, 16.1, 15.3, 17.3,  5.9, 25.5,  9.5, 21.5,  6.6, 17.6, 14.6,\n",
       "       15. , 20.7, 17.4, 11.7, 13.4, 23.7, 12.9,  8.7, 11.5, 18. , 12.2,\n",
       "       20.7, 15.5, 19.6, 14.9,  5.6, 12.8,  7.3, 20.8, 13.2, 12.8, 21.2,\n",
       "       13.4])"
      ]
     },
     "execution_count": 8,
     "metadata": {},
     "output_type": "execute_result"
    }
   ],
   "source": [
    "Y_train"
   ]
  },
  {
   "cell_type": "markdown",
   "metadata": {},
   "source": [
    "Обучим лин регрессию:\n"
   ]
  },
  {
   "cell_type": "code",
   "execution_count": 9,
   "metadata": {},
   "outputs": [
    {
     "data": {
      "text/plain": [
       "LinearRegression(copy_X=True, fit_intercept=True, n_jobs=None,\n",
       "         normalize=False)"
      ]
     },
     "execution_count": 9,
     "metadata": {},
     "output_type": "execute_result"
    }
   ],
   "source": [
    "from sklearn.linear_model import LinearRegression\n",
    "\n",
    "model = LinearRegression()\n",
    "model.fit(X_train, Y_train)"
   ]
  },
  {
   "cell_type": "markdown",
   "metadata": {},
   "source": [
    "Посмотрим на ее качество:"
   ]
  },
  {
   "cell_type": "code",
   "execution_count": 10,
   "metadata": {},
   "outputs": [
    {
     "name": "stdout",
     "output_type": "stream",
     "text": [
      "Train R-squared Correlation 0.9059254619738741\n",
      "Test R-squared Correlation 0.8565565111381533\n"
     ]
    }
   ],
   "source": [
    "Y_train_prediced = model.predict(X_train)\n",
    "Y_test_prediced = model.predict(X_test)\n",
    "\n",
    "from sklearn.metrics import r2_score\n",
    "\n",
    "print(\"Train R-squared Correlation\", r2_score(Y_train_prediced, Y_train))\n",
    "print(\"Test R-squared Correlation\", r2_score(Y_test_prediced, Y_test))"
   ]
  },
  {
   "cell_type": "markdown",
   "metadata": {},
   "source": [
    "А теперь как настоящие машинлернеры давайте напишем фичи.\n",
    "\n",
    "Часто, чтобы выша модель могла давать лучшие прогнозы вам нужно добавить больше фичей, которые могли бы учесть некоторые зависимости в ваших данных. Например, добавив квадрат перемннной TV, мы сможем учесть часть нелинейной зависимости:"
   ]
  },
  {
   "cell_type": "code",
   "execution_count": 11,
   "metadata": {},
   "outputs": [
    {
     "name": "stdout",
     "output_type": "stream",
     "text": [
      "Train R-squared Correlation 0.9245602310435512\n",
      "Test R-squared Correlation 0.8910415134867766\n"
     ]
    }
   ],
   "source": [
    "data = pd.read_csv('Advertising.csv', index_col=0)\n",
    "\n",
    "data[\"TV_2\"] = np.power(data[\"TV\"], 2)\n",
    "\n",
    "train_data, test_data = train_test_split(data, test_size=0.5, random_state=67)\n",
    "\n",
    "\n",
    "X_train, Y_train = get_features_and_taget(train_data, \"Sales\")\n",
    "X_test, Y_test = get_features_and_taget(test_data, \"Sales\")\n",
    "\n",
    "model = LinearRegression()\n",
    "model.fit(X_train, Y_train)\n",
    "\n",
    "\n",
    "Y_train_prediced = model.predict(X_train)\n",
    "Y_test_prediced = model.predict(X_test)\n",
    "\n",
    "print(\"Train R-squared Correlation\", r2_score(Y_train_prediced, Y_train))\n",
    "print(\"Test R-squared Correlation\", r2_score(Y_test_prediced, Y_test))"
   ]
  },
  {
   "cell_type": "markdown",
   "metadata": {},
   "source": [
    "Кажется стало лучше. Так чего мелочиться, давайте напишем много фичей в цикле:"
   ]
  },
  {
   "cell_type": "code",
   "execution_count": 12,
   "metadata": {},
   "outputs": [
    {
     "data": {
      "text/html": [
       "<div>\n",
       "<style scoped>\n",
       "    .dataframe tbody tr th:only-of-type {\n",
       "        vertical-align: middle;\n",
       "    }\n",
       "\n",
       "    .dataframe tbody tr th {\n",
       "        vertical-align: top;\n",
       "    }\n",
       "\n",
       "    .dataframe thead th {\n",
       "        text-align: right;\n",
       "    }\n",
       "</style>\n",
       "<table border=\"1\" class=\"dataframe\">\n",
       "  <thead>\n",
       "    <tr style=\"text-align: right;\">\n",
       "      <th></th>\n",
       "      <th>TV</th>\n",
       "      <th>Radio</th>\n",
       "      <th>Newspaper</th>\n",
       "      <th>Sales</th>\n",
       "      <th>TV_3</th>\n",
       "      <th>Radio_3</th>\n",
       "      <th>Newspaper_3</th>\n",
       "      <th>TV_4</th>\n",
       "      <th>Radio_4</th>\n",
       "      <th>Newspaper_4</th>\n",
       "      <th>...</th>\n",
       "      <th>Newspaper_6</th>\n",
       "      <th>TV_7</th>\n",
       "      <th>Radio_7</th>\n",
       "      <th>Newspaper_7</th>\n",
       "      <th>TV_8</th>\n",
       "      <th>Radio_8</th>\n",
       "      <th>Newspaper_8</th>\n",
       "      <th>TV_9</th>\n",
       "      <th>Radio_9</th>\n",
       "      <th>Newspaper_9</th>\n",
       "    </tr>\n",
       "  </thead>\n",
       "  <tbody>\n",
       "    <tr>\n",
       "      <td>1</td>\n",
       "      <td>230.1</td>\n",
       "      <td>37.8</td>\n",
       "      <td>69.2</td>\n",
       "      <td>22.1</td>\n",
       "      <td>0.912256</td>\n",
       "      <td>0.945585</td>\n",
       "      <td>5.629734</td>\n",
       "      <td>0.884754</td>\n",
       "      <td>0.928113</td>\n",
       "      <td>10.014990</td>\n",
       "      <td>...</td>\n",
       "      <td>31.693909</td>\n",
       "      <td>8.071218e-01</td>\n",
       "      <td>0.877610</td>\n",
       "      <td>56.381736</td>\n",
       "      <td>7.827889e-01</td>\n",
       "      <td>0.861394</td>\n",
       "      <td>100.300034</td>\n",
       "      <td>7.591896e-01</td>\n",
       "      <td>0.845478</td>\n",
       "      <td>178.428291</td>\n",
       "    </tr>\n",
       "    <tr>\n",
       "      <td>2</td>\n",
       "      <td>44.5</td>\n",
       "      <td>39.3</td>\n",
       "      <td>45.1</td>\n",
       "      <td>10.4</td>\n",
       "      <td>-1.716690</td>\n",
       "      <td>1.269563</td>\n",
       "      <td>0.300196</td>\n",
       "      <td>2.055524</td>\n",
       "      <td>1.374692</td>\n",
       "      <td>0.201005</td>\n",
       "      <td>...</td>\n",
       "      <td>0.090118</td>\n",
       "      <td>-3.528697e+00</td>\n",
       "      <td>1.745258</td>\n",
       "      <td>0.060341</td>\n",
       "      <td>4.225178e+00</td>\n",
       "      <td>1.889779</td>\n",
       "      <td>0.040403</td>\n",
       "      <td>-5.059128e+00</td>\n",
       "      <td>2.046268</td>\n",
       "      <td>0.027053</td>\n",
       "    </tr>\n",
       "    <tr>\n",
       "      <td>3</td>\n",
       "      <td>17.2</td>\n",
       "      <td>45.9</td>\n",
       "      <td>69.3</td>\n",
       "      <td>9.3</td>\n",
       "      <td>-3.485225</td>\n",
       "      <td>3.570796</td>\n",
       "      <td>5.673550</td>\n",
       "      <td>5.284141</td>\n",
       "      <td>5.457831</td>\n",
       "      <td>10.119052</td>\n",
       "      <td>...</td>\n",
       "      <td>32.189169</td>\n",
       "      <td>-1.841642e+01</td>\n",
       "      <td>19.488801</td>\n",
       "      <td>57.410948</td>\n",
       "      <td>2.792215e+01</td>\n",
       "      <td>29.787918</td>\n",
       "      <td>102.395219</td>\n",
       "      <td>-4.233430e+01</td>\n",
       "      <td>45.529739</td>\n",
       "      <td>182.626854</td>\n",
       "    </tr>\n",
       "    <tr>\n",
       "      <td>4</td>\n",
       "      <td>151.5</td>\n",
       "      <td>41.3</td>\n",
       "      <td>58.5</td>\n",
       "      <td>18.5</td>\n",
       "      <td>0.000141</td>\n",
       "      <td>1.806287</td>\n",
       "      <td>2.128792</td>\n",
       "      <td>0.000007</td>\n",
       "      <td>2.199795</td>\n",
       "      <td>2.738489</td>\n",
       "      <td>...</td>\n",
       "      <td>4.531755</td>\n",
       "      <td>1.034967e-09</td>\n",
       "      <td>3.973461</td>\n",
       "      <td>5.829673</td>\n",
       "      <td>5.386971e-11</td>\n",
       "      <td>4.839099</td>\n",
       "      <td>7.499321</td>\n",
       "      <td>2.803901e-12</td>\n",
       "      <td>5.893320</td>\n",
       "      <td>9.647164</td>\n",
       "    </tr>\n",
       "    <tr>\n",
       "      <td>5</td>\n",
       "      <td>180.8</td>\n",
       "      <td>10.8</td>\n",
       "      <td>58.4</td>\n",
       "      <td>12.9</td>\n",
       "      <td>0.061248</td>\n",
       "      <td>-0.596126</td>\n",
       "      <td>2.106021</td>\n",
       "      <td>0.024143</td>\n",
       "      <td>0.501708</td>\n",
       "      <td>2.699502</td>\n",
       "      <td>...</td>\n",
       "      <td>4.435325</td>\n",
       "      <td>1.478697e-03</td>\n",
       "      <td>-0.299081</td>\n",
       "      <td>5.685208</td>\n",
       "      <td>5.828758e-04</td>\n",
       "      <td>0.251711</td>\n",
       "      <td>7.287310</td>\n",
       "      <td>2.297593e-04</td>\n",
       "      <td>-0.211843</td>\n",
       "      <td>9.340887</td>\n",
       "    </tr>\n",
       "    <tr>\n",
       "      <td>...</td>\n",
       "      <td>...</td>\n",
       "      <td>...</td>\n",
       "      <td>...</td>\n",
       "      <td>...</td>\n",
       "      <td>...</td>\n",
       "      <td>...</td>\n",
       "      <td>...</td>\n",
       "      <td>...</td>\n",
       "      <td>...</td>\n",
       "      <td>...</td>\n",
       "      <td>...</td>\n",
       "      <td>...</td>\n",
       "      <td>...</td>\n",
       "      <td>...</td>\n",
       "      <td>...</td>\n",
       "      <td>...</td>\n",
       "      <td>...</td>\n",
       "      <td>...</td>\n",
       "      <td>...</td>\n",
       "      <td>...</td>\n",
       "      <td>...</td>\n",
       "    </tr>\n",
       "    <tr>\n",
       "      <td>196</td>\n",
       "      <td>38.2</td>\n",
       "      <td>3.7</td>\n",
       "      <td>13.8</td>\n",
       "      <td>7.6</td>\n",
       "      <td>-2.052937</td>\n",
       "      <td>-2.305361</td>\n",
       "      <td>-0.458701</td>\n",
       "      <td>2.609161</td>\n",
       "      <td>3.045453</td>\n",
       "      <td>0.353758</td>\n",
       "      <td>...</td>\n",
       "      <td>0.210407</td>\n",
       "      <td>-5.356445e+00</td>\n",
       "      <td>-7.020870</td>\n",
       "      <td>-0.162269</td>\n",
       "      <td>6.807724e+00</td>\n",
       "      <td>9.274786</td>\n",
       "      <td>0.125145</td>\n",
       "      <td>-8.652212e+00</td>\n",
       "      <td>-12.252279</td>\n",
       "      <td>-0.096514</td>\n",
       "    </tr>\n",
       "    <tr>\n",
       "      <td>197</td>\n",
       "      <td>94.2</td>\n",
       "      <td>4.9</td>\n",
       "      <td>8.1</td>\n",
       "      <td>9.7</td>\n",
       "      <td>-0.234926</td>\n",
       "      <td>-1.906636</td>\n",
       "      <td>-1.104219</td>\n",
       "      <td>0.144957</td>\n",
       "      <td>2.364234</td>\n",
       "      <td>1.141319</td>\n",
       "      <td>...</td>\n",
       "      <td>1.219301</td>\n",
       "      <td>-3.405419e-02</td>\n",
       "      <td>-4.507734</td>\n",
       "      <td>-1.260267</td>\n",
       "      <td>2.101264e-02</td>\n",
       "      <td>5.589603</td>\n",
       "      <td>1.302610</td>\n",
       "      <td>-1.296554e-02</td>\n",
       "      <td>-6.931122</td>\n",
       "      <td>-1.346376</td>\n",
       "    </tr>\n",
       "    <tr>\n",
       "      <td>198</td>\n",
       "      <td>177.0</td>\n",
       "      <td>9.3</td>\n",
       "      <td>6.4</td>\n",
       "      <td>12.8</td>\n",
       "      <td>0.042805</td>\n",
       "      <td>-0.838292</td>\n",
       "      <td>-1.374490</td>\n",
       "      <td>0.014974</td>\n",
       "      <td>0.790425</td>\n",
       "      <td>1.528230</td>\n",
       "      <td>...</td>\n",
       "      <td>1.889222</td>\n",
       "      <td>6.409529e-04</td>\n",
       "      <td>-0.662607</td>\n",
       "      <td>-2.100536</td>\n",
       "      <td>2.242118e-04</td>\n",
       "      <td>0.624772</td>\n",
       "      <td>2.335486</td>\n",
       "      <td>7.843153e-05</td>\n",
       "      <td>-0.589097</td>\n",
       "      <td>-2.596715</td>\n",
       "    </tr>\n",
       "    <tr>\n",
       "      <td>199</td>\n",
       "      <td>283.6</td>\n",
       "      <td>42.0</td>\n",
       "      <td>66.2</td>\n",
       "      <td>25.5</td>\n",
       "      <td>4.054403</td>\n",
       "      <td>2.024868</td>\n",
       "      <td>4.417806</td>\n",
       "      <td>6.465009</td>\n",
       "      <td>2.561703</td>\n",
       "      <td>7.248958</td>\n",
       "      <td>...</td>\n",
       "      <td>19.517012</td>\n",
       "      <td>2.621175e+01</td>\n",
       "      <td>5.187110</td>\n",
       "      <td>32.024490</td>\n",
       "      <td>4.179634e+01</td>\n",
       "      <td>6.562324</td>\n",
       "      <td>52.547385</td>\n",
       "      <td>6.664700e+01</td>\n",
       "      <td>8.302137</td>\n",
       "      <td>86.222378</td>\n",
       "    </tr>\n",
       "    <tr>\n",
       "      <td>200</td>\n",
       "      <td>232.1</td>\n",
       "      <td>8.6</td>\n",
       "      <td>8.7</td>\n",
       "      <td>13.4</td>\n",
       "      <td>0.979756</td>\n",
       "      <td>-0.970786</td>\n",
       "      <td>-1.018045</td>\n",
       "      <td>0.973100</td>\n",
       "      <td>0.961238</td>\n",
       "      <td>1.024132</td>\n",
       "      <td>...</td>\n",
       "      <td>1.036416</td>\n",
       "      <td>9.534006e-01</td>\n",
       "      <td>-0.933157</td>\n",
       "      <td>-1.042613</td>\n",
       "      <td>9.469232e-01</td>\n",
       "      <td>0.923979</td>\n",
       "      <td>1.048847</td>\n",
       "      <td>9.404898e-01</td>\n",
       "      <td>-0.914892</td>\n",
       "      <td>-1.055118</td>\n",
       "    </tr>\n",
       "  </tbody>\n",
       "</table>\n",
       "<p>200 rows × 25 columns</p>\n",
       "</div>"
      ],
      "text/plain": [
       "        TV  Radio  Newspaper  Sales      TV_3   Radio_3  Newspaper_3  \\\n",
       "1    230.1   37.8       69.2   22.1  0.912256  0.945585     5.629734   \n",
       "2     44.5   39.3       45.1   10.4 -1.716690  1.269563     0.300196   \n",
       "3     17.2   45.9       69.3    9.3 -3.485225  3.570796     5.673550   \n",
       "4    151.5   41.3       58.5   18.5  0.000141  1.806287     2.128792   \n",
       "5    180.8   10.8       58.4   12.9  0.061248 -0.596126     2.106021   \n",
       "..     ...    ...        ...    ...       ...       ...          ...   \n",
       "196   38.2    3.7       13.8    7.6 -2.052937 -2.305361    -0.458701   \n",
       "197   94.2    4.9        8.1    9.7 -0.234926 -1.906636    -1.104219   \n",
       "198  177.0    9.3        6.4   12.8  0.042805 -0.838292    -1.374490   \n",
       "199  283.6   42.0       66.2   25.5  4.054403  2.024868     4.417806   \n",
       "200  232.1    8.6        8.7   13.4  0.979756 -0.970786    -1.018045   \n",
       "\n",
       "         TV_4   Radio_4  Newspaper_4  ...  Newspaper_6          TV_7  \\\n",
       "1    0.884754  0.928113    10.014990  ...    31.693909  8.071218e-01   \n",
       "2    2.055524  1.374692     0.201005  ...     0.090118 -3.528697e+00   \n",
       "3    5.284141  5.457831    10.119052  ...    32.189169 -1.841642e+01   \n",
       "4    0.000007  2.199795     2.738489  ...     4.531755  1.034967e-09   \n",
       "5    0.024143  0.501708     2.699502  ...     4.435325  1.478697e-03   \n",
       "..        ...       ...          ...  ...          ...           ...   \n",
       "196  2.609161  3.045453     0.353758  ...     0.210407 -5.356445e+00   \n",
       "197  0.144957  2.364234     1.141319  ...     1.219301 -3.405419e-02   \n",
       "198  0.014974  0.790425     1.528230  ...     1.889222  6.409529e-04   \n",
       "199  6.465009  2.561703     7.248958  ...    19.517012  2.621175e+01   \n",
       "200  0.973100  0.961238     1.024132  ...     1.036416  9.534006e-01   \n",
       "\n",
       "       Radio_7  Newspaper_7          TV_8    Radio_8  Newspaper_8  \\\n",
       "1     0.877610    56.381736  7.827889e-01   0.861394   100.300034   \n",
       "2     1.745258     0.060341  4.225178e+00   1.889779     0.040403   \n",
       "3    19.488801    57.410948  2.792215e+01  29.787918   102.395219   \n",
       "4     3.973461     5.829673  5.386971e-11   4.839099     7.499321   \n",
       "5    -0.299081     5.685208  5.828758e-04   0.251711     7.287310   \n",
       "..         ...          ...           ...        ...          ...   \n",
       "196  -7.020870    -0.162269  6.807724e+00   9.274786     0.125145   \n",
       "197  -4.507734    -1.260267  2.101264e-02   5.589603     1.302610   \n",
       "198  -0.662607    -2.100536  2.242118e-04   0.624772     2.335486   \n",
       "199   5.187110    32.024490  4.179634e+01   6.562324    52.547385   \n",
       "200  -0.933157    -1.042613  9.469232e-01   0.923979     1.048847   \n",
       "\n",
       "             TV_9    Radio_9  Newspaper_9  \n",
       "1    7.591896e-01   0.845478   178.428291  \n",
       "2   -5.059128e+00   2.046268     0.027053  \n",
       "3   -4.233430e+01  45.529739   182.626854  \n",
       "4    2.803901e-12   5.893320     9.647164  \n",
       "5    2.297593e-04  -0.211843     9.340887  \n",
       "..            ...        ...          ...  \n",
       "196 -8.652212e+00 -12.252279    -0.096514  \n",
       "197 -1.296554e-02  -6.931122    -1.346376  \n",
       "198  7.843153e-05  -0.589097    -2.596715  \n",
       "199  6.664700e+01   8.302137    86.222378  \n",
       "200  9.404898e-01  -0.914892    -1.055118  \n",
       "\n",
       "[200 rows x 25 columns]"
      ]
     },
     "execution_count": 12,
     "metadata": {},
     "output_type": "execute_result"
    }
   ],
   "source": [
    "data = pd.read_csv('Advertising.csv', index_col=0)\n",
    "\n",
    "from sklearn.preprocessing import scale\n",
    "\n",
    "for i in range(3, 10):\n",
    "    # we use scale to avoid numerical problems. Use values less then 20\n",
    "    data[f\"TV_{i}\"] = np.power(scale(data[\"TV\"]), i)\n",
    "    data[f\"Radio_{i}\"] = np.power(scale(data[\"Radio\"]), i)\n",
    "    data[f\"Newspaper_{i}\"] = np.power(scale(data[\"Newspaper\"]), i)\n",
    "    \n",
    "data"
   ]
  },
  {
   "cell_type": "code",
   "execution_count": 13,
   "metadata": {},
   "outputs": [
    {
     "name": "stdout",
     "output_type": "stream",
     "text": [
      "Train R-squared Correlation 0.9480301794050353\n",
      "Test R-squared Correlation 0.8019777848247578\n"
     ]
    }
   ],
   "source": [
    "train_data, test_data = train_test_split(data, test_size=0.5, random_state=67)\n",
    "\n",
    "\n",
    "X_train, Y_train = get_features_and_taget(train_data, \"Sales\")\n",
    "X_test, Y_test = get_features_and_taget(test_data, \"Sales\")\n",
    "\n",
    "model = LinearRegression()\n",
    "model.fit(X_train, Y_train)\n",
    "\n",
    "\n",
    "Y_train_prediced = model.predict(X_train)\n",
    "Y_test_prediced = model.predict(X_test)\n",
    "\n",
    "print(\"Train R-squared Correlation\", r2_score(Y_train_prediced, Y_train))\n",
    "print(\"Test R-squared Correlation\", r2_score(Y_test_prediced, Y_test))\n",
    "\n"
   ]
  },
  {
   "cell_type": "markdown",
   "metadata": {},
   "source": [
    "Как можно видеть ошибка на падает растет, а на трейне растет. Это называется **переобучение**\n",
    "\n",
    "![](https://miro.medium.com/max/875/1*_7OPgojau8hkiPUiHoGK_w.png)\n",
    "\n",
    "**optional**: Засуньте все выше в цикл и нарисуйте (import matplotlib.pyplot as plt) линии для трейна и теста с разными уровнями степени, а мы идем дальше\n"
   ]
  },
  {
   "cell_type": "markdown",
   "metadata": {},
   "source": [
    "### Материал для отличников труда (optional)\n",
    "\n",
    "Здесь стоит упомянуть про баланс между смещением и отклонением (переобучение и недообучение модели). Чтобы понять, что это, рассмотрим следующие определения и изображения ниже:\n",
    "\n",
    "* **Bias** (смещение) - это систематическая ошибка прогноза. Ключевым словом является **систематическая** ошибка (в наклоне **k**), а не локальная ошибка (остатки **y**). Вы можете думать о **bias** как о точности прогнозов, по сути, это матожидание разности между истинным ответом и выданным алгоритмом\n",
    "* **Variance** (разброс) - мера разброса нашего вектора весов оценок.\n",
    "\n",
    "Таким образом, разброс характеризует разнообразие алгоритмов (из-за случайности обучающей выборки, в том числе шума, и стохастической природы настройки), а смещение – способность модели алгоритмов настраиваться на целевую зависимость. \n",
    "\n",
    "\n",
    "![](https://alexanderdyakonov.files.wordpress.com/2018/04/bv_all.jpg)\n",
    "![](http://www.ebc.cat/wp-content/uploads/2017/02/right_fited_model-1024x623.png)"
   ]
  },
  {
   "cell_type": "markdown",
   "metadata": {},
   "source": [
    "# Теперь вообще серьезно. ну, практически\n",
    "\n",
    "Воспользуемся набором данных с признаками по недвижимости для предсказания ее стоимости с Kaggle: [House Prices: Advanced Regression Techniques](https://www.kaggle.com/c/house-prices-advanced-regression-techniques). Данные заранее разделены на обучающую (train) и тестовую (test) выборки. \n",
    "\n",
    "На самом деле выше, когда мы говорили про трейн и тест, мы немного упрощали картину мира. Вообще говоря тест обычно это наша с вами жизнь, а в случае соревнования он нам просто недоступен. Так что правильнее говорить, что есть 3 типа выборок: тренирововчная, валидационная и тестовая."
   ]
  },
  {
   "cell_type": "markdown",
   "metadata": {},
   "source": [
    "## 1. Предобработка данных <a name=data_prep>\n"
   ]
  },
  {
   "cell_type": "code",
   "execution_count": 44,
   "metadata": {},
   "outputs": [
    {
     "name": "stdout",
     "output_type": "stream",
     "text": [
      "Размер train: (1460, 80)\n",
      "Размер test: (1459, 79)\n"
     ]
    }
   ],
   "source": [
    "import warnings\n",
    "warnings.filterwarnings('ignore')\n",
    "\n",
    "train = pd.read_csv('./data/train.csv', index_col=0)\n",
    "test = pd.read_csv('./data/test.csv', index_col=0)\n",
    "print(f'Размер train: {train.shape}')\n",
    "print(f'Размер test: {test.shape}')"
   ]
  },
  {
   "cell_type": "markdown",
   "metadata": {},
   "source": [
    "В test количество колонок меньше на 1:"
   ]
  },
  {
   "cell_type": "code",
   "execution_count": 45,
   "metadata": {},
   "outputs": [
    {
     "data": {
      "text/plain": [
       "{'SalePrice'}"
      ]
     },
     "execution_count": 45,
     "metadata": {},
     "output_type": "execute_result"
    }
   ],
   "source": [
    "set(list(train.columns)) - set(list(test.columns))"
   ]
  },
  {
   "cell_type": "markdown",
   "metadata": {},
   "source": [
    "Тк в данном случае таргет мы имеет только для трейна, работать будем только с ним. Если хотите закомитить решение на кегл, проделайте те же самые опеерации с тестом"
   ]
  },
  {
   "cell_type": "markdown",
   "metadata": {},
   "source": [
    "Потому что цены домов в тесте неизвестны. Это наша таргетная (целевая) переменная. Полное описание всех 79 признаков в данных доступно в файле ```data_description.txt``` либо можно посмотреть на [Kaggle](https://www.kaggle.com/c/house-prices-advanced-regression-techniques/data)"
   ]
  },
  {
   "cell_type": "markdown",
   "metadata": {},
   "source": [
    "## Работа с данными"
   ]
  },
  {
   "cell_type": "markdown",
   "metadata": {},
   "source": [
    "### Чтобы улучшить качествоваших прогнозов можно немного пошаманить:\n",
    "\n",
    "1. Найти и удалить выбросы\n",
    "2. Заполнить пропущенные значения\n",
    "3. Придумать фичи"
   ]
  },
  {
   "cell_type": "markdown",
   "metadata": {},
   "source": [
    "### 1.1 Удаляем выбросы"
   ]
  },
  {
   "cell_type": "markdown",
   "metadata": {},
   "source": [
    "Удалим выбросы по признаку жилой площадью.  "
   ]
  },
  {
   "cell_type": "markdown",
   "metadata": {},
   "source": [
    "Значение z-score +/- 3 обычно рассматривается как выброс. Ну или на глаз :)"
   ]
  },
  {
   "cell_type": "code",
   "execution_count": 46,
   "metadata": {},
   "outputs": [
    {
     "name": "stdout",
     "output_type": "stream",
     "text": [
      "Было 1460, осталось 1444 наблюдения\n"
     ]
    }
   ],
   "source": [
    "from scipy import stats\n",
    "\n",
    "z_scores = stats.zscore(train['GrLivArea'])\n",
    "train['z_score'] = np.abs(z_scores)\n",
    "print('Было 1460, осталось', train[train.z_score < 3].shape[0], 'наблюдения')"
   ]
  },
  {
   "cell_type": "code",
   "execution_count": 47,
   "metadata": {
    "scrolled": false
   },
   "outputs": [
    {
     "data": {
      "image/png": "[encoded data removed]",
      "text/plain": [
       "<Figure size 1152x576 with 2 Axes>"
      ]
     },
     "metadata": {
      "needs_background": "light"
     },
     "output_type": "display_data"
    }
   ],
   "source": [
    "import matplotlib.pyplot as plt\n",
    "import seaborn as sns\n",
    "\n",
    "plt.figure(figsize=(16, 8))\n",
    "plt.subplot(1, 2, 1)\n",
    "sns.scatterplot(x=train['GrLivArea'], y=train['SalePrice'])\n",
    "plt.title('Исходные данные:\\nGrLivArea vs SalePrice')\n",
    "\n",
    "plt.subplot(1, 2, 2)\n",
    "sns.scatterplot(x=train[train.z_score < 3]['GrLivArea'], y=train['SalePrice'])\n",
    "plt.title('Без выбросов:\\nGrLivArea vs SalePrice')\n",
    "plt.tight_layout()"
   ]
  },
  {
   "cell_type": "code",
   "execution_count": 48,
   "metadata": {},
   "outputs": [],
   "source": [
    "train = train[train.z_score < 3]\n",
    "train.drop(columns='z_score', inplace=True)"
   ]
  },
  {
   "cell_type": "markdown",
   "metadata": {},
   "source": [
    "## 1.2 Посмотрим наличие пропущенных значений"
   ]
  },
  {
   "cell_type": "code",
   "execution_count": 49,
   "metadata": {},
   "outputs": [
    {
     "data": {
      "text/plain": [
       "MSSubClass         0\n",
       "MSZoning           0\n",
       "LotFrontage      257\n",
       "LotArea            0\n",
       "Street             0\n",
       "                ... \n",
       "MoSold             0\n",
       "YrSold             0\n",
       "SaleType           0\n",
       "SaleCondition      0\n",
       "SalePrice          0\n",
       "Length: 80, dtype: int64"
      ]
     },
     "execution_count": 49,
     "metadata": {},
     "output_type": "execute_result"
    }
   ],
   "source": [
    "train.isnull().sum()"
   ]
  },
  {
   "cell_type": "markdown",
   "metadata": {},
   "source": [
    "Колонок слишком много, можем обернуть результат в словарь и отсортировать по количеству пропусков по убыванию. "
   ]
  },
  {
   "cell_type": "code",
   "execution_count": 50,
   "metadata": {
    "scrolled": true
   },
   "outputs": [
    {
     "data": {
      "text/plain": [
       "[('PoolQC', 1440),\n",
       " ('MiscFeature', 1390),\n",
       " ('Alley', 1354),\n",
       " ('Fence', 1167),\n",
       " ('FireplaceQu', 689),\n",
       " ('LotFrontage', 257),\n",
       " ('GarageType', 80),\n",
       " ('GarageYrBlt', 80),\n",
       " ('GarageFinish', 80),\n",
       " ('GarageQual', 80),\n",
       " ('GarageCond', 80),\n",
       " ('BsmtExposure', 38),\n",
       " ('BsmtFinType2', 38),\n",
       " ('BsmtQual', 37),\n",
       " ('BsmtCond', 37),\n",
       " ('BsmtFinType1', 37),\n",
       " ('MasVnrType', 8),\n",
       " ('MasVnrArea', 8),\n",
       " ('Electrical', 1),\n",
       " ('MSSubClass', 0)]"
      ]
     },
     "execution_count": 50,
     "metadata": {},
     "output_type": "execute_result"
    }
   ],
   "source": [
    "sorted(dict(train.isnull().sum()).items(), key=lambda x: x[1], reverse=True)[:20]"
   ]
  },
  {
   "cell_type": "markdown",
   "metadata": {},
   "source": [
    "Взглянем на описание данных из документации, где рекомендованы разные стратегии по заполнению пропущенных значений:"
   ]
  },
  {
   "cell_type": "code",
   "execution_count": 51,
   "metadata": {},
   "outputs": [
    {
     "data": {
      "image/png": "[encoded data removed]",
      "text/plain": [
       "<IPython.core.display.Image object>"
      ]
     },
     "execution_count": 51,
     "metadata": {
      "image/png": {
       "height": 800,
       "width": 600
      }
     },
     "output_type": "execute_result"
    }
   ],
   "source": [
    "from IPython.display import Image\n",
    "Image(\"./data/data_desc.png\", height=800 , width=600)"
   ]
  },
  {
   "cell_type": "markdown",
   "metadata": {},
   "source": [
    "Заполним пропущенные значения в соответствии со стратегиями выше:"
   ]
  },
  {
   "cell_type": "code",
   "execution_count": 52,
   "metadata": {},
   "outputs": [],
   "source": [
    "cat_to_none = ('PoolQC', 'MiscFeature', 'Fence', 'Alley', 'FireplaceQu', 'GarageType', 'GarageFinish',\n",
    "              'GarageQual', 'GarageCond', 'BsmtQual', 'BsmtCond', 'BsmtExposure', 'BsmtFinType1',\n",
    "              'BsmtFinType2', 'MasVnrType', 'MSSubClass')\n",
    "    \n",
    "cat_to_mode = ('MSZoning', 'Functional', 'Electrical', 'KitchenQual', 'Exterior1st', 'Exterior2nd',\n",
    "              'Utilities', 'SaleType')\n",
    "\n",
    "num_to_zero = ('GarageArea', 'GarageCars', 'BsmtFinSF1', 'BsmtFinSF2', 'BsmtUnfSF', 'TotalBsmtSF',\n",
    "              'BsmtFullBath', 'BsmtHalfBath', 'GarageYrBlt', 'MasVnrArea')\n",
    "\n",
    "for col in cat_to_none:\n",
    "    train[col] = train[col].fillna('None')\n",
    "\n",
    "for col in cat_to_mode:\n",
    "    train[col] = train[col].fillna(train[col].mode()[0])\n",
    "    \n",
    "for col in num_to_zero:\n",
    "    train[col] = train[col].fillna(0)\n"
   ]
  },
  {
   "cell_type": "markdown",
   "metadata": {},
   "source": [
    "* По переменной **LotFrontage** нужен дополнительный анализ\n",
    "\n",
    "302/5000\n",
    "Поскольку LotFrontage - это расстояние до двора дома, мы можем сделать предположение, что оно зависит от района, в котором расположен дом. Таким образом, мы можем сгруппировать значения LotFrontage по признаку соседства и заменить отсутствующие значения на медианное расстояние LotFrontage по соседству."
   ]
  },
  {
   "cell_type": "code",
   "execution_count": 53,
   "metadata": {},
   "outputs": [],
   "source": [
    "train[\"LotFrontage\"] = train.groupby(\"Neighborhood\")[\"LotFrontage\"].transform(lambda x: x.fillna(x.median()))"
   ]
  },
  {
   "cell_type": "markdown",
   "metadata": {},
   "source": [
    "## 1.3 Добавим фичи\n",
    "\n",
    "![](https://i.pinimg.com/originals/80/b2/fe/80b2febe7af2b92dd3e8565110d507e7.jpg)\n",
    "\n",
    "\n"
   ]
  },
  {
   "cell_type": "markdown",
   "metadata": {},
   "source": [
    "Для примера \n",
    "* Пусть Total SF будет общий метраж дома"
   ]
  },
  {
   "cell_type": "code",
   "execution_count": 54,
   "metadata": {},
   "outputs": [],
   "source": [
    "train['Total_SF'] = (train['1stFlrSF'] + train['2ndFlrSF'] + \n",
    "                       + train['TotalBsmtSF'] + train['GarageArea'] + \n",
    "                       + train['GrLivArea'] + train['PoolArea'] + train['WoodDeckSF'])"
   ]
  },
  {
   "cell_type": "markdown",
   "metadata": {},
   "source": [
    "Вот вы написали уже свою первую \"фичу\", как настоящий машинлернер.\n",
    "\n",
    "PS: Осталось только выучить машинное обучение, чтобы понять, что в линейной регрессии данная фича не имеет пользы."
   ]
  },
  {
   "cell_type": "code",
   "execution_count": 55,
   "metadata": {},
   "outputs": [],
   "source": [
    "# HUGE tonn of features can be written here"
   ]
  },
  {
   "cell_type": "markdown",
   "metadata": {},
   "source": [
    "И еще: нужно сделать дамми переменные (см прошлый семинар)"
   ]
  },
  {
   "cell_type": "code",
   "execution_count": 56,
   "metadata": {},
   "outputs": [],
   "source": [
    "train = pd.get_dummies(train)"
   ]
  },
  {
   "cell_type": "markdown",
   "metadata": {},
   "source": [
    "## 2. Ridge и Lasso <a name=modeling>\n"
   ]
  },
  {
   "cell_type": "markdown",
   "metadata": {},
   "source": [
    "Начнем с обучения простой регрессии. Копипастнем код с прошлого датасета."
   ]
  },
  {
   "cell_type": "code",
   "execution_count": 57,
   "metadata": {},
   "outputs": [
    {
     "name": "stdout",
     "output_type": "stream",
     "text": [
      "Train R-squared Correlation 0.9554338949809773\n",
      "Test R-squared Correlation 0.8601855349350152\n"
     ]
    }
   ],
   "source": [
    "train_data, test_data = train_test_split(train, test_size=0.5, random_state=67)\n",
    "\n",
    "from sklearn.linear_model import ElasticNet, Lasso, Ridge, RidgeCV, LassoCV\n",
    "\n",
    "X_train, Y_train = get_features_and_taget(train_data, \"SalePrice\")\n",
    "X_test, Y_test = get_features_and_taget(test_data, \"SalePrice\")\n",
    "\n",
    "model = LinearRegression()\n",
    "model.fit(X_train, Y_train)\n",
    "\n",
    "\n",
    "Y_train_prediced = model.predict(X_train)\n",
    "Y_test_prediced = model.predict(X_test)\n",
    "\n",
    "print(\"Train R-squared Correlation\", r2_score(Y_train_prediced, Y_train))\n",
    "print(\"Test R-squared Correlation\", r2_score(Y_test_prediced, Y_test))"
   ]
  },
  {
   "cell_type": "markdown",
   "metadata": {},
   "source": [
    "А теперь давайте подумаем. **Что если у нас и так уже есть переобучение?**\n",
    "\n",
    "Можем ли мы как-то избежать его? Какие есть варианты? Есть ли общий подход? Есть!\n",
    "\n",
    "\n",
    "Обозначения:\n",
    "\n",
    "* $X$ - входные переменные (признаки)\n",
    "* $w$ - вектор весов. В простом однофакторном линейном уравнении это был наш коэффициент наклона. Мы пытаемся оценить наш вектор весов $w$ с помощью регрессии.\n",
    "* $y$ - значение целевой переменной. Оно равно скалярному произведению $w\\cdot X$. Оценка целевой переменной обозначается как $\\hat y$ \n",
    "* $\\lambda$ - гиперпараметр, определяющий силу штрафа.\n",
    "\n",
    "Чтобы повысить точность и обобщающую способность наших моделей, мы будем использовать регуляризацию (L1 или L2) в нашем уравнении регрессии. Регуляризация позволяет увеличить смещение и снизить разброс модели за счет увеличения значения штрафа - гиперпараметра $\\lambda$. \n",
    "\n",
    "* **Ridge (гребневая) регрессия:**\n",
    "\n",
    "Модель с штрафом L2, где сумма весов в квадрате добавляется к функции потерь МНК (OLS). При увеличении гиперпараметра $\\lambda$ гребневая регрессия добавляет в модель больше смещения, поэтому качество обучения на train будет не лучшим, но при этом постепенно достигается сокращение переобучения на тестовых данных. Гребневая регрессия минимизирует (за счет штрафа) вес нерелевантных признаков, но не зануляет их. Эта модель применяется для борьбы с избыточностью данных, когда независимые переменные коррелируют друг с другом, вследствие чего проявляется неустойчивость оценок коэффициентов многомерной линейной регрессии.\n",
    "\n",
    "$\\sum_{i=1}^{n}(y_i - \\hat y_i)^2 + \\lambda||w||^2$\n",
    "\n",
    "* **Lasso регрессия**:\n",
    "\n",
    "Модель со штрафом L1, где вместо квадратов в штрафе мы используем модуль. Сила регуляризации также увеличивается с увеличением $**\\lambda**$, однако Lasso в результате отбирает признаки, поскольку зануляет веса при нерелевантных. \n",
    "\n",
    "$\\sum_{i=1}^{n}(y_i - \\hat y_i)^2 + \\lambda||w||$\n",
    "\n",
    "* **Регрессия ElasticNet**: \n",
    "\n",
    "Это модель со штрафами $L2 + L1$, где  к функции потерь добавлены оба параметра регуляризации. Эта модель была введена для ограничения иногда неточного отбора признаков Lasso, когда релевантные признаки обнуляются. Добавление штрафа $L2$ в модель увеличивает шансы на сохранение важных признаков. Обычно в определении ElasticNet необходимо указывать соотношение $\\frac{L1}{L2}$, но чаще всего берут отношение $0.5$.\n",
    "\n",
    "$\\sum_{i=1}^{n}(y_i - \\hat y_i)^2 + \\lambda_{1}||w||^2 + \\lambda_{2}||w||$\n",
    "\n"
   ]
  },
  {
   "cell_type": "markdown",
   "metadata": {},
   "source": [
    "Давайте заиспользуем же готовые модули! Но, **тут важно приводить все признаки к одному масштабу**"
   ]
  },
  {
   "cell_type": "code",
   "execution_count": 58,
   "metadata": {},
   "outputs": [
    {
     "name": "stdout",
     "output_type": "stream",
     "text": [
      "Train R-squared Correlation 0.9549017510633893\n",
      "Test R-squared Correlation 0.8683273779402457\n"
     ]
    }
   ],
   "source": [
    "from sklearn.linear_model import ElasticNet, Lasso, Ridge\n",
    "from sklearn.preprocessing import StandardScaler\n",
    "\n",
    "train_data, test_data = train_test_split(train, test_size=0.5, random_state=67)\n",
    "\n",
    "X_train, Y_train = get_features_and_taget(train_data, \"SalePrice\")\n",
    "X_test, Y_test = get_features_and_taget(test_data, \"SalePrice\")\n",
    "\n",
    "scaler = StandardScaler()\n",
    "X_train = scaler.fit_transform(X_train)\n",
    "X_test = scaler.transform(X_test)\n",
    "\n",
    "\n",
    "model = Lasso(alpha=20.0) # just change me to any other model\n",
    "model.fit(X_train, Y_train)\n",
    "\n",
    "\n",
    "Y_train_prediced = model.predict(X_train)\n",
    "Y_test_prediced = model.predict(X_test)\n",
    "\n",
    "print(\"Train R-squared Correlation\", r2_score(Y_train_prediced, Y_train))\n",
    "print(\"Test R-squared Correlation\", r2_score(Y_test_prediced, Y_test))"
   ]
  },
  {
   "cell_type": "markdown",
   "metadata": {},
   "source": [
    "Стало лучше, а давайте подберем оптимальный параметр альфы!"
   ]
  },
  {
   "cell_type": "code",
   "execution_count": 59,
   "metadata": {
    "scrolled": false
   },
   "outputs": [
    {
     "data": {
      "application/vnd.jupyter.widget-view+json": {
       "model_id": "6d14a6b327c349e492f6a54b9b6c10a3",
       "version_major": 2,
       "version_minor": 0
      },
      "text/plain": [
       "HBox(children=(IntProgress(value=0), HTML(value='')))"
      ]
     },
     "metadata": {},
     "output_type": "display_data"
    },
    {
     "data": {
      "image/png": "[encoded data removed]",
      "text/plain": [
       "<Figure size 864x216 with 1 Axes>"
      ]
     },
     "metadata": {
      "needs_background": "light"
     },
     "output_type": "display_data"
    }
   ],
   "source": [
    "runs = []\n",
    "\n",
    "from tqdm import tqdm_notebook\n",
    "\n",
    "for alpha in tqdm_notebook(np.linspace(1, 2000, 100)):\n",
    "\n",
    "    model = Lasso(alpha=alpha) # change me between Ridge and Lasso\n",
    "    model.fit(X_train, Y_train)\n",
    "\n",
    "    Y_train_prediced = model.predict(X_train)\n",
    "    Y_test_prediced = model.predict(X_test)\n",
    "\n",
    "#     print(\"Alpha\", alpha)\n",
    "#     print(\"Train R-squared Correlation\", r2_score(Y_train_prediced, Y_train))\n",
    "#     print(\"Test R-squared Correlation\", r2_score(Y_test_prediced, Y_test))\n",
    "    \n",
    "    runs.append({\n",
    "        \"coef\": model.coef_,\n",
    "        \"train_score\": r2_score(Y_train_prediced, Y_train),\n",
    "        \"test_score\": r2_score(Y_test_prediced, Y_test),\n",
    "    })\n",
    "    \n",
    "    \n",
    "plt.figure(figsize=(12,3))\n",
    "plt.plot([run[\"train_score\"] for run in runs], label=\"train_score\")\n",
    "plt.plot([run[\"test_score\"] for run in runs], label=\"test_score\")\n",
    "plt.legend()\n",
    "plt.show()\n"
   ]
  },
  {
   "cell_type": "markdown",
   "metadata": {},
   "source": [
    "Теперь посмотрим как меняются кожэффициенты, при разных уровнях альфы, для ридж и для лассо"
   ]
  },
  {
   "cell_type": "code",
   "execution_count": 60,
   "metadata": {},
   "outputs": [
    {
     "data": {
      "application/vnd.jupyter.widget-view+json": {
       "model_id": "e59552b5e0214b0c93e7cb84fa04963c",
       "version_major": 2,
       "version_minor": 0
      },
      "text/plain": [
       "HBox(children=(IntProgress(value=0), HTML(value='')))"
      ]
     },
     "metadata": {},
     "output_type": "display_data"
    },
    {
     "data": {
      "image/png": "[encoded data removed]",
      "text/plain": [
       "<Figure size 864x216 with 1 Axes>"
      ]
     },
     "metadata": {
      "needs_background": "light"
     },
     "output_type": "display_data"
    }
   ],
   "source": [
    "runs = []\n",
    "\n",
    "from tqdm import tqdm_notebook\n",
    "\n",
    "for alpha in tqdm_notebook(np.linspace(1, 100000, 100)):\n",
    "\n",
    "    model = Lasso(alpha=alpha) # change me between Ridge and Lasso\n",
    "    model.fit(X_train, Y_train)\n",
    "\n",
    "    Y_train_prediced = model.predict(X_train)\n",
    "    Y_test_prediced = model.predict(X_test)\n",
    "\n",
    "#     print(\"Alpha\", alpha)\n",
    "#     print(\"Train R-squared Correlation\", r2_score(Y_train_prediced, Y_train))\n",
    "#     print(\"Test R-squared Correlation\", r2_score(Y_test_prediced, Y_test))\n",
    "    \n",
    "    runs.append({\n",
    "        \"coef\": model.coef_,\n",
    "        \"train_score\": r2_score(Y_train_prediced, Y_train),\n",
    "        \"test_score\": r2_score(Y_test_prediced, Y_test),\n",
    "    })\n",
    "    \n",
    "\n",
    "plt.figure(figsize=(12,3))\n",
    "plt.plot(np.array([run[\"coef\"] for run in runs]))\n",
    "plt.show()"
   ]
  },
  {
   "cell_type": "markdown",
   "metadata": {},
   "source": [
    "Материал для отличников: (optional)\n",
    "\n",
    "Почему так? Это не случайно!\n",
    "\n",
    "![](https://miro.medium.com/max/761/1*nrWncnoJ4V_BkzEf1pd4MA.png)"
   ]
  },
  {
   "cell_type": "markdown",
   "metadata": {},
   "source": [
    "### Еще немного визуализации\n",
    "\n",
    "Давайте постоим график лассо или ридж регрессии, с один предиктором"
   ]
  },
  {
   "cell_type": "code",
   "execution_count": 61,
   "metadata": {},
   "outputs": [
    {
     "data": {
      "image/png": "[encoded data removed]",
      "text/plain": [
       "<Figure size 864x288 with 1 Axes>"
      ]
     },
     "metadata": {
      "needs_background": "light"
     },
     "output_type": "display_data"
    }
   ],
   "source": [
    "FEATURE_INDEX = 1\n",
    "\n",
    "X, Y = get_features_and_taget(train, \"SalePrice\")\n",
    "\n",
    "X = X[:, [FEATURE_INDEX]]\n",
    "\n",
    "plt.figure(figsize=(12, 4))\n",
    "plt.scatter(X, Y, color = \"red\")\n",
    "for alpha in [0.1, 10000, 100000, 400000]: \n",
    "    model = Lasso(alpha=alpha)\n",
    "    model.fit(X, Y)\n",
    "    plt.plot(X, model.predict(X))\n",
    "\n",
    "plt.show()\n"
   ]
  },
  {
   "cell_type": "markdown",
   "metadata": {},
   "source": [
    "## 3. Кросс-валидация\n",
    " \n",
    " \n",
    "Предположим мы подобрали оптимальный параметр. **А что если мы разбили бы выборку по-другому?** Получился бы у нас другой оптимальный параметр? А давайте разобьем по-разному и подберем оптимальный параметр в среднем!"
   ]
  },
  {
   "cell_type": "markdown",
   "metadata": {},
   "source": [
    "**Кросс-валидация** (или скользящий контроль) — это процедура оценивания обобщающей способности модели, она бывает нескольких видов. Валидация на отложенных данных (**Hold-Out Validation**) - это когда мы один раз случайным образом делим выборку на train и test. \n",
    "Сегодня мы попробуем другой вид - **k-fold кросс-валидация**. \n",
    "\n",
    "1. Обучающая выборка разбивается на k непересекающихся одинаковых по объему частей;<br>\n",
    "2. Производится k итераций. На каждой итерации происходит следующее: <br>\n",
    "    2.1 Модель обучается на k−1 части обучающей выборки; <br>\n",
    "    2.2 Модель тестируется на части обучающей выборки, которая не участвовала в обучении.<br>\n",
    "\n",
    "Каждая из k частей единожды используется для тестирования. Как правило, k=10 (5 в случае малого размера выборки).\n",
    "\n",
    "![](https://long-short.pro/wp-content/uploads/sites/3/2013/06/crossvalidation.png)"
   ]
  },
  {
   "cell_type": "code",
   "execution_count": 62,
   "metadata": {},
   "outputs": [],
   "source": [
    "n_folds = 15\n",
    "\n",
    "# K-fold RMSE кросс-валидация\n",
    "def kfold_rmse(model):\n",
    "    kf = KFold(n_folds, shuffle=True, random_state=67).get_n_splits(X_train.values)\n",
    "    rmse = np.sqrt(-cross_val_score(model, X_train.values, y, scoring=\"neg_mean_squared_error\", cv=kf))\n",
    "    return(rmse)"
   ]
  },
  {
   "cell_type": "code",
   "execution_count": 63,
   "metadata": {},
   "outputs": [
    {
     "data": {
      "text/plain": [
       "{'fit_time': array([0.36500454, 0.31881666, 0.32299876, 0.31698155]),\n",
       " 'score_time': array([0.00060964, 0.00058556, 0.00058246, 0.00060558]),\n",
       " 'test_score': array([0.85386265, 0.84527892, 0.91011815, 0.8219018 ]),\n",
       " 'train_score': array([0.96401629, 0.96582542, 0.95903827, 0.96425995])}"
      ]
     },
     "execution_count": 63,
     "metadata": {},
     "output_type": "execute_result"
    }
   ],
   "source": [
    "from sklearn.model_selection import cross_validate\n",
    "\n",
    "model = Lasso(alpha=1)\n",
    "cv_results = cross_validate(model, X_train, Y_train, cv=4)\n",
    "cv_results"
   ]
  },
  {
   "cell_type": "code",
   "execution_count": null,
   "metadata": {},
   "outputs": [],
   "source": []
  },
  {
   "cell_type": "code",
   "execution_count": 64,
   "metadata": {},
   "outputs": [
    {
     "data": {
      "application/vnd.jupyter.widget-view+json": {
       "model_id": "d3707a27625c46578b01a6a48dec7042",
       "version_major": 2,
       "version_minor": 0
      },
      "text/plain": [
       "HBox(children=(IntProgress(value=0, max=25), HTML(value='')))"
      ]
     },
     "metadata": {},
     "output_type": "display_data"
    },
    {
     "name": "stdout",
     "output_type": "stream",
     "text": [
      "Alpha 1.0\n",
      "Train Score 0.9437175183291893\n",
      "Test Score 0.8976302760804686\n",
      "Alpha 84.29166666666667\n",
      "Train Score 0.9330358881917947\n",
      "Test Score 0.9101704326319706\n",
      "Alpha 167.58333333333334\n",
      "Train Score 0.9269893729150874\n",
      "Test Score 0.9092094750537798\n",
      "Alpha 250.875\n",
      "Train Score 0.9219966277404608\n",
      "Test Score 0.9057131787306332\n",
      "Alpha 334.1666666666667\n",
      "Train Score 0.9166724204267469\n",
      "Test Score 0.9008196133701614\n",
      "Alpha 417.45833333333337\n",
      "Train Score 0.9119467432174522\n",
      "Test Score 0.8963682008771459\n",
      "Alpha 500.75\n",
      "Train Score 0.9081390674556188\n",
      "Test Score 0.8931063076491506\n",
      "Alpha 584.0416666666667\n",
      "Train Score 0.9049752144869888\n",
      "Test Score 0.8904471073747282\n",
      "Alpha 667.3333333333334\n",
      "Train Score 0.9021122342511151\n",
      "Test Score 0.8879987869910221\n",
      "Alpha 750.625\n",
      "Train Score 0.8993084006248074\n",
      "Test Score 0.8854617454586804\n",
      "Alpha 833.9166666666667\n",
      "Train Score 0.8968611422478355\n",
      "Test Score 0.8832482895051386\n",
      "Alpha 917.2083333333334\n",
      "Train Score 0.8945268930588288\n",
      "Test Score 0.8810792817175686\n",
      "Alpha 1000.5\n",
      "Train Score 0.8922158194379345\n",
      "Test Score 0.8790336224895823\n",
      "Alpha 1083.7916666666667\n",
      "Train Score 0.8899163131461075\n",
      "Test Score 0.8769879714887957\n",
      "Alpha 1167.0833333333335\n",
      "Train Score 0.8878020699652831\n",
      "Test Score 0.8750517220934297\n",
      "Alpha 1250.375\n",
      "Train Score 0.885894929008821\n",
      "Test Score 0.8731975617068095\n",
      "Alpha 1333.6666666666667\n",
      "Train Score 0.883968259838722\n",
      "Test Score 0.8713199329276919\n",
      "Alpha 1416.9583333333335\n",
      "Train Score 0.8819257948877411\n",
      "Test Score 0.8693081407028307\n",
      "Alpha 1500.25\n",
      "Train Score 0.8797978357182115\n",
      "Test Score 0.8672196600980575\n",
      "Alpha 1583.5416666666667\n",
      "Train Score 0.8776185762416543\n",
      "Test Score 0.8650753484886605\n",
      "Alpha 1666.8333333333335\n",
      "Train Score 0.8753741734103369\n",
      "Test Score 0.8628851578915709\n",
      "Alpha 1750.125\n",
      "Train Score 0.8732193244810319\n",
      "Test Score 0.8608201568338392\n",
      "Alpha 1833.4166666666667\n",
      "Train Score 0.8710690764939182\n",
      "Test Score 0.8587130381737511\n",
      "Alpha 1916.7083333333335\n",
      "Train Score 0.8690008281065703\n",
      "Test Score 0.8567079290784062\n",
      "Alpha 2000.0\n",
      "Train Score 0.8670353877611913\n",
      "Test Score 0.8548233984246019\n"
     ]
    }
   ],
   "source": [
    "runs = []\n",
    "\n",
    "from tqdm import tqdm_notebook\n",
    "\n",
    "X, Y = get_features_and_taget(train, \"SalePrice\")\n",
    "\n",
    "for alpha in tqdm_notebook(np.linspace(1, 2000, 25)):\n",
    "\n",
    "    model = Lasso(alpha=alpha) # change me between Ridge and Lasso\n",
    "    cv_results = cross_validate(model, X, Y, cv=4)\n",
    "\n",
    "    print(\"Alpha\", alpha)\n",
    "    print(\"Train Score\", cv_results['train_score'].mean())\n",
    "    print(\"Test Score\", cv_results['test_score'].mean())\n"
   ]
  },
  {
   "cell_type": "markdown",
   "metadata": {},
   "source": [
    "# 3. Рекомендуем посмотреть <a name=recoms>\n",
    "    \n",
    "1. [Kaggle. Ridge,Lasso, ElasticNet Regressions Explained](https://www.kaggle.com/fugacity/ridge-lasso-elasticnet-regressions-explained)\n",
    "2. [Анализ малых данных (блог А.Дьяконова). Разброс и смещение](https://dyakonov.org/2018/04/25/%D1%81%D0%BC%D0%B5%D1%89%D0%B5%D0%BD%D0%B8%D0%B5-bias-%D0%B8-%D1%80%D0%B0%D0%B7%D0%B1%D1%80%D0%BE%D1%81-variance-%D0%BC%D0%BE%D0%B4%D0%B5%D0%BB%D0%B8-%D0%B0%D0%BB%D0%B3%D0%BE%D1%80%D0%B8%D1%82/)\n",
    "\n",
    "Youtube видео с визуализациями:\n",
    "\n",
    "* [Ridge Regression](https://www.youtube.com/watch?v=Q81RR3yKn30)\n",
    "\n",
    "* [Lasso Regression](https://www.youtube.com/watch?v=NGf0voTMlcs)\n",
    "\n",
    "* [Ridge vs Lasso Regression visualized](https://www.youtube.com/watch?v=Xm2C_gTAl8c&ab_channel=StatQuestwithJoshStarmer)"
   ]
  },
  {
   "cell_type": "code",
   "execution_count": null,
   "metadata": {},
   "outputs": [],
   "source": []
  }
 ],
 "metadata": {
  "kernelspec": {
   "display_name": "Python 3",
   "language": "python",
   "name": "python3"
  },
  "language_info": {
   "codemirror_mode": {
    "name": "ipython",
    "version": 3
   },
   "file_extension": ".py",
   "mimetype": "text/x-python",
   "name": "python",
   "nbconvert_exporter": "python",
   "pygments_lexer": "ipython3",
   "version": "3.6.9"
  }
 },
 "nbformat": 4,
 "nbformat_minor": 1
}
